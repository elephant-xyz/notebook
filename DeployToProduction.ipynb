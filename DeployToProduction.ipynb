{
  "nbformat": 4,
  "nbformat_minor": 0,
  "metadata": {
    "colab": {
      "provenance": [],
      "authorship_tag": "ABX9TyPZQZP6Qt6cS1UENTjfS/GF",
      "include_colab_link": true
    },
    "kernelspec": {
      "name": "python3",
      "display_name": "Python 3"
    },
    "language_info": {
      "name": "python"
    }
  },
  "cells": [
    {
      "cell_type": "markdown",
      "metadata": {
        "id": "view-in-github",
        "colab_type": "text"
      },
      "source": [
        "<a href=\"https://colab.research.google.com/github/elephant-xyz/notebook/blob/main/DeployToProduction.ipynb\" target=\"_parent\"><img src=\"https://colab.research.google.com/assets/colab-badge.svg\" alt=\"Open In Colab\"/></a>"
      ]
    },
    {
      "cell_type": "markdown",
      "source": [
        "## 📥 Step 1: Upload the `.env` File\n",
        "\n",
        "This notebook requires a `.env` file containing your API keys and credentials. Create a file with the following environment variables:\n",
        "\n",
        "| Variable Name | Purpose |\n",
        "|---|---|\n",
        "| `OPENAI_API_KEY` | Access to OpenAI API |\n",
        "| `AWS_ACCESS_KEY_ID` | AWS access key |\n",
        "| `AWS_SECRET_ACCESS_KEY` | AWS secret access key |\n",
        "| `AWS_DEFAULT_REGION` | AWS REGION |\n",
        "| `S3_BUCKET_NAME` | Your S3 bucket name |\n",
        "| `IMAGE_FOLDER_NAME` | Image directory |\n",
        "| `IMAGES_DIR` | Directory path for images |\n",
        "| `ELEPHANT_PRIVATE_KEY` | Elephant wallet private key |\n",
        "| `PINATA_JWT` | Pinata authentication token |\n",
        "|`NETLIFY_SITE_ID` | Netlify project ID |\n",
        "|`NETLIFY_TOKEN` | Netlify token |\n",
        "\n",
        "### To upload:\n",
        "1. Click the **folder icon** 📂 in the left sidebar\n",
        "2. Click the **\"Upload\"** button\n",
        "3. Select your `.env` file\n",
        "\n",
        "### Example `.env` file:\n",
        "```env\n",
        "OPENAI_API_KEY=sk-XXXXXXXXXXXXXXXXXXXXXXXXXXXX\n",
        "AWS_ACCESS_KEY_ID=XXXXXX\n",
        "AWS_SECRET_ACCESS_KEY=XXXXXX\n",
        "S3_BUCKET_NAME=your-s3-bucket-name-here\n",
        "IMAGES_DIR=images\n",
        "IMAGE_FOLDER_NAME=images\n",
        "ELEPHANT_PRIVATE_KEY=xxxxx\n",
        "PINATA_JWT=xxxxx\n",
        "NETLIFY_SITE_ID=xxxxx\n",
        "NETLIFY_TOKEN=xxxxxxxx\n",
        "\n",
        "```\n",
        "\n",
        "> ⚠️ **Security Note:** Never commit your `.env` file to version control or share it publicly.\n"
      ],
      "metadata": {
        "id": "BWgrVSKltoZ_"
      }
    },
    {
      "cell_type": "markdown",
      "source": [
        "## Step 2: Upload upload-results.csv\n",
        "\n",
        "Upload the upload-results.csv file from any step that you want to push the HTML to production.\n",
        "\n",
        "👉 Make sure to upload it to the content/ folder. This is required for the production pipeline to pick it up properly.\n"
      ],
      "metadata": {
        "id": "WowE6J5X1ISt"
      }
    },
    {
      "cell_type": "code",
      "source": [
        "!ls -la /content/upload-results.csv"
      ],
      "metadata": {
        "id": "OUf3GCoL2B47"
      },
      "execution_count": null,
      "outputs": []
    },
    {
      "cell_type": "markdown",
      "source": [],
      "metadata": {
        "id": "r1l9CdK6umie"
      }
    },
    {
      "cell_type": "markdown",
      "source": [
        "## Step 3 Set up to be able to deploy to production\n"
      ],
      "metadata": {
        "id": "0-dyyypX2gPQ"
      }
    },
    {
      "cell_type": "code",
      "execution_count": null,
      "metadata": {
        "id": "fjkCk6-ztbLg"
      },
      "outputs": [],
      "source": [
        "%%bash\n",
        "\n",
        "# Elephant Fact Sheet Template Installer (Silent)\n",
        "set -e  # Exit on any error\n",
        "\n",
        "INSTALL_DIR=\"${HOME}/.elephant-fact-sheet\"\n",
        "BIN_DIR=\"${HOME}/.local/bin\"\n",
        "STATIC_TARGET_DIR=\"$BIN_DIR/templates/assets/static\"\n",
        "TEST=\"/content/templates/assets/static\"\n",
        "\n",
        "# Check Node.js version\n",
        "if ! command -v node &> /dev/null; then\n",
        "    exit 1\n",
        "fi\n",
        "\n",
        "NODE_VERSION=$(node -v | cut -d'v' -f2 | cut -d'.' -f1)\n",
        "if [ \"$NODE_VERSION\" -lt 18 ]; then\n",
        "    exit 1\n",
        "fi\n",
        "\n",
        "# Check npm\n",
        "if ! command -v npm &> /dev/null; then\n",
        "    exit 1\n",
        "fi\n",
        "\n",
        "# Clean up any existing installation\n",
        "rm -rf \"$INSTALL_DIR\"\n",
        "\n",
        "# Clone repo silently\n",
        "git clone --quiet https://github.com/elephant-xyz/fact-sheet-template.git \"$INSTALL_DIR\"\n",
        "\n",
        "cd \"$INSTALL_DIR\"\n",
        "\n",
        "# Silent npm install and build\n",
        "npm install --silent --no-audit --no-fund > /dev/null 2>&1\n",
        "npm run build --silent > /dev/null 2>&1\n",
        "\n",
        "# Setup directories and copy assets\n",
        "mkdir -p \"$BIN_DIR\" \"$STATIC_TARGET_DIR\" \"$TEST\"\n",
        "cp -r \"$INSTALL_DIR/templates/assets/static/\"* \"$STATIC_TARGET_DIR\"\n",
        "cp -r \"$INSTALL_DIR/templates/assets/static/\"* \"$TEST\"\n",
        "\n",
        "# Link and make executable\n",
        "ln -sf \"$INSTALL_DIR/bin/fact-sheet.js\" \"$BIN_DIR/fact-sheet\"\n",
        "chmod +x \"$INSTALL_DIR/bin/fact-sheet.js\""
      ]
    },
    {
      "cell_type": "markdown",
      "source": [
        "## Step 2"
      ],
      "metadata": {
        "id": "K_0ZUS0EuS8-"
      }
    },
    {
      "cell_type": "code",
      "source": [],
      "metadata": {
        "id": "EKjwdWFRt0e4"
      },
      "execution_count": null,
      "outputs": []
    }
  ]
}