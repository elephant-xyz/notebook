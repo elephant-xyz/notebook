{
  "nbformat": 4,
  "nbformat_minor": 0,
  "metadata": {
    "colab": {
      "provenance": [],
      "include_colab_link": true
    },
    "kernelspec": {
      "name": "python3",
      "display_name": "Python 3"
    },
    "language_info": {
      "name": "python"
    }
  },
  "cells": [
    {
      "cell_type": "markdown",
      "metadata": {
        "id": "view-in-github",
        "colab_type": "text"
      },
      "source": [
        "<a href=\"https://colab.research.google.com/github/elephant-xyz/notebook/blob/main/Step_2_Seeding.ipynb\" target=\"_parent\"><img src=\"https://colab.research.google.com/assets/colab-badge.svg\" alt=\"Open In Colab\"/></a>"
      ]
    },
    {
      "cell_type": "markdown",
      "source": [
        "# Welcome to the Elephant Oracle Notebook\n",
        "\n",
        "You've completed the setup and are ready to submit real estate data to the Elephant protocol. This notebook will transform your seed data into validated, blockchain-ready submissions.\n"
      ],
      "metadata": {
        "id": "ymU63KRRBDKO"
      }
    },
    {
      "cell_type": "code",
      "source": [
        "# @title Step 1: Please enter your property parcel ID, address and request used to get this property (you can add as much as needed just insert property information then run the cell)\n",
        "import os\n",
        "parcel_id = \"\" # @param {\"type\":\"string\"}\n",
        "address = \"\" # @param {\"type\":\"string\"}\n",
        "request_method = \"\" # @param {\"type\":\"string\"}\n",
        "url = \"\" # @param {\"type\":\"string\"}\n",
        "County = \"\" # @param {\"type\":\"string\"}\n",
        "headers = \"\" # @param {\"type\":\"string\"}\n",
        "\n",
        "os.environ[\"parcel_id\"] = parcel_id\n",
        "os.environ[\"address\"] = address\n",
        "os.environ[\"request_method\"] = request_method\n",
        "os.environ[\"url\"] = url\n",
        "os.environ[\"County\"] = County\n",
        "os.environ[\"headers\"] = headers\n",
        "\n",
        "\n",
        "import json\n",
        "import os\n",
        "import re\n",
        "import sys\n",
        "from urllib.parse import urlparse, parse_qs\n",
        "\n",
        "# Get data from Step 2 environment variables\n",
        "parcel_id = os.environ.get(\"parcel_id\", \"\")\n",
        "address = os.environ.get(\"address\", \"\")\n",
        "request_method = os.environ.get(\"request_method\", \"\")\n",
        "url = os.environ.get(\"url\", \"\")\n",
        "county = os.environ.get(\"County\", \"\")\n",
        "headers = os.environ.get(\"headers\", \"\")\n",
        "\n",
        "\n",
        "def is_empty_value(value):\n",
        "    \"\"\"Check if value is empty or None\"\"\"\n",
        "    if value is None:\n",
        "        return True\n",
        "    if isinstance(value, str) and value.strip() == \"\":\n",
        "        return True\n",
        "    return False\n",
        "\n",
        "def ensure_directory(file_path):\n",
        "    \"\"\"Ensure the directory for the file exists\"\"\"\n",
        "    directory = os.path.dirname(file_path)\n",
        "    if directory and not os.path.exists(directory):\n",
        "        os.makedirs(directory)\n",
        "\n",
        "def extract_query_params_and_base_url(url):\n",
        "    \"\"\"Extract query parameters and base URL separately\"\"\"\n",
        "    if is_empty_value(url):\n",
        "        return None, None\n",
        "\n",
        "    try:\n",
        "        parsed_url = urlparse(url)\n",
        "\n",
        "        # Base URL without query parameters\n",
        "        base_url = f\"{parsed_url.scheme}://{parsed_url.netloc}{parsed_url.path}\"\n",
        "\n",
        "        # Query parameters as multiValueQueryString format (object of arrays)\n",
        "        query_params = parse_qs(parsed_url.query)\n",
        "        multi_value_query = dict(query_params) if query_params else None\n",
        "\n",
        "        return base_url, multi_value_query\n",
        "    except Exception as e:\n",
        "        print(f\"Warning: Could not parse URL: {e}\")\n",
        "        return url, None\n",
        "\n",
        "def create_parcel_folder(parcel_id, address, method, url, county, headers):\n",
        "    # Create folder name based on parcel_id\n",
        "    clean_parcel_id = re.sub(r\"[^\\w\\-_]\", \"_\", str(parcel_id))\n",
        "    folder_name = f\"output/{clean_parcel_id}\"\n",
        "    ensure_directory(folder_name + \"/\")\n",
        "\n",
        "    # Extract base URL and query parameters separately\n",
        "    base_url, multi_value_query = extract_query_params_and_base_url(url)\n",
        "\n",
        "    # Create unnormalized_address.json\n",
        "    unnormalized_address_data = {\n",
        "        \"full_address\": address if not is_empty_value(address) else None,\n",
        "        \"source_http_request\": {\n",
        "            \"method\": method if not is_empty_value(method) else None,\n",
        "            \"url\": base_url if not is_empty_value(base_url) else None,\n",
        "            \"multiValueQueryString\": multi_value_query\n",
        "        },\n",
        "        \"county_jurisdiction\": county if not is_empty_value(county) else None,\n",
        "        \"request_identifier\": parcel_id if not is_empty_value(parcel_id) else None,\n",
        "    }\n",
        "    if headers and not is_empty_value(headers):\n",
        "        unnormalized_address_data[\"source_http_request\"][\"headers\"] = headers\n",
        "\n",
        "    # Create property_seed.json\n",
        "    property_seed_data = {\n",
        "        \"parcel_id\": parcel_id if not is_empty_value(parcel_id) else None,\n",
        "        \"source_http_request\": {\n",
        "            \"method\": method if not is_empty_value(method) else None,\n",
        "            \"url\": base_url if not is_empty_value(base_url) else None,\n",
        "            \"multiValueQueryString\": multi_value_query\n",
        "        },\n",
        "        \"request_identifier\": parcel_id if not is_empty_value(parcel_id) else None,\n",
        "    }\n",
        "    if headers and not is_empty_value(headers):\n",
        "        property_seed_data[\"source_http_request\"][\"headers\"] = headers\n",
        "\n",
        "    # Create relationship_property_to_address.json\n",
        "    relationship_data = {\n",
        "        \"from\": {\"/\": \"./property_seed.json\"},\n",
        "        \"to\": {\"/\": \"./unnormalized_address.json\"}\n",
        "    }\n",
        "\n",
        "    # Create root schema\n",
        "    root_schema = {\n",
        "        \"label\": \"Seed\",\n",
        "        \"relationships\": {\"property_seed\": {\"/\": \"./relationship_property_to_address.json\"}},\n",
        "    }\n",
        "\n",
        "    # Write all JSON files\n",
        "    files_to_create = [\n",
        "        (f\"{folder_name}/unnormalized_address.json\", unnormalized_address_data),\n",
        "        (f\"{folder_name}/property_seed.json\", property_seed_data),\n",
        "        (f\"{folder_name}/relationship_property_to_address.json\", relationship_data),\n",
        "        (f\"{folder_name}/bafkreif7ywbjxu3s6jfi6ginvmsufeux3cd5eujuivg2y7tmqt2qk4rsoe.json\", root_schema),\n",
        "    ]\n",
        "\n",
        "    for filename, data_obj in files_to_create:\n",
        "        with open(filename, \"w\", encoding=\"utf-8\") as f:\n",
        "            json.dump(data_obj, f, indent=2, ensure_ascii=False)\n",
        "\n",
        "    return folder_name, unnormalized_address_data, property_seed_data\n",
        "\n",
        "def process_input_data():\n",
        "    try:\n",
        "        # Validate required data\n",
        "        if is_empty_value(parcel_id):\n",
        "            print(\"❌ Error: parcel_id is required but not provided\")\n",
        "            return\n",
        "\n",
        "        # Show extracted URL components\n",
        "        base_url, multi_value_query = extract_query_params_and_base_url(url)\n",
        "\n",
        "        # Create parcel folder and files\n",
        "        folder_name, address_data, property_data = create_parcel_folder(\n",
        "            parcel_id, address, request_method, url, county, headers\n",
        "        )\n",
        "\n",
        "        print(f\"\\n✅ property with parcel {parcel_id} added successfully\")\n",
        "\n",
        "    except Exception as e:\n",
        "        print(f\"❌ Error processing input data: {e}\")\n",
        "        import traceback\n",
        "        traceback.print_exc()\n",
        "\n",
        "# Process the input data\n",
        "process_input_data()"
      ],
      "metadata": {
        "cellView": "form",
        "id": "poWZ3I6pcFuN"
      },
      "execution_count": null,
      "outputs": []
    },
    {
      "cell_type": "markdown",
      "source": [
        "## Step 2: Upload .env file\n",
        "\n",
        "\n",
        "| Variable Name           | Purpose                     |\n",
        "|-------------------------|-----------------------------|\n",
        "| `PINATA_JWT`     | Access to pinata key              |\n",
        "\n",
        "\n",
        "- Click the **folder icon** 📂 in the left sidebar to open the file browser.\n",
        "- Then click the **\"Upload\"** button and choose your `.env` file.\n",
        "\n",
        "```env\n",
        "# example of .env file\n",
        "PINATA_JWT=xxxxx\n",
        "```\n"
      ],
      "metadata": {
        "id": "biGoVhci_XPp"
      }
    },
    {
      "cell_type": "code",
      "source": [
        "# @title Step 3: Run to upload your files to the IPFS\n",
        "! pip3 install python-dotenv\n",
        "from dotenv import load_dotenv\n",
        "import os\n",
        "load_dotenv()\n",
        "!npx -y @elephant-xyz/cli validate-and-upload output"
      ],
      "metadata": {
        "id": "_d6lTNn0Zefx",
        "collapsed": true,
        "cellView": "form"
      },
      "execution_count": null,
      "outputs": []
    },
    {
      "cell_type": "markdown",
      "source": [
        "## Step 4: Submitting Your Data to the Blockchain\n",
        "\n",
        "Once complete, your data is permanently recorded on the blockchain. You'll receive vMahout tokens as rewards after consensus is reached (when 3 different oracles submit matching data hashes)."
      ],
      "metadata": {
        "id": "8CYSslk1Zx1-"
      }
    },
    {
      "cell_type": "code",
      "source": [
        "!npx -y @elephant-xyz/cli submit-to-contract upload-results.csv"
      ],
      "metadata": {
        "id": "hkMq9hFt0RTN"
      },
      "execution_count": null,
      "outputs": []
    },
    {
      "cell_type": "markdown",
      "source": [],
      "metadata": {
        "id": "eZlpyphNUBce"
      }
    },
    {
      "cell_type": "markdown",
      "source": [
        "##Step 5 Download upload-results.csv\n",
        "\n",
        "Download upload-results.csv you need it for the next step"
      ],
      "metadata": {
        "id": "DcF4DAicUDb6"
      }
    },
    {
      "cell_type": "markdown",
      "source": [
        "## Step 6 Clean up"
      ],
      "metadata": {
        "id": "hF7NlRifVnJ3"
      }
    },
    {
      "cell_type": "code",
      "source": [
        "!rm -rf *.log\n",
        "!rm -rf *.csv\n",
        "!rm -rf * output/"
      ],
      "metadata": {
        "id": "W6U4NrpMVZFi"
      },
      "execution_count": null,
      "outputs": []
    }
  ]
}
