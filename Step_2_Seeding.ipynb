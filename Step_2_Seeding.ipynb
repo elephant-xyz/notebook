{
  "nbformat": 4,
  "nbformat_minor": 0,
  "metadata": {
    "colab": {
      "provenance": [],
      "include_colab_link": true
    },
    "kernelspec": {
      "name": "python3",
      "display_name": "Python 3"
    },
    "language_info": {
      "name": "python"
    }
  },
  "cells": [
    {
      "cell_type": "markdown",
      "metadata": {
        "id": "view-in-github",
        "colab_type": "text"
      },
      "source": [
        "<a href=\"https://colab.research.google.com/github/elephant-xyz/notebook/blob/main/Step_2_Seeding.ipynb\" target=\"_parent\"><img src=\"https://colab.research.google.com/assets/colab-badge.svg\" alt=\"Open In Colab\"/></a>"
      ]
    },
    {
      "cell_type": "markdown",
      "source": [
        "# Welcome to the Elephant Oracle Notebook\n",
        "\n",
        "You've completed the setup and are ready to submit real estate data to the Elephant protocol. This notebook will transform your seed data into validated, blockchain-ready submissions.\n",
        "\n",
        "## What This Notebook Does\n",
        "\n",
        "This interactive notebook automates:\n",
        "- Converting seed data to lexicon format\n",
        "- Validating against Elephant schemas\n",
        "- Canonicalizing data for consistent hashing\n",
        "- Uploading to IPFS via Pinata\n",
        "- Preparing transaction data for blockchain submission\n",
        "\n",
        "## What You'll Do\n",
        "\n",
        "1. **Configure Pinata** (1 minute)\n",
        "   - Enter your JWT token\n",
        "\n",
        "2. **Transform Data** (2 minutes)\n",
        "   - Run conversion to lexicon format\n",
        "   - Auto-validate against [lexicon.elephant.xyz](https://lexicon.elephant.xyz/) schemas\n",
        "   - Generate canonical JSON\n",
        "\n",
        "3. **Upload to IPFS** (2 minutes)\n",
        "   - Submit validated data to IPFS\n",
        "   - Receive content identifiers (CIDs)\n",
        "\n",
        "4. **Prepare Submission** (1 minute)\n",
        "   - Generate upload-results.csv\n",
        "   - Download for oracle portal\n",
        "\n",
        "5. **Submit to Blockchain** (2 minutes)\n",
        "   - Visit oracle.elephant.xyz\n",
        "   - Upload results file\n",
        "   - Confirm MetaMask transactions\n",
        "\n",
        "## Your Impact\n",
        "\n",
        "Each submission contributes to consensus. When three oracles submit matching data hashes, the data becomes blockchain truth and participants receive vMahout governance tokens.\n",
        "\n",
        "Let's begin."
      ],
      "metadata": {
        "id": "ymU63KRRBDKO"
      }
    },
    {
      "cell_type": "code",
      "source": [
        "# @title Step 1: Please enter your property parcel ID, address and request used to get this property (you can add as much as needed just insert property information then run the cell)\n",
        "import os\n",
        "parcel_id = \"\" # @param {\"type\":\"string\"}\n",
        "address = \"\" # @param {\"type\":\"string\"}\n",
        "request_method = \"\" # @param {\"type\":\"string\"}\n",
        "url = \"\" # @param {\"type\":\"string\"}\n",
        "County = \"\" # @param {\"type\":\"string\"}\n",
        "headers = \"\" # @param {\"type\":\"string\"}\n",
        "\n",
        "os.environ[\"parcel_id\"] = parcel_id\n",
        "os.environ[\"address\"] = address\n",
        "os.environ[\"request_method\"] = request_method\n",
        "os.environ[\"url\"] = url\n",
        "os.environ[\"County\"] = County\n",
        "os.environ[\"headers\"] = headers\n",
        "\n",
        "\n",
        "import json\n",
        "import os\n",
        "import re\n",
        "import sys\n",
        "from urllib.parse import urlparse, parse_qs\n",
        "\n",
        "# Get data from Step 2 environment variables\n",
        "parcel_id = os.environ.get(\"parcel_id\", \"\")\n",
        "address = os.environ.get(\"address\", \"\")\n",
        "request_method = os.environ.get(\"request_method\", \"\")\n",
        "url = os.environ.get(\"url\", \"\")\n",
        "county = os.environ.get(\"County\", \"\")\n",
        "headers = os.environ.get(\"headers\", \"\")\n",
        "\n",
        "\n",
        "def is_empty_value(value):\n",
        "    \"\"\"Check if value is empty or None\"\"\"\n",
        "    if value is None:\n",
        "        return True\n",
        "    if isinstance(value, str) and value.strip() == \"\":\n",
        "        return True\n",
        "    return False\n",
        "\n",
        "def ensure_directory(file_path):\n",
        "    \"\"\"Ensure the directory for the file exists\"\"\"\n",
        "    directory = os.path.dirname(file_path)\n",
        "    if directory and not os.path.exists(directory):\n",
        "        os.makedirs(directory)\n",
        "\n",
        "def extract_query_params_and_base_url(url):\n",
        "    \"\"\"Extract query parameters and base URL separately\"\"\"\n",
        "    if is_empty_value(url):\n",
        "        return None, None\n",
        "\n",
        "    try:\n",
        "        parsed_url = urlparse(url)\n",
        "\n",
        "        # Base URL without query parameters\n",
        "        base_url = f\"{parsed_url.scheme}://{parsed_url.netloc}{parsed_url.path}\"\n",
        "\n",
        "        # Query parameters as multiValueQueryString format (object of arrays)\n",
        "        query_params = parse_qs(parsed_url.query)\n",
        "        multi_value_query = dict(query_params) if query_params else None\n",
        "\n",
        "        return base_url, multi_value_query\n",
        "    except Exception as e:\n",
        "        print(f\"Warning: Could not parse URL: {e}\")\n",
        "        return url, None\n",
        "\n",
        "def create_parcel_folder(parcel_id, address, method, url, county, headers):\n",
        "    # Create folder name based on parcel_id\n",
        "    clean_parcel_id = re.sub(r\"[^\\w\\-_]\", \"_\", str(parcel_id))\n",
        "    folder_name = f\"output/{clean_parcel_id}\"\n",
        "    ensure_directory(folder_name + \"/\")\n",
        "\n",
        "    # Extract base URL and query parameters separately\n",
        "    base_url, multi_value_query = extract_query_params_and_base_url(url)\n",
        "\n",
        "    # Create unnormalized_address.json\n",
        "    unnormalized_address_data = {\n",
        "        \"full_address\": address if not is_empty_value(address) else None,\n",
        "        \"source_http_request\": {\n",
        "            \"method\": method if not is_empty_value(method) else None,\n",
        "            \"url\": base_url if not is_empty_value(base_url) else None,\n",
        "            \"multiValueQueryString\": multi_value_query\n",
        "        },\n",
        "        \"county_jurisdiction\": county if not is_empty_value(county) else None,\n",
        "        \"request_identifier\": parcel_id if not is_empty_value(parcel_id) else None,\n",
        "    }\n",
        "    if headers and not is_empty_value(headers):\n",
        "        unnormalized_address_data[\"source_http_request\"][\"headers\"] = headers\n",
        "\n",
        "    # Create property_seed.json\n",
        "    property_seed_data = {\n",
        "        \"parcel_id\": parcel_id if not is_empty_value(parcel_id) else None,\n",
        "        \"source_http_request\": {\n",
        "            \"method\": method if not is_empty_value(method) else None,\n",
        "            \"url\": base_url if not is_empty_value(base_url) else None,\n",
        "            \"multiValueQueryString\": multi_value_query\n",
        "        },\n",
        "        \"request_identifier\": parcel_id if not is_empty_value(parcel_id) else None,\n",
        "    }\n",
        "    if headers and not is_empty_value(headers):\n",
        "        property_seed_data[\"source_http_request\"][\"headers\"] = headers\n",
        "\n",
        "    # Create relationship_property_to_address.json\n",
        "    relationship_data = {\n",
        "        \"from\": {\"/\": \"./property_seed.json\"},\n",
        "        \"to\": {\"/\": \"./unnormalized_address.json\"}\n",
        "    }\n",
        "\n",
        "    # Create root schema\n",
        "    root_schema = {\n",
        "        \"label\": \"Seed\",\n",
        "        \"relationships\": {\"property_seed\": {\"/\": \"./relationship_property_to_address.json\"}},\n",
        "    }\n",
        "\n",
        "    # Write all JSON files\n",
        "    files_to_create = [\n",
        "        (f\"{folder_name}/unnormalized_address.json\", unnormalized_address_data),\n",
        "        (f\"{folder_name}/property_seed.json\", property_seed_data),\n",
        "        (f\"{folder_name}/relationship_property_to_address.json\", relationship_data),\n",
        "        (f\"{folder_name}/bafkreif7ywbjxu3s6jfi6ginvmsufeux3cd5eujuivg2y7tmqt2qk4rsoe.json\", root_schema),\n",
        "    ]\n",
        "\n",
        "    for filename, data_obj in files_to_create:\n",
        "        with open(filename, \"w\", encoding=\"utf-8\") as f:\n",
        "            json.dump(data_obj, f, indent=2, ensure_ascii=False)\n",
        "\n",
        "    return folder_name, unnormalized_address_data, property_seed_data\n",
        "\n",
        "def process_input_data():\n",
        "    try:\n",
        "        # Validate required data\n",
        "        if is_empty_value(parcel_id):\n",
        "            print(\"❌ Error: parcel_id is required but not provided\")\n",
        "            return\n",
        "\n",
        "        # Show extracted URL components\n",
        "        base_url, multi_value_query = extract_query_params_and_base_url(url)\n",
        "\n",
        "        # Create parcel folder and files\n",
        "        folder_name, address_data, property_data = create_parcel_folder(\n",
        "            parcel_id, address, request_method, url, county, headers\n",
        "        )\n",
        "\n",
        "        print(f\"\\n✅ property with parcel {parcel_id} added successfully\")\n",
        "\n",
        "    except Exception as e:\n",
        "        print(f\"❌ Error processing input data: {e}\")\n",
        "        import traceback\n",
        "        traceback.print_exc()\n",
        "\n",
        "# Process the input data\n",
        "process_input_data()"
      ],
      "metadata": {
        "cellView": "form",
        "id": "poWZ3I6pcFuN",
        "colab": {
          "base_uri": "https://localhost:8080/"
        },
        "outputId": "602960db-5789-4f55-f92d-eb16ec2369af"
      },
      "execution_count": 1,
      "outputs": [
        {
          "output_type": "stream",
          "name": "stdout",
          "text": [
            "\n",
            "✅ property with parcel 30434108090030050 added successfully\n"
          ]
        }
      ]
    },
    {
      "cell_type": "markdown",
      "source": [
        "## Step 2: Upload .env file\n",
        "\n",
        "\n",
        "| Variable Name           | Purpose                     |\n",
        "|-------------------------|-----------------------------|\n",
        "| `PINATA_JWT`     | Access to pinata key              |\n",
        "\n",
        "\n",
        "- Click the **folder icon** 📂 in the left sidebar to open the file browser.\n",
        "- Then click the **\"Upload\"** button and choose your `.env` file.\n",
        "\n",
        "```env\n",
        "# example of .env file\n",
        "PINATA_JWT=xxxxx\n",
        "```\n"
      ],
      "metadata": {
        "id": "biGoVhci_XPp"
      }
    },
    {
      "cell_type": "code",
      "source": [
        "# @title Step 3: Run to upload your files to the IPFS\n",
        "! pip3 install python-dotenv\n",
        "from dotenv import load_dotenv\n",
        "import os\n",
        "load_dotenv()\n",
        "!npx -y @elephant-xyz/cli validate-and-upload output"
      ],
      "metadata": {
        "id": "_d6lTNn0Zefx",
        "colab": {
          "base_uri": "https://localhost:8080/"
        },
        "outputId": "af94fcdd-f88b-49c0-eec6-98c0b2fbe9f8",
        "collapsed": true
      },
      "execution_count": 2,
      "outputs": [
        {
          "output_type": "stream",
          "name": "stdout",
          "text": [
            "Collecting python-dotenv\n",
            "  Downloading python_dotenv-1.1.1-py3-none-any.whl.metadata (24 kB)\n",
            "Downloading python_dotenv-1.1.1-py3-none-any.whl (20 kB)\n",
            "Installing collected packages: python-dotenv\n",
            "Successfully installed python-dotenv-1.1.1\n",
            "\u001b[1G\u001b[0K⠙\u001b[1G\u001b[0K⠹\u001b[1G\u001b[0K⠸\u001b[1G\u001b[0K⠼\u001b[1G\u001b[0K⠴\u001b[1G\u001b[0K⠦\u001b[1G\u001b[0K⠧\u001b[1G\u001b[0K⠇\u001b[1G\u001b[0K⠏\u001b[1G\u001b[0K⠋\u001b[1G\u001b[0K⠙\u001b[1G\u001b[0K⠹\u001b[1G\u001b[0K⠸\u001b[1G\u001b[0K⠼\u001b[1G\u001b[0K⠴\u001b[1G\u001b[0K⠦\u001b[1G\u001b[0K⠧\u001b[1G\u001b[0K⠇\u001b[1G\u001b[0K⠏\u001b[1G\u001b[0K⠋\u001b[1G\u001b[0K⠙\u001b[1G\u001b[0K⠹\u001b[1G\u001b[0K⠸\u001b[1G\u001b[0K⠼\u001b[1G\u001b[0K⠴\u001b[1G\u001b[0K⠦\u001b[1G\u001b[0K⠧\u001b[1G\u001b[0K⠇\u001b[1G\u001b[0K⠏\u001b[1G\u001b[0K⠋\u001b[1G\u001b[0K⠙\u001b[1G\u001b[0K⠹\u001b[1G\u001b[0K⠸\u001b[1G\u001b[0K⠼\u001b[1G\u001b[0K⠴\u001b[1G\u001b[0K⠦\u001b[1G\u001b[0K⠧\u001b[1G\u001b[0K⠇\u001b[1G\u001b[0K⠏\u001b[1G\u001b[0K⠋\u001b[1G\u001b[0K⠙\u001b[1G\u001b[0K⠹\u001b[1G\u001b[0K⠸\u001b[1G\u001b[0K⠼\u001b[1G\u001b[0K⠴\u001b[1G\u001b[0K⠦\u001b[1G\u001b[0K⠧\u001b[1G\u001b[0K⠇\u001b[1G\u001b[0K⠏\u001b[1G\u001b[0K⠋\u001b[1G\u001b[0K⠙\u001b[1G\u001b[0K⠹\u001b[1G\u001b[0K⠸\u001b[1G\u001b[0K⠼\u001b[1G\u001b[0K⠴\u001b[1G\u001b[0K⠦\u001b[1G\u001b[0K⠧\u001b[1G\u001b[0K⠇\u001b[1G\u001b[0K⠏\u001b[1G\u001b[0K⠋\u001b[1G\u001b[0K⠙\u001b[1G\u001b[0K⠹\u001b[1G\u001b[0K⠸\u001b[1G\u001b[0K⠼\u001b[1G\u001b[0K⠴\u001b[1G\u001b[0K⠦\u001b[1G\u001b[0K⠧\u001b[1G\u001b[0K⠇\u001b[1G\u001b[0K⠏\u001b[1G\u001b[0K⠋\u001b[1G\u001b[0K⠙\u001b[1G\u001b[0K⠹\u001b[1G\u001b[0K⠸\u001b[1G\u001b[0K⠼\u001b[1G\u001b[0K⠴\u001b[1G\u001b[0K⠦\u001b[1G\u001b[0K⠧\u001b[1G\u001b[0K⠇\u001b[1G\u001b[0K⠏\u001b[1G\u001b[0K⠋\u001b[1G\u001b[0K⠙\u001b[1G\u001b[0K⠹\u001b[1G\u001b[0K⠸\u001b[1G\u001b[0K⠼\u001b[1G\u001b[0K⠴\u001b[1G\u001b[0K⠦\u001b[1G\u001b[0K⠧\u001b[1G\u001b[0K⠇\u001b[1G\u001b[0K⠏\u001b[1G\u001b[0K⠋\u001b[1G\u001b[0K⠙\u001b[1G\u001b[0K⠹\u001b[1G\u001b[0K⠸\u001b[1G\u001b[0K⠼\u001b[1G\u001b[0K⠴\u001b[1G\u001b[0K⠦\u001b[1G\u001b[0K⠧\u001b[1G\u001b[0K⠇\u001b[1G\u001b[0K⠏\u001b[1G\u001b[0K⠋\u001b[1G\u001b[0K⠙\u001b[1G\u001b[0K⠹\u001b[1G\u001b[0K⠸\u001b[1G\u001b[0K⠼\u001b[1G\u001b[0K⠴\u001b[1G\u001b[0K⠦\u001b[1G\u001b[0K⠧\u001b[1G\u001b[0K⠇\u001b[1G\u001b[0K⠏\u001b[1G\u001b[0K⠋\u001b[1G\u001b[0K⠙\u001b[1G\u001b[0K⠹\u001b[1G\u001b[0K⠸\u001b[1G\u001b[0K⠼\u001b[1G\u001b[0K⠴\u001b[1G\u001b[0K⠦\u001b[1G\u001b[0K⠧\u001b[1G\u001b[0K⠇\u001b[1G\u001b[0K⠏\u001b[1G\u001b[0K⠋\u001b[1G\u001b[0K⠙\u001b[1G\u001b[0K⠹\u001b[1G\u001b[0K⠸\u001b[1G\u001b[0K⠼\u001b[1G\u001b[0K⠴\u001b[1G\u001b[0K⠦\u001b[1G\u001b[0K⠧\u001b[1G\u001b[0K⠇\u001b[1G\u001b[0K⠏\u001b[1G\u001b[0K⠋\u001b[1G\u001b[0K⠙\u001b[1G\u001b[0K⠹\u001b[1G\u001b[0K\u001b[1m\u001b[34m🐘 Elephant Network CLI - Validate and Upload\u001b[39m\u001b[22m\n",
            "\n",
            "\u001b7\u001b[?25l\u001b[?7l\u001b[1GInitializing    |\u001b[36m████████████████████████████████████████\u001b[39m| 100% | 0/0 | Errors: 0 | Skipped: 0 | 0s | ETA: 0s\u001b[0K\u001b7\u001b[?25l\u001b[?7l\u001b[1GFetching Schemas |\u001b[36m░░░░░░░░░░░░░░░░░░░░░░░░░░░░░░░░░░░░░░░░\u001b[39m| 0% | 0/1 | Errors: 0 | Skipped: 0 | 0s | ETA: 0s\u001b[0K\u001b[1GPre-fetching Schemas |\u001b[36m░░░░░░░░░░░░░░░░░░░░░░░░░░░░░░░░░░░░░░░░\u001b[39m| 0% | 0/1 | Errors: 0 | Skipped: 0 | 0s | ETA: NFs\u001b[0K\u001b[1GFetching Schemas |\u001b[36m████████████████████████████████████████\u001b[39m| 100% | 1/1 | Errors: 0 | Skipped: 0 | 0s | ETA: 0s\u001b[0K\u001b[?25h\u001b[?7h\u001b8\n",
            "\u001b[1GProcessing Files |\u001b[36m░░░░░░░░░░░░░░░░░░░░░░░░░░░░░░░░░░░░░░░░\u001b[39m| 0% | 0/1 | Errors: 0 | Skipped: 0 | 0s | ETA: NFs\u001b[0K\u001b[1GProcessing Files |\u001b[36m░░░░░░░░░░░░░░░░░░░░░░░░░░░░░░░░░░░░░░░░\u001b[39m| 0% | 0/1 | Errors: 0 | Skipped: 0 | 1s | ETA: NFs\u001b[0K\u001b[1GProcessing Files |\u001b[36m████████████████████████████████████████\u001b[39m| 100% | 1/1 | Errors: 0 | Skipped: 0 | 1s | ETA: 0s\u001b[0K\u001b[1GInstalling/Updating Fact Sheet Tool |\u001b[36m████████████████████████████████████████\u001b[39m| 100% | 1/1 | Errors: 0 | Skipped: 0 | 25s | ETA: 0s\u001b[0K\u001b[1GGenerating HTML Files |\u001b[36m████████████████████████████████████████\u001b[39m| 100% | 1/1 | Errors: 0 | Skipped: 0 | 26s | ETA: 0s\u001b[0K\u001b[1GUploading HTML Files |\u001b[36m░░░░░░░░░░░░░░░░░░░░░░░░░░░░░░░░░░░░░░░░\u001b[39m| 0% | 0/1 | Errors: 0 | Skipped: 0 | 26s | ETA: NFs\u001b[0K\u001b[1GUploading HTML Files |\u001b[36m░░░░░░░░░░░░░░░░░░░░░░░░░░░░░░░░░░░░░░░░\u001b[39m| 0% | 0/1 | Errors: 0 | Skipped: 0 | 27s | ETA: NFs\u001b[0K\u001b[1GUploading HTML Files |\u001b[36m████████████████████████████████████████\u001b[39m| 100% | 1/1 | Errors: 0 | Skipped: 0 | 27s | ETA: 0s\u001b[0K\u001b[?25h\u001b[?7h\u001b8\n",
            "\u001b[32m\u001b[39m\n",
            "\u001b[32m✅ Validation and upload process finished\u001b[39m\n",
            "\u001b[32m\u001b[39m\n",
            "\u001b[1m📊 Final Report:\u001b[22m\n",
            "  Total files scanned:    1\n",
            "  Files skipped: 0\n",
            "  Processing/upload errors: 0\n",
            "  Successfully processed (validated & uploaded):  1\n",
            "  Total files handled:    1\n",
            "  Duration:               1s\n",
            "\n",
            "  Error report:   ./submit_errors.csv\n",
            "  Warning report: ./submit_warnings.csv\n",
            "  Upload results: upload-results.csv\n",
            "\u001b[1m\u001b[22m\n",
            "\u001b[1m🌐 Property Fact Sheet Links:\u001b[22m\n",
            "\u001b[90m  (Note: It may take a few minutes for pages to propagate through IPFS gateways)\u001b[39m\n",
            "\u001b[90m\u001b[39m\n",
            "  1. Directory: 30434108090030050\n",
            "     \u001b[36mhttp://dweb.link/ipfs/bafybeidhi3i4676b33duvv6ld2eckb7hywsjnci6dcdp5wgnv2mek7qv7a\u001b[39m\n",
            "\n",
            "\u001b[1m\u001b[22m\n",
            "\u001b[1m📄 All HTML links have been saved to: \u001b[32mupload-results.csv\u001b[39m\u001b[22m\n",
            "\u001b[90m  Please check this file for the complete list of property fact sheet URLs.\u001b[39m\n",
            "\u001b[1G\u001b[0K⠙\u001b[1G\u001b[0K"
          ]
        }
      ]
    },
    {
      "cell_type": "markdown",
      "source": [
        "## Step 4: Submitting Your Data to the Blockchain\n",
        "\n",
        "Once complete, your data is permanently recorded on the blockchain. You'll receive vMahout tokens as rewards after consensus is reached (when 3 different oracles submit matching data hashes)."
      ],
      "metadata": {
        "id": "8CYSslk1Zx1-"
      }
    },
    {
      "cell_type": "code",
      "source": [
        "!npx -y @elephant-xyz/cli submit-to-contract upload-results.csv"
      ],
      "metadata": {
        "id": "hkMq9hFt0RTN",
        "outputId": "29183214-57ff-4dcd-c7f4-53cfcbfbe9a8",
        "colab": {
          "base_uri": "https://localhost:8080/"
        }
      },
      "execution_count": 4,
      "outputs": [
        {
          "output_type": "stream",
          "name": "stdout",
          "text": [
            "\u001b[1G\u001b[0K⠙\u001b[1G\u001b[0K⠹\u001b[1G\u001b[0K⠸\u001b[1G\u001b[0K⠼\u001b[1G\u001b[0K⠴\u001b[1G\u001b[0K⠦\u001b[1G\u001b[0K⠧\u001b[1G\u001b[0K⠇\u001b[1G\u001b[0K⠏\u001b[1G\u001b[0K⠋\u001b[1G\u001b[0K\u001b[1m\u001b[34m🐘 Elephant Network CLI - Submit to Contract\u001b[39m\u001b[22m\n",
            "\n",
            "\u001b7\u001b[?25l\u001b[?7l\u001b[1GIndexing on-chain data |\u001b[36m░░░░░░░░░░░░░░░░░░░░░░░░░░░░░░░░░░░░░░░░\u001b[39m| 0% | 0/1 | Errors: 0 | Skipped: 0 | 0s | ETA: 0s\u001b[0K\u001b[1GSubmitting Transactions |\u001b[36m░░░░░░░░░░░░░░░░░░░░░░░░░░░░░░░░░░░░░░░░\u001b[39m| 0% | 0/1 | Errors: 0 | Skipped: 0 | 0s | ETA: NFs\u001b[0K\u001b[1GSubmitting Transactions |\u001b[36m░░░░░░░░░░░░░░░░░░░░░░░░░░░░░░░░░░░░░░░░\u001b[39m| 0% | 0/1 | Errors: 0 | Skipped: 0 | 1s | ETA: NFs\u001b[0K\u001b[1GSubmitting Transactions |\u001b[36m░░░░░░░░░░░░░░░░░░░░░░░░░░░░░░░░░░░░░░░░\u001b[39m| 0% | 0/1 | Errors: 0 | Skipped: 0 | 2s | ETA: NFs\u001b[0K\u001b[1GSubmitting Transactions |\u001b[36m░░░░░░░░░░░░░░░░░░░░░░░░░░░░░░░░░░░░░░░░\u001b[39m| 0% | 0/1 | Errors: 0 | Skipped: 0 | 3s | ETA: NFs\u001b[0K\u001b[1GSubmitting Transactions |\u001b[36m░░░░░░░░░░░░░░░░░░░░░░░░░░░░░░░░░░░░░░░░\u001b[39m| 0% | 0/1 | Errors: 0 | Skipped: 0 | 4s | ETA: NFs\u001b[0K\u001b[1GSubmitting Transactions |\u001b[36m░░░░░░░░░░░░░░░░░░░░░░░░░░░░░░░░░░░░░░░░\u001b[39m| 0% | 0/1 | Errors: 0 | Skipped: 0 | 5s | ETA: NFs\u001b[0K\u001b[1GSubmitting Transactions |\u001b[36m░░░░░░░░░░░░░░░░░░░░░░░░░░░░░░░░░░░░░░░░\u001b[39m| 0% | 0/1 | Errors: 0 | Skipped: 0 | 6s | ETA: NFs\u001b[0K\u001b[1GSubmitting Transactions |\u001b[36m░░░░░░░░░░░░░░░░░░░░░░░░░░░░░░░░░░░░░░░░\u001b[39m| 0% | 0/1 | Errors: 0 | Skipped: 0 | 7s | ETA: NFs\u001b[0K\u001b[1GSubmitting Transactions |\u001b[36m░░░░░░░░░░░░░░░░░░░░░░░░░░░░░░░░░░░░░░░░\u001b[39m| 0% | 0/1 | Errors: 0 | Skipped: 0 | 8s | ETA: NFs\u001b[0K\u001b[1GSubmitting Transactions |\u001b[36m░░░░░░░░░░░░░░░░░░░░░░░░░░░░░░░░░░░░░░░░\u001b[39m| 0% | 0/1 | Errors: 0 | Skipped: 0 | 9s | ETA: NFs\u001b[0K\u001b[1GSubmitting Transactions |\u001b[36m░░░░░░░░░░░░░░░░░░░░░░░░░░░░░░░░░░░░░░░░\u001b[39m| 0% | 0/1 | Errors: 0 | Skipped: 0 | 10s | ETA: NFs\u001b[0K\u001b[1GSubmitting Transactions |\u001b[36m░░░░░░░░░░░░░░░░░░░░░░░░░░░░░░░░░░░░░░░░\u001b[39m| 0% | 0/1 | Errors: 0 | Skipped: 0 | 11s | ETA: NFs\u001b[0K\u001b[1GSubmitting Transactions |\u001b[36m░░░░░░░░░░░░░░░░░░░░░░░░░░░░░░░░░░░░░░░░\u001b[39m| 0% | 0/1 | Errors: 0 | Skipped: 0 | 12s | ETA: NFs\u001b[0K\u001b[1GSubmitting Transactions |\u001b[36m░░░░░░░░░░░░░░░░░░░░░░░░░░░░░░░░░░░░░░░░\u001b[39m| 0% | 0/1 | Errors: 0 | Skipped: 0 | 13s | ETA: NFs\u001b[0K\u001b[1GSubmitting Transactions |\u001b[36m░░░░░░░░░░░░░░░░░░░░░░░░░░░░░░░░░░░░░░░░\u001b[39m| 0% | 0/1 | Errors: 0 | Skipped: 0 | 14s | ETA: NFs\u001b[0K\u001b[1GSubmitting Transactions |\u001b[36m░░░░░░░░░░░░░░░░░░░░░░░░░░░░░░░░░░░░░░░░\u001b[39m| 0% | 0/1 | Errors: 0 | Skipped: 0 | 15s | ETA: NFs\u001b[0K\u001b[1GSubmitting Transactions |\u001b[36m░░░░░░░░░░░░░░░░░░░░░░░░░░░░░░░░░░░░░░░░\u001b[39m| 0% | 0/1 | Errors: 0 | Skipped: 0 | 16s | ETA: NFs\u001b[0K\u001b[1GSubmitting Transactions |\u001b[36m░░░░░░░░░░░░░░░░░░░░░░░░░░░░░░░░░░░░░░░░\u001b[39m| 0% | 0/1 | Errors: 0 | Skipped: 0 | 17s | ETA: NFs\u001b[0K\u001b[1GSubmitting Transactions |\u001b[36m░░░░░░░░░░░░░░░░░░░░░░░░░░░░░░░░░░░░░░░░\u001b[39m| 0% | 0/1 | Errors: 0 | Skipped: 0 | 18s | ETA: NFs\u001b[0K\u001b[1GSubmitting Transactions |\u001b[36m░░░░░░░░░░░░░░░░░░░░░░░░░░░░░░░░░░░░░░░░\u001b[39m| 0% | 0/1 | Errors: 0 | Skipped: 0 | 19s | ETA: NFs\u001b[0K\u001b[1GSubmitting Transactions |\u001b[36m░░░░░░░░░░░░░░░░░░░░░░░░░░░░░░░░░░░░░░░░\u001b[39m| 0% | 0/1 | Errors: 0 | Skipped: 0 | 20s | ETA: NFs\u001b[0K\u001b[1GSubmitting Transactions |\u001b[36m░░░░░░░░░░░░░░░░░░░░░░░░░░░░░░░░░░░░░░░░\u001b[39m| 0% | 0/1 | Errors: 0 | Skipped: 0 | 21s | ETA: NFs\u001b[0K\u001b[1GSubmitting Transactions |\u001b[36m░░░░░░░░░░░░░░░░░░░░░░░░░░░░░░░░░░░░░░░░\u001b[39m| 0% | 0/1 | Errors: 0 | Skipped: 0 | 22s | ETA: NFs\u001b[0K\u001b[1GSubmitting Transactions |\u001b[36m░░░░░░░░░░░░░░░░░░░░░░░░░░░░░░░░░░░░░░░░\u001b[39m| 0% | 0/1 | Errors: 0 | Skipped: 0 | 23s | ETA: NFs\u001b[0K\u001b[1GSubmitting Transactions |\u001b[36m░░░░░░░░░░░░░░░░░░░░░░░░░░░░░░░░░░░░░░░░\u001b[39m| 0% | 0/1 | Errors: 0 | Skipped: 0 | 24s | ETA: NFs\u001b[0K\u001b[1GSubmitting Transactions |\u001b[36m░░░░░░░░░░░░░░░░░░░░░░░░░░░░░░░░░░░░░░░░\u001b[39m| 0% | 0/1 | Errors: 0 | Skipped: 0 | 25s | ETA: NFs\u001b[0K\u001b[1GSubmitting Transactions |\u001b[36m████████████████████████████████████████\u001b[39m| 100% | 1/1 | Errors: 0 | Skipped: 0 | 25s | ETA: 0s\u001b[0K\u001b[?25h\u001b[?7h\u001b8\n",
            "\u001b[32m\u001b[39m\n",
            "\u001b[32m✅ Contract submission process finished\u001b[39m\n",
            "\u001b[32m\u001b[39m\n",
            "\u001b[1m📊 Final Report:\u001b[22m\n",
            "  Total records in CSV:   1\n",
            "  Items eligible:         1\n",
            "  Items skipped:          0\n",
            "  Transactions submitted: 1\n",
            "  Total items submitted:  1\n",
            "  Duration:               25s\n",
            "\n",
            "  Error report:   ./submit_errors.csv\n",
            "  Warning report: ./submit_warnings.csv\n",
            "\u001b[1G\u001b[0K⠙\u001b[1G\u001b[0K"
          ]
        }
      ]
    }
  ]
}