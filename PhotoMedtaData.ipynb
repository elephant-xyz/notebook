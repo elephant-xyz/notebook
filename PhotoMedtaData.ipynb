{
  "nbformat": 4,
  "nbformat_minor": 0,
  "metadata": {
    "colab": {
      "provenance": [],
      "collapsed_sections": [
        "xJo3i5enWo0J",
        "lMRhyNPHYsrY",
        "XKHWrLc47vUv"
      ],
      "authorship_tag": "ABX9TyPWPUqgj0hfoBQ1qEO3aNZh",
      "include_colab_link": true
    },
    "kernelspec": {
      "name": "python3",
      "display_name": "Python 3"
    },
    "language_info": {
      "name": "python"
    }
  },
  "cells": [
    {
      "cell_type": "markdown",
      "metadata": {
        "id": "view-in-github",
        "colab_type": "text"
      },
      "source": [
        "<a href=\"https://colab.research.google.com/github/elephant-xyz/photo-meta-data-notebook/blob/main/PhotoMedtaData.ipynb\" target=\"_parent\"><img src=\"https://colab.research.google.com/assets/colab-badge.svg\" alt=\"Open In Colab\"/></a>"
      ]
    },
    {
      "cell_type": "markdown",
      "source": [],
      "metadata": {
        "id": "ILCxMc0LIsi-"
      }
    },
    {
      "cell_type": "markdown",
      "source": [
        "## 📥 Step 1: Upload the `.env` File\n",
        "\n",
        "This notebook requires a `.env` file that contains your API keys and credentials.  \n",
        "It will be used to securely load the following environment variables:\n",
        "\n",
        "| Variable Name           | Purpose                     |\n",
        "|-------------------------|-----------------------------|\n",
        "| `OPENAI_API_KEY`        | Access to OpenAI API        |\n",
        "| `AWS_ACCESS_KEY_ID`     | AWS access key              |\n",
        "| `AWS_SECRET_ACCESS_KEY` | AWS secret access key       |\n",
        "| `S3_BUCKET_NAME`        | AWS secret access key       |\n",
        "| `IMAGES_DIR`            | Images                      |\n",
        "| `ELEPHANT_PRIVATE_KEY`  | Elephant wallet address     |\n",
        "| `PINATA_JWT`            | PINATA token                |\n",
        "\n",
        "\n",
        "\n",
        "- Click the **folder icon** 📂 in the left sidebar to open the file browser.\n",
        "- Then click the **\"Upload\"** button and choose your `.env` file.\n",
        "\n",
        "```env\n",
        "# example of .env file\n",
        "OPENAI_API_KEY=sk-XXXXXXXXXXXXXXXXXXXXXXXXXXXX\n",
        "AWS_ACCESS_KEY_ID=XXXXXX\n",
        "AWS_SECRET_ACCESS_KEY=XXXXXX\n",
        "S3_BUCKET_NAME=your-s3-bucket-name-here\n",
        "IMAGES_DIR=images\n",
        "ELEPHANT_PRIVATE_KEY=xxxxx\n",
        "PINATA_JWT=xxxxx\n",
        "```\n"
      ],
      "metadata": {
        "id": "R8Lh8z_QIuBx"
      }
    },
    {
      "cell_type": "markdown",
      "source": [],
      "metadata": {
        "id": "4A8fm24ILQ8s"
      }
    },
    {
      "cell_type": "markdown",
      "source": [
        "## Step 2: Upload `upload_results.json`\n",
        "\n",
        "Upload the `upload_results.json` file to the `/content/` directory.\n",
        "\n",
        "> 📌 **Important**: You must generate this file by running **Step 2** of the following Colab notebook:  \n",
        "> 👉 [Upload Images Notebook – Step 2](https://colab.research.google.com/drive/14tSNSP8Pe-mY4VwX9JhXgfyOvzmN3kC0?usp=sharing#scrollTo=OFKp4E49651Z)\n",
        "\n",
        "After running Step 2 in that notebook, download the `upload_results.json` file and upload it to this notebook's `/content/` directory.\n",
        "\n"
      ],
      "metadata": {
        "id": "6Q36E40RNVE3"
      }
    },
    {
      "cell_type": "markdown",
      "source": [
        "## Step 3: Setup folder structure for processing images"
      ],
      "metadata": {
        "id": "F000A7O3PtrJ"
      }
    },
    {
      "cell_type": "code",
      "source": [
        "# 1. Install the package\n",
        "!pip install --force-reinstall --no-cache-dir git+https://github.com/elephant-xyz/photo-meta-data-ai.git > /content/install_log.txt 2>&1\n",
        "\n",
        "\n",
        "# 3. Set up folders\n",
        "!folder-setup\n"
      ],
      "metadata": {
        "colab": {
          "base_uri": "https://localhost:8080/"
        },
        "id": "yiY6rgFYPvU6",
        "outputId": "25d3aa46-0ca7-4142-9a70-b8c3d8e36387"
      },
      "execution_count": 27,
      "outputs": [
        {
          "output_type": "stream",
          "name": "stdout",
          "text": [
            "✓ Loaded environment from .env\n",
            "✓ Loaded seed file: seed.csv\n",
            "  - Rows: 2\n",
            "  - Columns: ['parcel_id', 'Address', 'method', 'headers', 'url', 'multiValueQueryString', 'body', 'json', 'source_identifier', 'County']\n",
            "✓ Created root folder: /content/images\n",
            "Found 2 unique parcel IDs\n",
            "✓ Created folder: 30434108090030050\n",
            "✓ Created folder: 52434205310037080\n",
            "total 24\n",
            "drwxr-xr-x 4 root root  4096 Jul 22 18:14 .\n",
            "drwxr-xr-x 1 root root  4096 Jul 22 18:18 ..\n",
            "drwxr-xr-x 2 root root 12288 Jul 22 18:24 30434108090030050\n",
            "drwxr-xr-x 2 root root  4096 Jul 22 18:23 52434205310037080\n"
          ]
        }
      ]
    },
    {
      "cell_type": "markdown",
      "source": [
        "## Step 3: Upload images with Parcel ID Subfolders\n",
        "\n",
        "Place all image files related to that parcel inside its corresponding folder under IMAGE_FOLDER_NAME=images\n",
        "\n",
        "\n",
        "\n",
        "\n"
      ],
      "metadata": {
        "id": "ojt2s4z6NxC1"
      }
    },
    {
      "cell_type": "markdown",
      "source": [
        "## Step 4: Setup AWS Environmet to process images\n",
        "\n",
        "Place all image files related to that parcel inside its corresponding folder under IMAGE_FOLDER_NAME=images\n"
      ],
      "metadata": {
        "id": "xJo3i5enWo0J"
      }
    },
    {
      "cell_type": "code",
      "source": [
        "!bucket-manager"
      ],
      "metadata": {
        "id": "G2eZfzTpOGV0"
      },
      "execution_count": 28,
      "outputs": []
    },
    {
      "cell_type": "markdown",
      "source": [
        "## Step 4\n",
        "\n",
        "Running AWS rekognition to categorize the pictures\n"
      ],
      "metadata": {
        "id": "lMRhyNPHYsrY"
      }
    },
    {
      "cell_type": "code",
      "source": [
        "!photo-categorizer"
      ],
      "metadata": {
        "colab": {
          "base_uri": "https://localhost:8080/"
        },
        "id": "8rY0yaxVYx-t",
        "outputId": "6e68941c-2710-432c-d14c-8d19ae8e7f2c"
      },
      "execution_count": 29,
      "outputs": [
        {
          "output_type": "stream",
          "name": "stdout",
          "text": [
            "\n",
            "================================================================================\n",
            "📊 COMPREHENSIVE CATEGORIZATION SUMMARY\n",
            "================================================================================\n",
            "\n",
            "🏠 TOTAL PROPERTIES PROCESSED: 2\n",
            "🖼️  TOTAL IMAGES: 203\n",
            "✅ TOTAL CATEGORIZED: 203\n",
            "📈 SUCCESS RATE: 100.0%\n",
            "\n",
            "📁 OVERALL CATEGORY BREAKDOWN:\n",
            "   exterior: 68 images\n",
            "   kitchen: 42 images\n",
            "   living_room: 40 images\n",
            "   bedroom: 20 images\n",
            "   other: 14 images\n",
            "   closet: 6 images\n",
            "   garage: 4 images\n",
            "   pool: 3 images\n",
            "   laundry: 2 images\n",
            "   bathroom: 2 images\n",
            "   dining_room: 2 images\n",
            "\n",
            "🏠 PROPERTY-BY-PROPERTY BREAKDOWN:\n",
            "--------------------------------------------------------------------------------\n",
            "\n",
            "📍 Property: 30434108090030050\n",
            "   Address: 1605 S US HIGHWAY 1 3E,PALM BEACH GARDENS\n",
            "   Total Images: 153\n",
            "   Categorized: 153\n",
            "   Success Rate: 100.0%\n",
            "   Categories:\n",
            "     • exterior: 60 images\n",
            "     • living_room: 30 images\n",
            "     • kitchen: 24 images\n",
            "     • other: 14 images\n",
            "     • bedroom: 12 images\n",
            "     • closet: 4 images\n",
            "     • garage: 4 images\n",
            "     • pool: 3 images\n",
            "     • laundry: 2 images\n",
            "\n",
            "📍 Property: 52434205310037080\n",
            "   Address: 2558 GARDENS PKWY,JUPITER\n",
            "   Total Images: 50\n",
            "   Categorized: 50\n",
            "   Success Rate: 100.0%\n",
            "   Categories:\n",
            "     • kitchen: 18 images\n",
            "     • living_room: 10 images\n",
            "     • exterior: 8 images\n",
            "     • bedroom: 8 images\n",
            "     • bathroom: 2 images\n",
            "     • closet: 2 images\n",
            "     • dining_room: 2 images\n",
            "\n",
            "🏷️  TOP DETECTED LABELS:\n",
            "   • Indoors: 100 times\n",
            "   • Interior Design: 100 times\n",
            "   • Building: 64 times\n",
            "   • Housing: 64 times\n",
            "   • Furniture: 58 times\n",
            "   • Outdoors: 57 times\n",
            "   • Home Decor: 46 times\n",
            "   • Chair: 44 times\n",
            "   • Urban: 38 times\n",
            "   • Lamp: 38 times\n",
            "\n",
            "================================================================================\n"
          ]
        }
      ]
    },
    {
      "cell_type": "markdown",
      "source": [
        "##Step 5 Running AI to extract data from images"
      ],
      "metadata": {
        "id": "uo7Jjafq6N1i"
      }
    },
    {
      "cell_type": "code",
      "source": [
        "!pip install --force-reinstall --no-cache-dir git+https://github.com/elephant-xyz/photo-meta-data-ai.git > /content/install_log.txt 2>&1\n",
        "\n",
        "!ai-analyzer --local-folders\n"
      ],
      "metadata": {
        "colab": {
          "base_uri": "https://localhost:8080/"
        },
        "id": "67Sqqv2xcurU",
        "outputId": "84dee396-ae65-4d46-ec95-57c8f57fb529"
      },
      "execution_count": 36,
      "outputs": [
        {
          "output_type": "stream",
          "name": "stdout",
          "text": [
            "    [DEBUG] Merging 3 layouts for unknown\n",
            "    [✔] Saved: structure_batch_01.json\n",
            "    [✔] Saved: lot_batch_01.json\n",
            "    [✔] Saved: utility_batch_01.json\n",
            "    [✔] Saved: layout_laundry_room_batch_01.json\n",
            "    [✔] Saved: utility_batch_01.json\n",
            "    [✔] Saved: layout_walk-in_closet_batch_01.json\n",
            "    [→] Found existing main relationship file, updating...\n",
            "    [DEBUG] Schema relationship types: ['layout_has_appliance', 'layout_has_file', 'property_has_file', 'property_has_layout', 'property_has_lot', 'property_has_structure', 'property_has_utility']\n",
            "[ERROR] Could not parse JSON: Expecting value: line 1 column 1 (char 0)\n",
            "[DEBUG] Text: I'm sorry, I can't assist with that....\n",
            "    [✔] Saved: structure_batch_01.json\n",
            "    [✔] Saved: lot_batch_01.json\n",
            "    [✔] Saved: utility_batch_01.json\n",
            "    [✔] Saved: layout_full_bathroom_batch_01.json\n",
            "    [✔] Saved: layout_full_bathroom_2_batch_01.json\n",
            "    [✔] Saved: layout_kitchen_batch_01.json\n",
            "    [✔] Saved: layout_dining_room_batch_01.json\n",
            "    [✔] Saved: layout_pantry_batch_01.json\n",
            "    [✔] Saved: appliance_microwave_batch_01.json\n",
            "    [✔] Saved: appliance_electricrange_batch_01.json\n",
            "    [✔] Saved: appliance_refrigerator_batch_01.json\n",
            "    [✔] Saved: appliance_dishwasher_batch_01.json\n",
            "    [→] Found existing main relationship file, updating...\n",
            "    [DEBUG] Schema relationship types: ['layout_has_appliance', 'layout_has_file', 'property_has_file', 'property_has_layout', 'property_has_lot', 'property_has_structure', 'property_has_utility']\n",
            "    [✔] Saved: structure_batch_01.json\n",
            "    [✔] Saved: lot_batch_01.json\n",
            "    [✔] Saved: utility_batch_01.json\n",
            "    [✔] Saved: layout_unknown_space_batch_01.json\n",
            "    [✔] Saved: appliance_object_batch_01.json\n",
            "    [→] Found existing main relationship file, updating...\n",
            "    [DEBUG] Schema relationship types: ['layout_has_appliance', 'layout_has_file', 'property_has_file', 'property_has_layout', 'property_has_lot', 'property_has_structure', 'property_has_utility']\n",
            "    [✔] Saved: structure_batch_01.json\n",
            "    [✔] Saved: lot_batch_01.json\n",
            "    [✔] Saved: utility_batch_01.json\n",
            "    [✔] Saved: layout_primary_bedroom_batch_01.json\n",
            "    [✔] Saved: layout_guest_bedroom_batch_01.json\n",
            "    [→] Found existing main relationship file, updating...\n",
            "    [DEBUG] Schema relationship types: ['layout_has_appliance', 'layout_has_file', 'property_has_file', 'property_has_layout', 'property_has_lot', 'property_has_structure', 'property_has_utility']\n",
            "    [✔] Saved: utility_batch_01.json\n",
            "    [✔] Saved: layout_attached_garage_batch_01.json\n",
            "    [→] Found existing main relationship file, updating...\n",
            "    [DEBUG] Schema relationship types: ['layout_has_appliance', 'layout_has_file', 'property_has_file', 'property_has_layout', 'property_has_lot', 'property_has_structure', 'property_has_utility']\n",
            "    [DEBUG] Merging 3 layouts for unknown\n",
            "    [✔] Saved: structure_batch_01.json\n",
            "    [✔] Saved: lot_batch_01.json\n",
            "    [✔] Saved: utility_batch_01.json\n",
            "    [✔] Saved: layout_living_room_batch_01.json\n",
            "    [✔] Saved: layout_balcony_batch_01.json\n",
            "    [→] Found existing main relationship file, updating...\n",
            "    [DEBUG] Schema relationship types: ['layout_has_appliance', 'layout_has_file', 'property_has_file', 'property_has_layout', 'property_has_lot', 'property_has_structure', 'property_has_utility']\n",
            "    [✔] Saved: utility_batch_01.json\n",
            "    [✔] Saved: layout_walk-in_closet_batch_01.json\n",
            "    [→] Found existing main relationship file, updating...\n",
            "    [DEBUG] Schema relationship types: ['layout_has_appliance', 'layout_has_file', 'property_has_file', 'property_has_layout', 'property_has_lot', 'property_has_structure', 'property_has_utility']\n",
            "    [✔] Saved: structure_batch_01.json\n",
            "    [✔] Saved: lot_batch_01.json\n",
            "    [✔] Saved: utility_batch_01.json\n",
            "    [✔] Saved: layout_full_bathroom_batch_01.json\n",
            "    [✔] Saved: layout_kitchen_batch_01.json\n",
            "    [✔] Saved: layout_living_room_batch_01.json\n",
            "    [✔] Saved: layout_full_bathroom_2_batch_01.json\n",
            "    [✔] Saved: appliance_refrigerator_batch_01.json\n",
            "    [✔] Saved: appliance_cooktopwithrangehood_batch_01.json\n",
            "    [✔] Saved: appliance_dishwasher_batch_01.json\n",
            "    [→] Found existing main relationship file, updating...\n",
            "    [DEBUG] Schema relationship types: ['layout_has_appliance', 'layout_has_file', 'property_has_file', 'property_has_layout', 'property_has_lot', 'property_has_structure', 'property_has_utility']\n",
            "    [✔] Saved: structure_batch_01.json\n",
            "    [✔] Saved: lot_batch_01.json\n",
            "    [✔] Saved: utility_batch_01.json\n",
            "    [✔] Saved: layout_full_bathroom_batch_01.json\n",
            "    [→] Found existing main relationship file, updating...\n",
            "    [DEBUG] Schema relationship types: ['layout_has_appliance', 'layout_has_file', 'property_has_file', 'property_has_layout', 'property_has_lot', 'property_has_structure', 'property_has_utility']\n",
            "    [✔] Saved: structure_batch_01.json\n",
            "    [✔] Saved: lot_batch_01.json\n",
            "    [✔] Saved: utility_batch_01.json\n",
            "    [✔] Saved: layout_porch_batch_01.json\n",
            "    [→] Found existing main relationship file, updating...\n",
            "    [DEBUG] Schema relationship types: ['layout_has_appliance', 'layout_has_file', 'property_has_file', 'property_has_layout', 'property_has_lot', 'property_has_structure', 'property_has_utility']\n",
            "    [✔] Saved: utility_batch_01.json\n",
            "    [✔] Saved: layout_primary_bedroom_batch_01.json\n",
            "    [✔] Saved: layout_guest_bedroom_batch_01.json\n",
            "    [→] Found existing main relationship file, updating...\n",
            "    [DEBUG] Schema relationship types: ['layout_has_appliance', 'layout_has_file', 'property_has_file', 'property_has_layout', 'property_has_lot', 'property_has_structure', 'property_has_utility']\n",
            "    [✔] Saved: structure_batch_01.json\n",
            "    [✔] Saved: lot_batch_01.json\n",
            "    [✔] Saved: utility_batch_01.json\n",
            "    [✔] Saved: layout_kitchen_batch_01.json\n",
            "    [✔] Saved: appliance_refrigerator_batch_01.json\n",
            "    [→] Found existing main relationship file, updating...\n",
            "    [DEBUG] Schema relationship types: ['layout_has_appliance', 'layout_has_file', 'property_has_file', 'property_has_layout', 'property_has_lot', 'property_has_structure', 'property_has_utility']\n"
          ]
        }
      ]
    },
    {
      "cell_type": "markdown",
      "source": [],
      "metadata": {
        "id": "1WEPamAD7h4F"
      }
    },
    {
      "cell_type": "markdown",
      "source": [
        "##Step 6 validating the results"
      ],
      "metadata": {
        "id": "XKHWrLc47vUv"
      }
    },
    {
      "cell_type": "code",
      "source": [
        "!npx @elephant-xyz/cli@1.13.0 validate-and-upload output --dry-run --output-csv test-results.csv"
      ],
      "metadata": {
        "id": "Z33zRmVR7zVn"
      },
      "execution_count": null,
      "outputs": []
    }
  ]
}