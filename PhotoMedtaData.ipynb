{
  "cells": [
    {
      "cell_type": "markdown",
      "metadata": {
        "id": "view-in-github",
        "colab_type": "text"
      },
      "source": [
        "<a href=\"https://colab.research.google.com/github/elephant-xyz/notebook/blob/main/PhotoMedtaData.ipynb\" target=\"_parent\"><img src=\"https://colab.research.google.com/assets/colab-badge.svg\" alt=\"Open In Colab\"/></a>"
      ]
    },
    {
      "cell_type": "markdown",
      "metadata": {
        "id": "ILCxMc0LIsi-"
      },
      "source": []
    },
    {
      "cell_type": "markdown",
      "source": [
        "# 🐘 Welcome to Step 4 of Elephant Mining\n",
        "\n",
        "Congratulations on reaching **Step 4**! By now, you’ve successfully **minted your County Data Group**. In this notebook, you'll use your **seed data** and **property images** to mint your **Photo Data Group**.\n",
        "\n",
        "---\n",
        "\n",
        "## 🧠 What You’ll Do in This Step\n",
        "\n",
        "This notebook allows you to:\n",
        "\n",
        "- Upload your property images  \n",
        "- Mint a new **Photo Data Group**  \n",
        "- Automatically generate a **fact sheet** based on the image metadata  \n",
        "\n",
        "This step completes the visual layer of your dataset, setting you up for further data enrichment.\n",
        "\n",
        "---\n",
        "\n",
        "## ✅ Prerequisites\n",
        "\n",
        "Before continuing, make sure you’ve completed the following two notebooks:\n",
        "\n",
        "1. [📗 Notebook 1: Seed Minting](https://colab.research.google.com/drive/14tSNSP8Pe-mY4VwX9JhXgfyOvzmN3kC0?usp=chrome_ntp)  \n",
        "2. [📘 Notebook 2: County Data Minting](https://colab.research.google.com/drive/1ZI_eScKFh2kDIZgwXljhOgBIgrenDhRi?usp=chrome_ntp)\n",
        "\n",
        "After running both, you should have the following output files ready:\n",
        "\n",
        "- `upload-results.json`  \n",
        "- `submit.zip`\n",
        "\n",
        "---\n",
        "\n",
        "## 📸 In This Notebook\n",
        "\n",
        "Once your image files are uploaded:\n",
        "\n",
        "1. The images will be minted into the **Photo Data Group**  \n",
        "2. A **fact sheet** will be generated for inspection  \n",
        "3. You can continue with **image-based metadata extraction**  \n",
        "4. This will lead to a complete and enriched data product  \n",
        "\n",
        "---\n",
        "\n"
      ],
      "metadata": {
        "id": "mz5mj3mc9A9r"
      }
    },
    {
      "cell_type": "markdown",
      "metadata": {
        "id": "R8Lh8z_QIuBx"
      },
      "source": [
        "## 📥 Step 1: Upload the `.env` File\n",
        "\n",
        "This notebook requires a `.env` file that contains your API keys and credentials.  \n",
        "It will be used to securely load the following environment variables:\n",
        "\n",
        "| Variable Name           | Purpose                     |\n",
        "|-------------------------|-----------------------------|\n",
        "| `OPENAI_API_KEY`        | Access to OpenAI API        |\n",
        "| `AWS_ACCESS_KEY_ID`     | AWS access key              |\n",
        "| `AWS_SECRET_ACCESS_KEY` | AWS secret access key       |\n",
        "| `S3_BUCKET_NAME`        | AWS secret access key       |\n",
        "| `IMAGES_DIR`            | Images                      |\n",
        "| `ELEPHANT_PRIVATE_KEY`  | Elephant wallet address     |\n",
        "| `PINATA_JWT`            | PINATA token                |\n",
        "\n",
        "\n",
        "\n",
        "- Click the **folder icon** 📂 in the left sidebar to open the file browser.\n",
        "- Then click the **\"Upload\"** button and choose your `.env` file.\n",
        "\n",
        "```env\n",
        "# example of .env file\n",
        "OPENAI_API_KEY=sk-XXXXXXXXXXXXXXXXXXXXXXXXXXXX\n",
        "AWS_ACCESS_KEY_ID=XXXXXX\n",
        "AWS_SECRET_ACCESS_KEY=XXXXXX\n",
        "S3_BUCKET_NAME=your-s3-bucket-name-here\n",
        "IMAGES_DIR=images\n",
        "ELEPHANT_PRIVATE_KEY=xxxxx\n",
        "PINATA_JWT=xxxxx\n",
        "```\n"
      ]
    },
    {
      "cell_type": "markdown",
      "metadata": {
        "id": "4A8fm24ILQ8s"
      },
      "source": []
    },
    {
      "cell_type": "markdown",
      "metadata": {
        "id": "6Q36E40RNVE3"
      },
      "source": [
        "## Step 2: Upload `upload_results.csv`\n",
        "\n",
        "Upload the `upload_results.csv` file to the `/content/` directory.\n",
        "\n",
        "> 📌 **Important**: You must generate this file by running **Step 2** of the following Colab notebook:  \n",
        "> 👉 [Seed Data – Step 2](https://colab.research.google.com/drive/14tSNSP8Pe-mY4VwX9JhXgfyOvzmN3kC0?usp=sharing#scrollTo=OFKp4E49651Z)\n",
        "\n",
        "After running Step 2 in that notebook, download the `upload_results.json` file and upload it to this notebook's `/content/` directory.\n",
        "\n",
        "\n",
        "\n"
      ]
    },
    {
      "cell_type": "markdown",
      "source": [
        "## Step 3: Upload `submit.zip`\n",
        "\n",
        "Upload the submit.zip file to the /content/ directory of this notebook.\n",
        "\n",
        "📌 Important: You must generate submit.zip of the following collab\n",
        "👉 County Data Group [ – Step 3](https://colab.research.google.com/drive/1ZI_eScKFh2kDIZgwXljhOgBIgrenDhRi#scrollTo=HA0ppLFpUm1j)\n",
        "\n",
        "After running Step 3 in that notebook, download the submit.zip file and upload it here to /content/ so it can be used in the next steps."
      ],
      "metadata": {
        "id": "jxNfw9JsYld2"
      }
    },
    {
      "cell_type": "markdown",
      "metadata": {
        "id": "F000A7O3PtrJ"
      },
      "source": [
        "## Step 4: Setup folder structure for processing images"
      ]
    },
    {
      "cell_type": "code",
      "execution_count": null,
      "metadata": {
        "colab": {
          "base_uri": "https://localhost:8080/"
        },
        "id": "yiY6rgFYPvU6",
        "outputId": "7c7fe610-cd68-4aef-a72e-dea19e52c9c6"
      },
      "outputs": [
        {
          "output_type": "stream",
          "name": "stdout",
          "text": [
            "🚀 Starting Colab Folder Setup...\n",
            "==================================================\n",
            "✓ Loaded upload results file: upload_results.csv\n",
            "  - Rows: 2\n",
            "  - Columns: ['propertyCid', 'dataGroupCid', 'dataCid', 'filePath', 'uploadedAt', 'htmlLink']\n",
            "✓ Extracted 2 properties:\n",
            "  - Property ID: 52434205310037080 -> CID: bafkreigzz5foh5ts76vvhxphzulptpnjwznog6lcnxw5wsvfqa7zlxeioa\n",
            "  - Property ID: 30434108090030050 -> CID: bafkreifammzkemqq5xrw7kfyjtjp74gig4m3p2uv2i4qwwt4t6s2s6le4q\n",
            "✓ Created images folder: ./images\n",
            "✓ Created output folder: ./output\n",
            "Found 2 unique properties\n",
            "✓ Created image folder: 52434205310037080\n",
            "✓ Created output folder: 52434205310037080\n",
            "\n",
            "🔍 Following IPFS chain for property 52434205310037080:\n",
            "  [1] Fetching propertyCid: bafkreigzz5foh5ts76vvhxphzulptpnjwznog6lcnxw5wsvfqa7zlxeioa\n",
            "  [2] Found property_seed: bafkreiau7wmu7kyeec74dhzpxt3z6xbykure22t3dln4mtwaen2k3vvniy\n",
            "  [3] Fetching property_seed CID: bafkreiau7wmu7kyeec74dhzpxt3z6xbykure22t3dln4mtwaen2k3vvniy\n",
            "  [4] Found 'from' CID: bafkreid3fwfdgl2tywom4t6g7tbby3m3uxufduss62l2pnvjsmoiaqeqii\n",
            "  [5] Fetching final JSON from: bafkreid3fwfdgl2tywom4t6g7tbby3m3uxufduss62l2pnvjsmoiaqeqii\n",
            "  [✓] Successfully retrieved JSON content\n",
            "✓ Created CID file: bafkreid3fwfdgl2tywom4t6g7tbby3m3uxufduss62l2pnvjsmoiaqeqii.json in output/52434205310037080/\n",
            "✓ Created image folder: 30434108090030050\n",
            "✓ Created output folder: 30434108090030050\n",
            "\n",
            "🔍 Following IPFS chain for property 30434108090030050:\n",
            "  [1] Fetching propertyCid: bafkreifammzkemqq5xrw7kfyjtjp74gig4m3p2uv2i4qwwt4t6s2s6le4q\n",
            "  [2] Found property_seed: bafkreigerrmd2zdrbboj4jppvyqskylwpvqgwqlepvtkeb3cd3ofsthqay\n",
            "  [3] Fetching property_seed CID: bafkreigerrmd2zdrbboj4jppvyqskylwpvqgwqlepvtkeb3cd3ofsthqay\n",
            "  [4] Found 'from' CID: bafkreidohuywgnuf6tuw2xmfamknsp3vblfbqqbbsnuhdtzuqmn3m6dohu\n",
            "  [5] Fetching final JSON from: bafkreidohuywgnuf6tuw2xmfamknsp3vblfbqqbbsnuhdtzuqmn3m6dohu\n",
            "  [✓] Successfully retrieved JSON content\n",
            "✓ Created CID file: bafkreidohuywgnuf6tuw2xmfamknsp3vblfbqqbbsnuhdtzuqmn3m6dohu.json in output/30434108090030050/\n",
            "\n",
            "==================================================\n",
            "FOLDER SETUP COMPLETED\n",
            "==================================================\n",
            "✅ Created 2 image folders\n",
            "✅ Created 2 CID files\n",
            "\n",
            "📁 Folder structure:\n",
            "  📂 Images folder:\n",
            "    └── 30434108090030050/\n",
            "    └── 52434205310037080/\n",
            "  📂 Output folder:\n",
            "    └── 30434108090030050/\n",
            "        └── bafkreidohuywgnuf6tuw2xmfamknsp3vblfbqqbbsnuhdtzuqmn3m6dohu.json\n",
            "    └── 52434205310037080/\n",
            "        └── bafkreid3fwfdgl2tywom4t6g7tbby3m3uxufduss62l2pnvjsmoiaqeqii.json\n",
            "\n",
            "🎉 Ready for image upload!\n",
            "   Place images in: ./images/[property_id]/\n",
            "   CID files created in: ./output/[property_id]/\n",
            "   CID files created with actual IPFS CIDs\n"
          ]
        }
      ],
      "source": [
        "# 1. Install the package\n",
        "!pip install --force-reinstall --no-cache-dir git+https://github.com/elephant-xyz/photo-meta-data-ai.git > /content/install_log.txt 2>&1\n",
        "\n",
        "\n",
        "# 3. Set up folders\n",
        "!colab-folder-setup\n"
      ]
    },
    {
      "cell_type": "markdown",
      "metadata": {
        "id": "ojt2s4z6NxC1"
      },
      "source": [
        "## Step 4: Upload images with Parcel ID Subfolders\n",
        "\n",
        "Place all image files related to that parcel inside its corresponding folder under IMAGE_FOLDER_NAME=images\n",
        "\n",
        "\n",
        "\n",
        "\n"
      ]
    },
    {
      "cell_type": "markdown",
      "metadata": {
        "id": "xJo3i5enWo0J"
      },
      "source": [
        "## Step 5: Setup AWS Environmet to process images\n",
        "\n",
        "Place all image files related to that parcel inside its corresponding folder under IMAGE_FOLDER_NAME=images\n"
      ]
    },
    {
      "cell_type": "code",
      "execution_count": null,
      "metadata": {
        "id": "G2eZfzTpOGV0"
      },
      "outputs": [],
      "source": [
        "!bucket-manager"
      ]
    },
    {
      "cell_type": "markdown",
      "metadata": {
        "id": "lMRhyNPHYsrY"
      },
      "source": [
        "## Step 6 Running AWS rekognition to categorize the pictures\n"
      ]
    },
    {
      "cell_type": "code",
      "execution_count": null,
      "metadata": {
        "colab": {
          "base_uri": "https://localhost:8080/"
        },
        "id": "8rY0yaxVYx-t",
        "outputId": "b056ac2a-5db4-418c-8e5b-8fa3fdaa153b"
      },
      "outputs": [
        {
          "output_type": "stream",
          "name": "stdout",
          "text": [
            "\n",
            "================================================================================\n",
            "📊 COMPREHENSIVE CATEGORIZATION SUMMARY\n",
            "================================================================================\n",
            "\n",
            "🏠 TOTAL PROPERTIES PROCESSED: 2\n",
            "🖼️  TOTAL IMAGES: 98\n",
            "✅ TOTAL CATEGORIZED: 98\n",
            "📈 SUCCESS RATE: 100.0%\n",
            "\n",
            "📁 OVERALL CATEGORY BREAKDOWN:\n",
            "   exterior: 34 images\n",
            "   kitchen: 21 images\n",
            "   living_room: 19 images\n",
            "   bedroom: 10 images\n",
            "   other: 6 images\n",
            "   closet: 3 images\n",
            "   garage: 2 images\n",
            "   bathroom: 1 images\n",
            "   laundry: 1 images\n",
            "   pool: 1 images\n",
            "\n",
            "🏠 PROPERTY-BY-PROPERTY BREAKDOWN:\n",
            "--------------------------------------------------------------------------------\n",
            "\n",
            "📍 Property: 30434108090030050\n",
            "   Address: Property 30434108090030050\n",
            "   Total Images: 24\n",
            "   Categorized: 24\n",
            "   Success Rate: 100.0%\n",
            "   Categories:\n",
            "     • kitchen: 9 images\n",
            "     • living_room: 5 images\n",
            "     • exterior: 4 images\n",
            "     • bedroom: 4 images\n",
            "     • bathroom: 1 images\n",
            "     • closet: 1 images\n",
            "\n",
            "📍 Property: 52434205310037080\n",
            "   Address: Property 52434205310037080\n",
            "   Total Images: 74\n",
            "   Categorized: 74\n",
            "   Success Rate: 100.0%\n",
            "   Categories:\n",
            "     • exterior: 30 images\n",
            "     • living_room: 14 images\n",
            "     • kitchen: 12 images\n",
            "     • other: 6 images\n",
            "     • bedroom: 6 images\n",
            "     • closet: 2 images\n",
            "     • garage: 2 images\n",
            "     • laundry: 1 images\n",
            "     • pool: 1 images\n",
            "\n",
            "================================================================================\n"
          ]
        }
      ],
      "source": [
        "!upload-to-s3\n",
        "!photo-categorizer"
      ]
    },
    {
      "cell_type": "markdown",
      "metadata": {
        "id": "uo7Jjafq6N1i"
      },
      "source": [
        "##Step 7 Running AI to extract data from images"
      ]
    },
    {
      "cell_type": "code",
      "execution_count": null,
      "metadata": {
        "colab": {
          "base_uri": "https://localhost:8080/"
        },
        "id": "67Sqqv2xcurU",
        "outputId": "beedc235-9a95-4ca8-ccd4-e03983aaf893"
      },
      "outputs": [
        {
          "output_type": "stream",
          "name": "stdout",
          "text": [
            "[TOKENS] Prompt: 8593, Completion: 1159\n",
            "[COST] $0.060350 | Images in batch: 1\n",
            "    [✔] Saved: structure_batch_01_photo_metadata.json\n",
            "    [✔] Saved: lot_batch_01_photo_metadata.json\n",
            "    [✔] Saved: utility_batch_01_photo_metadata.json\n",
            "    [✔] Saved: layout_walk-in_closet_batch_01.json\n",
            "    [✔] Saved: appliance_none_batch_01.json\n",
            "    [✔] Updated: bafkreibzrfmqka5h7dnuz7jzilgx4ht5rqcrx3ocl23nger65frbb5hzma.json\n",
            "[TOKENS] Prompt: 10888, Completion: 1191\n",
            "[COST] $0.072305 | Images in batch: 4\n",
            "    [✔] Saved: structure_batch_01_photo_metadata.json\n",
            "    [✔] Saved: lot_batch_01_photo_metadata.json\n",
            "    [✔] Saved: utility_batch_01_photo_metadata.json\n",
            "    [✔] Saved: layout_bedroom_batch_01.json\n",
            "    [✔] Saved: appliance_none_batch_01.json\n",
            "    [→] Found existing main relationship file, merging...\n",
            "    [✔] Updated: bafkreibzrfmqka5h7dnuz7jzilgx4ht5rqcrx3ocl23nger65frbb5hzma.json\n",
            "[TOKENS] Prompt: 11653, Completion: 1183\n",
            "[COST] $0.076010 | Images in batch: 5\n",
            "    [✔] Saved: structure_batch_01_photo_metadata.json\n",
            "    [✔] Saved: lot_batch_01_photo_metadata.json\n",
            "    [✔] Saved: utility_batch_01_photo_metadata.json\n",
            "    [✔] Saved: layout_living_room_batch_01.json\n",
            "    [✔] Saved: appliance_none_batch_01.json\n",
            "    [→] Found existing main relationship file, merging...\n",
            "    [✔] Updated: bafkreibzrfmqka5h7dnuz7jzilgx4ht5rqcrx3ocl23nger65frbb5hzma.json\n",
            "[TOKENS] Prompt: 14713, Completion: 1815\n",
            "[COST] $0.100790 | Images in batch: 9\n",
            "    [✔] Saved: structure_batch_01_photo_metadata.json\n",
            "    [✔] Saved: lot_batch_01_photo_metadata.json\n",
            "    [✔] Saved: utility_batch_01_photo_metadata.json\n",
            "    [✔] Saved: layout_kitchen_batch_01.json\n",
            "    [✔] Saved: layout_full_bathroom_batch_01.json\n",
            "    [✔] Saved: layout_living_room_batch_01.json\n",
            "    [✔] Saved: appliance_refrigerator_batch_01.json\n",
            "    [✔] Saved: appliance_dishwasher_batch_01.json\n",
            "    [→] Found existing main relationship file, merging...\n",
            "    [✔] Updated: bafkreibzrfmqka5h7dnuz7jzilgx4ht5rqcrx3ocl23nger65frbb5hzma.json\n",
            "[TOKENS] Prompt: 8593, Completion: 1180\n",
            "[COST] $0.060665 | Images in batch: 1\n",
            "    [✔] Saved: structure_batch_01_photo_metadata.json\n",
            "    [✔] Saved: lot_batch_01_photo_metadata.json\n",
            "    [✔] Saved: utility_batch_01_photo_metadata.json\n",
            "    [✔] Saved: layout_full_bathroom_batch_01.json\n",
            "    [✔] Saved: appliance_none_batch_01.json\n",
            "    [→] Found existing main relationship file, merging...\n",
            "    [✔] Updated: bafkreibzrfmqka5h7dnuz7jzilgx4ht5rqcrx3ocl23nger65frbb5hzma.json\n",
            "[TOKENS] Prompt: 10888, Completion: 909\n",
            "[COST] $0.068075 | Images in batch: 4\n",
            "    [✔] Saved: structure_batch_01_photo_metadata.json\n",
            "    [✔] Saved: lot_batch_01_photo_metadata.json\n",
            "    [✔] Saved: utility_batch_01_photo_metadata.json\n",
            "    [✔] Saved: appliance_none_batch_01.json\n",
            "    [→] Found existing main relationship file, merging...\n",
            "    [✔] Updated: bafkreibzrfmqka5h7dnuz7jzilgx4ht5rqcrx3ocl23nger65frbb5hzma.json\n",
            "[TOKENS] Prompt: 9358, Completion: 1166\n",
            "[COST] $0.064280 | Images in batch: 2\n",
            "    [✔] Saved: structure_batch_01_photo_metadata.json\n",
            "    [✔] Saved: lot_batch_01_photo_metadata.json\n",
            "    [✔] Saved: utility_batch_01_photo_metadata.json\n",
            "    [✔] Saved: layout_closet_batch_01.json\n",
            "    [✔] Saved: appliance_none_batch_01.json\n",
            "    [✔] Updated: bafkreibzrfmqka5h7dnuz7jzilgx4ht5rqcrx3ocl23nger65frbb5hzma.json\n",
            "[TOKENS] Prompt: 12418, Completion: 1179\n",
            "[COST] $0.079775 | Images in batch: 6\n",
            "    [✔] Saved: structure_batch_01_photo_metadata.json\n",
            "    [✔] Saved: lot_batch_01_photo_metadata.json\n",
            "    [✔] Saved: utility_batch_01_photo_metadata.json\n",
            "    [✔] Saved: layout_bedroom_batch_01.json\n",
            "    [✔] Saved: appliance_none_batch_01.json\n",
            "    [→] Found existing main relationship file, merging...\n",
            "    [✔] Updated: bafkreibzrfmqka5h7dnuz7jzilgx4ht5rqcrx3ocl23nger65frbb5hzma.json\n",
            "[TOKENS] Prompt: 15478, Completion: 1877\n",
            "[COST] $0.105545 | Images in batch: 10\n",
            "    [✔] Saved: structure_batch_01_photo_metadata.json\n",
            "    [✔] Saved: lot_batch_01_photo_metadata.json\n",
            "    [✔] Saved: utility_batch_01_photo_metadata.json\n",
            "    [✔] Saved: layout_home_office_batch_01.json\n",
            "    [✔] Saved: layout_living_room_batch_01.json\n",
            "    [✔] Saved: layout_dining_room_batch_01.json\n",
            "    [✔] Saved: appliance_refrigerator_batch_01.json\n",
            "    [✔] Saved: appliance_microwave_batch_01.json\n",
            "    [✔] Saved: appliance_oven_batch_01.json\n",
            "    [→] Found existing main relationship file, merging...\n",
            "    [✔] Updated: bafkreibzrfmqka5h7dnuz7jzilgx4ht5rqcrx3ocl23nger65frbb5hzma.json\n",
            "[TOKENS] Prompt: 8593, Completion: 1162\n",
            "[COST] $0.060395 | Images in batch: 1\n",
            "    [✔] Saved: structure_batch_01_photo_metadata.json\n",
            "    [✔] Saved: lot_batch_01_photo_metadata.json\n",
            "    [✔] Saved: utility_batch_01_photo_metadata.json\n",
            "    [✔] Saved: layout_none_batch_01.json\n",
            "    [✔] Saved: appliance_none_batch_01.json\n",
            "    [→] Found existing main relationship file, merging...\n",
            "    [✔] Updated: bafkreibzrfmqka5h7dnuz7jzilgx4ht5rqcrx3ocl23nger65frbb5hzma.json\n",
            "[TOKENS] Prompt: 15478, Completion: 2155\n",
            "[COST] $0.109715 | Images in batch: 10\n",
            "    [✔] Saved: structure_batch_01_photo_metadata.json\n",
            "    [✔] Saved: lot_batch_01_photo_metadata.json\n",
            "    [✔] Saved: utility_batch_01_photo_metadata.json\n",
            "    [✔] Saved: layout_kitchen_batch_01.json\n",
            "    [DEBUG] AI Response: {\n",
            "  \"lot\": {\n",
            "    \"driveway_condition\": null,\n",
            "    \"driveway_material\": null,\n",
            "    \"fence_height\": null,\n",
            "    \"fence_length\": null,\n",
            "    \"fencing_type\": null,\n",
            "    \"landscaping_features\": null,\n",
            "    \"lot_area_sqft\": null,\n",
            "    \"lot_condition_issues\": null,\n",
            "    \"lot_length_feet\": null,\n",
            "    \"lot_type\": null,\n",
            "    \"lot_width_feet\": null,\n",
            "    \"request_identifier\": null,\n",
            "    \"source_http_request\": {},\n",
            "    \"view\": null\n",
            "  },\n",
            "  \"layout\": {\n",
            "    \"cabinet_style\": \"Traditional\",\n",
            "    \"clutter_level\": \"Staged\",\n",
            "    \"c...\n",
            "    [DEBUG] Generated JSON structure: ['lot', 'layout', 'structure', 'utility', 'appliance', 'file', 'property']\n",
            "    [DEBUG] AI Response: {\n",
            "  \"lot\": {\n",
            "    \"driveway_condition\": null,\n",
            "    \"driveway_material\": null,\n",
            "    \"fence_height\": null,\n",
            "    \"fence_length\": null,\n",
            "    \"fencing_type\": null,\n",
            "    \"landscaping_features\": null,\n",
            "    \"lot_area_sqft\": null,\n",
            "    \"lot_condition_issues\": null,\n",
            "    \"lot_length_feet\": null,\n",
            "    \"lot_type\": null,\n",
            "    \"lot_width_feet\": null,\n",
            "    \"request_identifier\": null,\n",
            "    \"source_http_request\": {},\n",
            "    \"view\": null\n",
            "  },\n",
            "  \"layout\": [\n",
            "    {\n",
            "      \"cabinet_style\": \"Traditional\",\n",
            "      \"clutter_level\": \"None\"...\n",
            "    [DEBUG] Generated JSON structure: ['lot', 'layout', 'structure', 'utility', 'appliance', 'file', 'property']\n",
            "    [DEBUG] AI Response: {\n",
            "  \"lot\": {\n",
            "    \"driveway_condition\": null,\n",
            "    \"driveway_material\": null,\n",
            "    \"fence_height\": null,\n",
            "    \"fence_length\": null,\n",
            "    \"fencing_type\": null,\n",
            "    \"landscaping_features\": null,\n",
            "    \"lot_area_sqft\": null,\n",
            "    \"lot_condition_issues\": null,\n",
            "    \"lot_length_feet\": null,\n",
            "    \"lot_type\": null,\n",
            "    \"lot_width_feet\": null,\n",
            "    \"request_identifier\": null,\n",
            "    \"source_http_request\": {},\n",
            "    \"view\": null\n",
            "  },\n",
            "  \"layout\": [\n",
            "    {\n",
            "      \"cabinet_style\": \"Traditional\",\n",
            "      \"clutter_level\": \"Moder...\n",
            "    [DEBUG] Generated JSON structure: ['lot', 'layout', 'structure', 'utility', 'appliance', 'file', 'property']\n",
            "    [→] Found existing main relationship file, merging...\n",
            "    [✔] Updated: bafkreibzrfmqka5h7dnuz7jzilgx4ht5rqcrx3ocl23nger65frbb5hzma.json\n",
            "[TOKENS] Prompt: 12418, Completion: 2732\n",
            "[COST] $0.103070 | Images in batch: 6\n",
            "    [✔] Saved: structure_batch_01_photo_metadata.json\n",
            "    [✔] Saved: lot_batch_01_photo_metadata.json\n",
            "    [✔] Saved: utility_batch_01_photo_metadata.json\n",
            "    [✔] Saved: layout_office_batch_01.json\n",
            "    [✔] Saved: layout_foyer_batch_01.json\n",
            "    [✔] Saved: layout_living_room_batch_01.json\n",
            "    [✔] Saved: layout_kitchen_batch_01.json\n",
            "    [✔] Saved: layout_dining_room_batch_01.json\n",
            "    [✔] Saved: layout_primary_bedroom_batch_01.json\n",
            "    [✔] Saved: layout_bedroom_batch_01.json\n",
            "    [✔] Saved: appliance_none_batch_01.json\n",
            "    [→] Found existing main relationship file, merging...\n",
            "    [✔] Updated: bafkreibzrfmqka5h7dnuz7jzilgx4ht5rqcrx3ocl23nger65frbb5hzma.json\n",
            "[TOKENS] Prompt: 15478, Completion: 926\n",
            "[COST] $0.091280 | Images in batch: 10\n",
            "    [✔] Saved: structure_batch_01_photo_metadata.json\n",
            "    [✔] Saved: lot_batch_01_photo_metadata.json\n",
            "    [✔] Saved: utility_batch_01_photo_metadata.json\n",
            "    [✔] Saved: appliance_none_batch_01.json\n",
            "    [→] Found existing main relationship file, merging...\n",
            "    [✔] Updated: bafkreibzrfmqka5h7dnuz7jzilgx4ht5rqcrx3ocl23nger65frbb5hzma.json\n",
            "[TOKENS] Prompt: 9358, Completion: 1175\n",
            "[COST] $0.064415 | Images in batch: 2\n",
            "    [✔] Saved: structure_batch_01_photo_metadata.json\n",
            "    [✔] Saved: lot_batch_01_photo_metadata.json\n",
            "    [✔] Saved: utility_batch_01_photo_metadata.json\n",
            "    [✔] Saved: layout_attached_garage_batch_01.json\n",
            "    [✔] Saved: appliance_none_batch_01.json\n",
            "    [→] Found existing main relationship file, merging...\n",
            "    [✔] Updated: bafkreibzrfmqka5h7dnuz7jzilgx4ht5rqcrx3ocl23nger65frbb5hzma.json\n",
            "[TOKENS] Prompt: 8593, Completion: 1184\n",
            "[COST] $0.060725 | Images in batch: 1\n",
            "    [✔] Saved: structure_batch_01_photo_metadata.json\n",
            "    [✔] Saved: lot_batch_01_photo_metadata.json\n",
            "    [✔] Saved: utility_batch_01_photo_metadata.json\n",
            "    [✔] Saved: layout_laundry_room_batch_01.json\n",
            "    [✔] Saved: appliance_washing_machine_batch_01.json\n",
            "    [→] Found existing main relationship file, merging...\n",
            "    [✔] Updated: bafkreibzrfmqka5h7dnuz7jzilgx4ht5rqcrx3ocl23nger65frbb5hzma.json\n"
          ]
        }
      ],
      "source": [
        "!ai-analyzer --local-folders --all-properties --batch-size 10 --max-workers 12\n",
        "!quality-assessment"
      ]
    },
    {
      "cell_type": "markdown",
      "metadata": {
        "id": "E94jkljYFG9-"
      },
      "source": [
        "## Step 8 Summerizing the data"
      ]
    },
    {
      "cell_type": "markdown",
      "metadata": {
        "id": "1WEPamAD7h4F"
      },
      "source": []
    },
    {
      "cell_type": "code",
      "execution_count": null,
      "metadata": {
        "colab": {
          "base_uri": "https://localhost:8080/"
        },
        "id": "vYi6WZTSFLnX",
        "outputId": "cd1ffbe1-3d30-4581-b802-ebb72b614757"
      },
      "outputs": [
        {
          "name": "stdout",
          "output_type": "stream",
          "text": [
            "🚀 Starting summary for 2 properties: 30434108090030050, 52434205310037080\n",
            "================================================================================\n",
            "\n",
            "============================================================\n",
            "PROCESSING PROPERTY 1/2: 30434108090030050\n",
            "============================================================\n",
            "📊 Analyzing property data from: output/30434108090030050\n",
            "    [DEBUG] Looking for structure file: output/30434108090030050/structure.json\n",
            "    [DEBUG] Structure file not found: output/30434108090030050/structure.json\n",
            "    [DEBUG] Looking for lot file: output/30434108090030050/lot.json\n",
            "    [DEBUG] Lot file not found: output/30434108090030050/lot.json\n",
            "\n",
            "============================================================\n",
            "PROPERTY SUMMARY: 30434108090030050\n",
            "============================================================\n",
            "\n",
            "📋 LAYOUTS (5 total)\n",
            "----------------------------------------\n",
            "Space Types:\n",
            "  • laundry room\n",
            "  • office\n",
            "  • closet\n",
            "  • living room\n",
            "  • dining room\n",
            "  • laundry room: \n",
            "  • office: \n",
            "  • closet: \n",
            "  • living room: \n",
            "  • dining room: \n",
            "\n",
            "🏠 STRUCTURE\n",
            "----------------------------------------\n",
            "  No structure data found\n",
            "\n",
            "🌳 LOT\n",
            "----------------------------------------\n",
            "  No lot data found\n",
            "\n",
            "⚡ UTILITIES\n",
            "----------------------------------------\n",
            "  No utility data found\n",
            "\n",
            "🔌 APPLIANCES (3 total)\n",
            "----------------------------------------\n",
            "Types: refrigerator, oven, microwave, washer, dryer\n",
            "  • refrigerator, oven, microwave\n",
            "  • washer, dryer\n",
            "\n",
            "============================================================\n",
            "\n",
            "================================================================================\n",
            "\n",
            "============================================================\n",
            "PROCESSING PROPERTY 2/2: 52434205310037080\n",
            "============================================================\n",
            "📊 Analyzing property data from: output/52434205310037080\n",
            "    [DEBUG] Looking for structure file: output/52434205310037080/structure.json\n",
            "    [DEBUG] Structure file not found: output/52434205310037080/structure.json\n",
            "    [DEBUG] Looking for lot file: output/52434205310037080/lot.json\n",
            "    [DEBUG] Lot file not found: output/52434205310037080/lot.json\n",
            "\n",
            "============================================================\n",
            "PROPERTY SUMMARY: 52434205310037080\n",
            "============================================================\n",
            "\n",
            "📋 LAYOUTS (6 total)\n",
            "----------------------------------------\n",
            "Space Types:\n",
            "  • patio\n",
            "  • bedroom\n",
            "  • closet\n",
            "  • living room\n",
            "  • bathroom\n",
            "  • patio: \n",
            "  • bedroom: \n",
            "  • bedroom: \n",
            "  • closet: \n",
            "  • living room: \n",
            "  • bathroom: \n",
            "\n",
            "🏠 STRUCTURE\n",
            "----------------------------------------\n",
            "  No structure data found\n",
            "\n",
            "🌳 LOT\n",
            "----------------------------------------\n",
            "  No lot data found\n",
            "\n",
            "⚡ UTILITIES\n",
            "----------------------------------------\n",
            "  No utility data found\n",
            "\n",
            "🔌 APPLIANCES (3 total)\n",
            "----------------------------------------\n",
            "Types: dishwasher, refrigerator\n",
            "  • dishwasher\n",
            "  • refrigerator\n",
            "\n",
            "============================================================\n",
            "\n",
            "================================================================================\n",
            "🎉 COMPLETED: Summarized 2 properties\n",
            "================================================================================\n",
            "  • 30434108090030050: 5 layouts, 3 appliances\n",
            "  • 52434205310037080: 6 layouts, 3 appliances\n"
          ]
        }
      ],
      "source": [
        "\n",
        "!property-summarizer -"
      ]
    },
    {
      "cell_type": "markdown",
      "metadata": {
        "id": "XKHWrLc47vUv"
      },
      "source": [
        "##Step 9 Validate the results"
      ]
    },
    {
      "cell_type": "code",
      "execution_count": null,
      "metadata": {
        "id": "Z33zRmVR7zVn"
      },
      "outputs": [],
      "source": [
        "!pip install --force-reinstall --no-cache-dir git+https://github.com/elephant-xyz/photo-meta-data-ai.git > /content/install_log.txt 2>&1\n",
        "\n",
        "!fix-submit-local"
      ]
    }
  ],
  "metadata": {
    "colab": {
      "provenance": [],
      "authorship_tag": "ABX9TyO+5TMINaBv//25FP0zOvOB",
      "include_colab_link": true
    },
    "kernelspec": {
      "display_name": "Python 3",
      "name": "python3"
    },
    "language_info": {
      "name": "python"
    }
  },
  "nbformat": 4,
  "nbformat_minor": 0
}