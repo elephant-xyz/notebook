{
  "cells": [
    {
      "cell_type": "markdown",
      "metadata": {
        "id": "view-in-github",
        "colab_type": "text"
      },
      "source": [
        "<a href=\"https://colab.research.google.com/github/elephant-xyz/notebook/blob/main/PhotoMedtaData.ipynb\" target=\"_parent\"><img src=\"https://colab.research.google.com/assets/colab-badge.svg\" alt=\"Open In Colab\"/></a>"
      ]
    },
    {
      "cell_type": "markdown",
      "metadata": {
        "id": "ILCxMc0LIsi-"
      },
      "source": []
    },
    {
      "cell_type": "markdown",
      "source": [
        "# 🐘 Welcome to Step 4 of Elephant Mining\n",
        "\n",
        "Congratulations on reaching **Step 4**! By now, you’ve successfully **minted your County Data Group**. In this notebook, you'll use your **seed data** and **property images** to mint your **Photo Data Group**.\n",
        "\n",
        "---\n",
        "\n",
        "## 🧠 What You’ll Do in This Step\n",
        "\n",
        "This notebook allows you to:\n",
        "\n",
        "- Upload your property images  \n",
        "- Mint a new **Photo Data Group**  \n",
        "- Automatically generate a **fact sheet** based on the image metadata  \n",
        "\n",
        "This step completes the visual layer of your dataset, setting you up for further data enrichment.\n",
        "\n",
        "---\n",
        "\n",
        "## ✅ Prerequisites\n",
        "\n",
        "Before continuing, make sure you’ve completed the following two notebooks:\n",
        "\n",
        "1. [📗 Notebook 1: Seed Minting](https://colab.research.google.com/drive/14tSNSP8Pe-mY4VwX9JhXgfyOvzmN3kC0?usp=chrome_ntp)  \n",
        "2. [📘 Notebook 2: County Data Minting](https://colab.research.google.com/drive/1ZI_eScKFh2kDIZgwXljhOgBIgrenDhRi?usp=chrome_ntp)\n",
        "\n",
        "After running both, you should have the following output files ready:\n",
        "\n",
        "- `upload-results.csv`  \n",
        "- `submit.zip`\n",
        "\n",
        "Also ensure you have:\n",
        "\n",
        "- **OpenAI API Key**: Valid API key for AI processing capabilities\n",
        "- **AWS Account with Credentials**: AWS Access Key ID and Secret Access Key for cloud services\n",
        "- **Pinata Account**: JWT token for IPFS storage services\n",
        "- **Elephant Address**: Private key for blockchain integration\n",
        "\n",
        "**Required Environment Variables:**\n",
        "---\n",
        "\n",
        "## 📸 In This Notebook\n",
        "\n",
        "Once your image files are uploaded:\n",
        "\n",
        "1. The images will be minted into the **Photo Data Group**  \n",
        "2. A **fact sheet** will be generated for inspection  \n",
        "3. You can continue with **image-based metadata extraction**  \n",
        "4. This will lead to a complete and enriched data product  \n",
        "\n",
        "---\n",
        "\n"
      ],
      "metadata": {
        "id": "mz5mj3mc9A9r"
      }
    },
    {
      "cell_type": "markdown",
      "metadata": {
        "id": "R8Lh8z_QIuBx"
      },
      "source": [
        "## 📥 Step 1: Upload the `.env` File\n",
        "\n",
        "This notebook requires a `.env` file containing your API keys and credentials. Create a file with the following environment variables:\n",
        "\n",
        "| Variable Name | Purpose |\n",
        "|---|---|\n",
        "| `OPENAI_API_KEY` | Access to OpenAI API |\n",
        "| `AWS_ACCESS_KEY_ID` | AWS access key |\n",
        "| `AWS_SECRET_ACCESS_KEY` | AWS secret access key |\n",
        "| `AWS_DEFAULT_REGION` | AWS REGION |\n",
        "| `S3_BUCKET_NAME` | Your S3 bucket name |\n",
        "| `IMAGE_FOLDER_NAME` | Image directory |\n",
        "| `IMAGES_DIR` | Directory path for images |\n",
        "| `ELEPHANT_PRIVATE_KEY` | Elephant wallet private key |\n",
        "| `PINATA_JWT` | Pinata authentication token |\n",
        "\n",
        "### To upload:\n",
        "1. Click the **folder icon** 📂 in the left sidebar\n",
        "2. Click the **\"Upload\"** button\n",
        "3. Select your `.env` file\n",
        "\n",
        "### Example `.env` file:\n",
        "```env\n",
        "OPENAI_API_KEY=sk-XXXXXXXXXXXXXXXXXXXXXXXXXXXX\n",
        "AWS_ACCESS_KEY_ID=XXXXXX\n",
        "AWS_SECRET_ACCESS_KEY=XXXXXX\n",
        "S3_BUCKET_NAME=your-s3-bucket-name-here\n",
        "IMAGES_DIR=images\n",
        "IMAGE_FOLDER_NAME=images\n",
        "ELEPHANT_PRIVATE_KEY=xxxxx\n",
        "PINATA_JWT=xxxxx\n",
        "```\n",
        "\n",
        "> ⚠️ **Security Note:** Never commit your `.env` file to version control or share it publicly.\n"
      ]
    },
    {
      "cell_type": "markdown",
      "metadata": {
        "id": "4A8fm24ILQ8s"
      },
      "source": []
    },
    {
      "cell_type": "markdown",
      "metadata": {
        "id": "6Q36E40RNVE3"
      },
      "source": [
        "## Step 2: Upload `upload_results.csv`\n",
        "\n",
        "Upload the `upload_results.csv` file to the `/content/` directory.\n",
        "\n",
        "> 📌 **Important**: This file was generated by running **Step 2** of the [Seed Data Notebook](https://colab.research.google.com/drive/14tSNSP8Pe-mY4VwX9JhXgfyOvzmN3kC0?usp=sharing#scrollTo=OFKp4E49651Z)\n",
        "\n",
        "The file should now be downloaded and ready to upload to `/content/upload_results.csv`\n",
        "\n",
        "## Step 3: Upload `submit.zip`\n",
        "\n",
        "Upload the `submit.zip` file to the `/content/` directory.\n",
        "\n",
        "> 📌 **Important**: This file was generated by running **Step 3** of the [County Data Notebook](https://colab.research.google.com/drive/1ZI_eScKFh2kDIZgwXljhOgBIgrenDhRi#scrollTo=HA0ppLFpUm1j)\n",
        "\n",
        "The file should now be downloaded and ready to upload to `/content/submit.zip`\n",
        "\n",
        "## Step 4: Verify Data Exists\n",
        "\n",
        "Once both files are uploaded to `/content/`, you can proceed with the main workflow that depends on these generated datasets.\n",
        "\n",
        "**Expected file locations:**\n",
        "- `/content/upload-results.csv`\n",
        "- `/content/submit.zip`\n",
        "\n",
        "\n",
        "\n",
        "\n",
        "\n"
      ]
    },
    {
      "cell_type": "code",
      "source": [
        "!ls -la /content/upload-results.csv\n",
        "!ls -la /content/submit.zip"
      ],
      "metadata": {
        "id": "DdykRvx-3jW5",
        "colab": {
          "base_uri": "https://localhost:8080/"
        },
        "outputId": "65444c0d-3110-4f03-8b51-55c78a2e8bec"
      },
      "execution_count": 1,
      "outputs": [
        {
          "output_type": "stream",
          "name": "stdout",
          "text": [
            "-rw-r--r-- 1 root root 449 Jul 30 18:44 /content/upload-results.csv\n",
            "-rw-r--r-- 1 root root 30282 Jul 30 18:44 /content/submit.zip\n"
          ]
        }
      ]
    },
    {
      "cell_type": "markdown",
      "metadata": {
        "id": "F000A7O3PtrJ"
      },
      "source": [
        "##Step 5: Install Package & Setup Folders (Total Runtime ~ 2 minutes)\n",
        "This step:\n",
        "\n",
        "Installs the photo-meta-data-ai package from GitHub\n",
        "Creates all necessary folders for the project\n",
        "Saves installation details to a log file for troubleshooting\n",
        "\n",
        "Takes 1-2 minutes to complete. Once finished, you'll have the AI package installed and folder structure ready for processing photos.\n",
        "\n"
      ]
    },
    {
      "cell_type": "code",
      "execution_count": 2,
      "metadata": {
        "id": "yiY6rgFYPvU6"
      },
      "outputs": [],
      "source": [
        "# 1. Install the package\n",
        "!pip install --force-reinstall --no-cache-dir git+https://github.com/elephant-xyz/photo-meta-data-ai.git > /content/install_log.txt 2>&1\n",
        "\n",
        "# 2. Set up folders\n",
        "!colab-folder-setup\n"
      ]
    },
    {
      "cell_type": "markdown",
      "metadata": {
        "id": "ojt2s4z6NxC1"
      },
      "source": [
        "##Step 6: Upload Images to Property Subfolders\n",
        "Upload your property images into the pre-created subfolders:\n",
        "\n",
        "Each property already has a subfolder named with its Parcel ID under the images folder\n",
        "Simply drag and drop your images into the correct property subfolder\n",
        "All images for a specific property should go in that property's designated folder\n",
        "\n",
        "The AI will process each property's images and generate metadata organized by Parcel ID.\n",
        "\n",
        "\n",
        "\n",
        "\n"
      ]
    },
    {
      "cell_type": "markdown",
      "source": [
        "\n"
      ],
      "metadata": {
        "id": "y04HMnMuiAT5"
      }
    },
    {
      "cell_type": "markdown",
      "source": [
        "## Step 8 Uploading Photos"
      ],
      "metadata": {
        "id": "fX_uvmsi1wro"
      }
    },
    {
      "cell_type": "code",
      "source": [
        "!process-photo-data\n",
        "!npx -y @elephant-xyz/cli@latest validate-and-upload photo_data_group --output-csv photos.csv"
      ],
      "metadata": {
        "id": "FL2oPh-S3eya",
        "colab": {
          "base_uri": "https://localhost:8080/"
        },
        "outputId": "2ad6f2de-36f6-4ca0-c7ce-718a471f331a"
      },
      "execution_count": 6,
      "outputs": [
        {
          "output_type": "stream",
          "name": "stdout",
          "text": [
            "  - Processed bafkreigzz5foh5ts76vvhxphzulptpnjwznog6lcnxw5wsvfqa7zlxeioa: 74 images, root.json created\n",
            "\n",
            "Processing complete:\n",
            "  - Processed 1 directories with images\n",
            "  - Generated 74 image metadata files\n",
            "  - Each directory has its own root.json\n",
            "  - Supported formats: .jpeg, .jpg, .png, .webp\n",
            "\u001b[1G\u001b[0K⠙\u001b[1G\u001b[0K⠹\u001b[1G\u001b[0K⠸\u001b[1G\u001b[0K⠼\u001b[1G\u001b[0K⠴\u001b[1G\u001b[0K⠦\u001b[1G\u001b[0K⠧\u001b[1G\u001b[0K⠇\u001b[1G\u001b[0K⠏\u001b[1G\u001b[0K⠋\u001b[1G\u001b[0K⠙\u001b[1G\u001b[0K⠹\u001b[1G\u001b[0K⠸\u001b[1G\u001b[0K⠼\u001b[1G\u001b[0K⠴\u001b[1G\u001b[0K⠦\u001b[1G\u001b[0K⠧\u001b[1G\u001b[0K\u001b[1m\u001b[34m🐘 Elephant Network CLI - Validate and Upload\u001b[39m\u001b[22m\n",
            "\n",
            "\u001b7\u001b[?25l\u001b[?7l\u001b[1GInitializing    |\u001b[36m████████████████████████████████████████\u001b[39m| 100% | 0/0 | Errors: 0 | Skipped: 0 | 0s | ETA: 0s\u001b[0K\u001b[1GProcessing Files |\u001b[36m░░░░░░░░░░░░░░░░░░░░░░░░░░░░░░░░░░░░░░░░\u001b[39m| 0% | 0/1 | Errors: 0 | Skipped: 0 | 0s | ETA: NFs\u001b[0K\u001b[1GProcessing Files |\u001b[36m░░░░░░░░░░░░░░░░░░░░░░░░░░░░░░░░░░░░░░░░\u001b[39m| 0% | 0/1 | Errors: 0 | Skipped: 0 | 1s | ETA: NFs\u001b[0K\u001b[1GProcessing Files |\u001b[36m░░░░░░░░░░░░░░░░░░░░░░░░░░░░░░░░░░░░░░░░\u001b[39m| 0% | 0/1 | Errors: 0 | Skipped: 0 | 2s | ETA: NFs\u001b[0K\u001b[1GProcessing Files |\u001b[36m░░░░░░░░░░░░░░░░░░░░░░░░░░░░░░░░░░░░░░░░\u001b[39m| 0% | 0/1 | Errors: 0 | Skipped: 0 | 3s | ETA: NFs\u001b[0K\u001b[1GProcessing Files |\u001b[36m░░░░░░░░░░░░░░░░░░░░░░░░░░░░░░░░░░░░░░░░\u001b[39m| 0% | 0/1 | Errors: 0 | Skipped: 0 | 4s | ETA: NFs\u001b[0K\u001b[1GProcessing Files |\u001b[36m░░░░░░░░░░░░░░░░░░░░░░░░░░░░░░░░░░░░░░░░\u001b[39m| 0% | 0/1 | Errors: 0 | Skipped: 0 | 5s | ETA: NFs\u001b[0K\u001b[1GProcessing Files |\u001b[36m░░░░░░░░░░░░░░░░░░░░░░░░░░░░░░░░░░░░░░░░\u001b[39m| 0% | 0/1 | Errors: 0 | Skipped: 0 | 6s | ETA: NFs\u001b[0K\u001b[1GProcessing Files |\u001b[36m░░░░░░░░░░░░░░░░░░░░░░░░░░░░░░░░░░░░░░░░\u001b[39m| 0% | 0/1 | Errors: 0 | Skipped: 0 | 7s | ETA: NFs\u001b[0K\u001b[1GProcessing Files |\u001b[36m░░░░░░░░░░░░░░░░░░░░░░░░░░░░░░░░░░░░░░░░\u001b[39m| 0% | 0/1 | Errors: 0 | Skipped: 0 | 8s | ETA: NFs\u001b[0K\u001b[1GProcessing Files |\u001b[36m░░░░░░░░░░░░░░░░░░░░░░░░░░░░░░░░░░░░░░░░\u001b[39m| 0% | 0/1 | Errors: 0 | Skipped: 0 | 9s | ETA: NFs\u001b[0K\u001b[1GProcessing Files |\u001b[36m░░░░░░░░░░░░░░░░░░░░░░░░░░░░░░░░░░░░░░░░\u001b[39m| 0% | 0/1 | Errors: 0 | Skipped: 0 | 10s | ETA: NFs\u001b[0K\u001b[1GProcessing Files |\u001b[36m░░░░░░░░░░░░░░░░░░░░░░░░░░░░░░░░░░░░░░░░\u001b[39m| 0% | 0/1 | Errors: 0 | Skipped: 0 | 11s | ETA: NFs\u001b[0K\u001b[1GProcessing Files |\u001b[36m░░░░░░░░░░░░░░░░░░░░░░░░░░░░░░░░░░░░░░░░\u001b[39m| 0% | 0/1 | Errors: 0 | Skipped: 0 | 12s | ETA: NFs\u001b[0K\u001b[1GProcessing Files |\u001b[36m░░░░░░░░░░░░░░░░░░░░░░░░░░░░░░░░░░░░░░░░\u001b[39m| 0% | 0/1 | Errors: 0 | Skipped: 0 | 13s | ETA: NFs\u001b[0K\u001b[1GProcessing Files |\u001b[36m░░░░░░░░░░░░░░░░░░░░░░░░░░░░░░░░░░░░░░░░\u001b[39m| 0% | 0/1 | Errors: 0 | Skipped: 0 | 14s | ETA: NFs\u001b[0K\u001b[1GProcessing Files |\u001b[36m░░░░░░░░░░░░░░░░░░░░░░░░░░░░░░░░░░░░░░░░\u001b[39m| 0% | 0/1 | Errors: 0 | Skipped: 0 | 15s | ETA: NFs\u001b[0K\u001b[1GProcessing Files |\u001b[36m░░░░░░░░░░░░░░░░░░░░░░░░░░░░░░░░░░░░░░░░\u001b[39m| 0% | 0/1 | Errors: 0 | Skipped: 0 | 16s | ETA: NFs\u001b[0K\u001b[1GProcessing Files |\u001b[36m████████████████████████████████████████\u001b[39m| 100% | 1/1 | Errors: 0 | Skipped: 0 | 17s | ETA: 0s\u001b[0K\u001b[1GInstalling/Updating Fact Sheet Tool |\u001b[36m████████████████████████████████████████\u001b[39m| 100% | 1/1 | Errors: 0 | Skipped: 0 | 47s | ETA: 0s\u001b[0K\u001b[1GGenerating HTML Files |\u001b[36m████████████████████████████████████████\u001b[39m| 100% | 1/1 | Errors: 0 | Skipped: 0 | 47s | ETA: 0s\u001b[0K\u001b[1GGenerating HTML Files |\u001b[36m████████████████████████████████████████\u001b[39m| 100% | 1/1 | Errors: 0 | Skipped: 0 | 48s | ETA: 0s\u001b[0K\u001b[?25h\u001b[?7h\u001b8\n",
            "\u001b[32m\u001b[39m\n",
            "\u001b[32m✅ Validation and upload process finished\u001b[39m\n",
            "\u001b[32m\u001b[39m\n",
            "\u001b[1m📊 Final Report:\u001b[22m\n",
            "  Total files scanned:    1\n",
            "  Files skipped: 0\n",
            "  Processing/upload errors: 0\n",
            "  Successfully processed (validated & uploaded):  1\n",
            "  Total files handled:    1\n",
            "  Duration:               0s\n",
            "\n",
            "  Error report:   ./submit_errors.csv\n",
            "  Warning report: ./submit_warnings.csv\n",
            "  Upload results: photos.csv\n",
            "\u001b[1G\u001b[0K⠙\u001b[1G\u001b[0K"
          ]
        }
      ]
    },
    {
      "cell_type": "markdown",
      "source": [
        "## Step 9: Submitting Your Data to the Blockchain\n",
        "\n",
        "### Submitting Your Data\n",
        "\n",
        "After running the upload command in the notebook:\n",
        "\n",
        "1. **Download your results file**\n",
        "   - The notebook will generate `photos.csv`\n",
        "   - This file contains your data hashes and IPFS CIDs\n",
        "   - Download it to your computer\n",
        "\n",
        "2. **Visit the Oracle Submission Portal**\n",
        "   - Go to https://oracle.elephant.xyz/\n",
        "   - Connect your MetaMask wallet when prompted\n",
        "   - Upload your `submit-results.csv` file\n",
        "\n",
        "3. **Submit transactions**\n",
        "   - The portal will read your CSV and prepare transactions\n",
        "   - Click \"Submit to Contract\" to begin\n",
        "   - MetaMask will pop up for each data entry\n",
        "   - Confirm each transaction (small gas fee applies)\n",
        "   - Wait for confirmations between submissions\n",
        "\n",
        "Once complete, your data is permanently recorded on the blockchain. You'll receive vMahout tokens as rewards after consensus is reached (when 3 different oracles submit matching data hashes)."
      ],
      "metadata": {
        "id": "cAxcVrYl7vA9"
      }
    },
    {
      "cell_type": "markdown",
      "metadata": {
        "id": "xJo3i5enWo0J"
      },
      "source": [
        "## Step 10: Setup and Run AWS Rekognition (Total Runtime ~ 3 minutes)\n",
        "\n",
        "The system automatically sets up and runs Amazon Rekognition to analyze your property images:\n",
        "\n",
        "- Connects to AWS Rekognition service for AI-powered image analysis\n",
        "- Processes all images in your property folders automatically\n",
        "- Extracts detailed information like room types, architectural features, and property characteristics\n",
        "\n",
        "No action needed from you - the system handles everything automatically and will notify you when processing is complete.\n"
      ]
    },
    {
      "cell_type": "code",
      "execution_count": 7,
      "metadata": {
        "id": "G2eZfzTpOGV0",
        "colab": {
          "base_uri": "https://localhost:8080/"
        },
        "outputId": "7b78b281-2154-4cb3-e9b0-6786a2974ec2"
      },
      "outputs": [
        {
          "output_type": "stream",
          "name": "stdout",
          "text": [
            "\n",
            "================================================================================\n",
            "📊 COMPREHENSIVE CATEGORIZATION SUMMARY\n",
            "================================================================================\n",
            "\n",
            "🏠 TOTAL PROPERTIES PROCESSED: 1\n",
            "🖼️  TOTAL IMAGES: 148\n",
            "✅ TOTAL CATEGORIZED: 148\n",
            "📈 SUCCESS RATE: 100.0%\n",
            "\n",
            "📁 OVERALL CATEGORY BREAKDOWN:\n",
            "   exterior: 60 images\n",
            "   living_room: 28 images\n",
            "   kitchen: 24 images\n",
            "   other: 12 images\n",
            "   bedroom: 12 images\n",
            "   closet: 4 images\n",
            "   garage: 4 images\n",
            "   laundry: 2 images\n",
            "   pool: 2 images\n",
            "\n",
            "🏠 PROPERTY-BY-PROPERTY BREAKDOWN:\n",
            "--------------------------------------------------------------------------------\n",
            "\n",
            "📍 Property: 52434205310037080\n",
            "   Address: Property 52434205310037080\n",
            "   Total Images: 148\n",
            "   Categorized: 148\n",
            "   Success Rate: 100.0%\n",
            "   Categories:\n",
            "     • exterior: 60 images\n",
            "     • living_room: 28 images\n",
            "     • kitchen: 24 images\n",
            "     • other: 12 images\n",
            "     • bedroom: 12 images\n",
            "     • closet: 4 images\n",
            "     • garage: 4 images\n",
            "     • laundry: 2 images\n",
            "     • pool: 2 images\n",
            "\n",
            "================================================================================\n"
          ]
        }
      ],
      "source": [
        "!bucket-manager\n",
        "!unzip-county-data\n",
        "!upload-to-s3\n",
        "!photo-categorizer"
      ]
    },
    {
      "cell_type": "markdown",
      "metadata": {
        "id": "uo7Jjafq6N1i"
      },
      "source": [
        "## Step 11: Running AI to Extract Data from Images (Total Runtime ~ 7 minutes)\n",
        "\n",
        "The AI system now analyzes your property images to extract valuable metadata:\n",
        "\n",
        "1. **Image Analysis**: AI examines each photo to identify rooms, features, and property details\n",
        "2. **Data Extraction**: System pulls out structured information like room types, square footage estimates, architectural elements, and condition assessments\n",
        "\n",
        "The process runs automatically across all your uploaded property images, generating comprehensive metadata reports for each parcel.\n",
        "\n"
      ]
    },
    {
      "cell_type": "code",
      "execution_count": 8,
      "metadata": {
        "id": "67Sqqv2xcurU",
        "colab": {
          "base_uri": "https://localhost:8080/"
        },
        "outputId": "9890dc72-b13d-4fbd-d938-0569f03146dd"
      },
      "outputs": [
        {
          "output_type": "stream",
          "name": "stdout",
          "text": [
            "\n",
            "============================================================\n",
            "PROPERTY SUMMARY: 52434205310037080\n",
            "============================================================\n",
            "\n",
            "📋 LAYOUTS (12 total)\n",
            "----------------------------------------\n",
            "Space Types:\n",
            "  • Full Bathroom\n",
            "  • Bedroom\n",
            "  • Kitchen\n",
            "  • Closet\n",
            "  • Laundry Room\n",
            "  • Dining Room\n",
            "  • Home Office\n",
            "  • Attached Garage\n",
            "  • Half Bathroom / Powder Room\n",
            "  • Living Room\n",
            "  • Full Bathroom: \n",
            "  • Bedroom: \n",
            "  • Kitchen: \n",
            "  • Bedroom: \n",
            "  • Closet: \n",
            "  • Laundry Room: \n",
            "  • Dining Room: \n",
            "  • Home Office: \n",
            "  • Attached Garage: \n",
            "  • Half Bathroom / Powder Room: \n",
            "  • Living Room: \n",
            "  • Full Bathroom: \n",
            "\n",
            "🏠 STRUCTURE\n",
            "----------------------------------------\n",
            "  No structure data found\n",
            "\n",
            "🌳 LOT\n",
            "----------------------------------------\n",
            "  No lot data found\n",
            "\n",
            "⚡ UTILITIES\n",
            "----------------------------------------\n",
            "  No utility data found\n",
            "\n",
            "🔌 APPLIANCES (6 total)\n",
            "----------------------------------------\n",
            "Types: Oven, Microwave, Refrigerator, Toaster Oven, Washing Machine\n",
            "  • Oven\n",
            "  • Microwave\n",
            "  • Refrigerator\n",
            "  • Toaster Oven\n",
            "  • Washing Machine\n",
            "\n",
            "============================================================\n",
            "\n",
            "================================================================================\n",
            "🎉 COMPLETED: Summarized 1 properties\n",
            "================================================================================\n",
            "  • 52434205310037080: 12 layouts, 6 appliances\n"
          ]
        }
      ],
      "source": [
        "!pip install --force-reinstall --no-cache-dir git+https://github.com/elephant-xyz/photo-meta-data-ai.git > /content/install_log.txt 2>&1\n",
        "\n",
        "!ai-analyzer --local-folders --parallel-categories --all-properties\n",
        "!property-summarizer --all-properties"
      ]
    },
    {
      "cell_type": "markdown",
      "metadata": {
        "id": "1WEPamAD7h4F"
      },
      "source": []
    },
    {
      "cell_type": "markdown",
      "metadata": {
        "id": "XKHWrLc47vUv"
      },
      "source": [
        "## Step 12: Data Validation and Submission\n",
        "\n",
        "The system validates extracted data and prepares it for final submission:\n",
        "\n",
        "1. **Data Validation**: Reviews and verifies all extracted metadata for accuracy\n",
        "2. **Submission Preparation**: Validated data is formatted and organized for CLI submission\n",
        "3. **CLI Submission**: System automatically submits the processed data through the command line interface\n",
        "4. **Fact Sheet Generation**: Creates comprehensive property fact sheets with all extracted information, images, and metadata\n",
        "\n",
        "Final deliverables include validated property reports and detailed fact sheets ready for use.\n"
      ]
    },
    {
      "cell_type": "code",
      "source": [
        "%%bash\n",
        "\n",
        "# Elephant Fact Sheet Template Installer (Silent)\n",
        "set -e  # Exit on any error\n",
        "\n",
        "INSTALL_DIR=\"${HOME}/.elephant-fact-sheet\"\n",
        "BIN_DIR=\"${HOME}/.local/bin\"\n",
        "STATIC_TARGET_DIR=\"$BIN_DIR/templates/assets/static\"\n",
        "TEST=\"/content/templates/assets/static\"\n",
        "\n",
        "# Check Node.js version\n",
        "if ! command -v node &> /dev/null; then\n",
        "    exit 1\n",
        "fi\n",
        "\n",
        "NODE_VERSION=$(node -v | cut -d'v' -f2 | cut -d'.' -f1)\n",
        "if [ \"$NODE_VERSION\" -lt 18 ]; then\n",
        "    exit 1\n",
        "fi\n",
        "\n",
        "# Check npm\n",
        "if ! command -v npm &> /dev/null; then\n",
        "    exit 1\n",
        "fi\n",
        "\n",
        "# Clean up any existing installation\n",
        "rm -rf \"$INSTALL_DIR\"\n",
        "\n",
        "# Clone repo silently\n",
        "git clone --quiet https://github.com/elephant-xyz/fact-sheet-template.git \"$INSTALL_DIR\"\n",
        "\n",
        "cd \"$INSTALL_DIR\"\n",
        "\n",
        "# Silent npm install and build\n",
        "npm install --silent --no-audit --no-fund > /dev/null 2>&1\n",
        "npm run build --silent > /dev/null 2>&1\n",
        "\n",
        "# Setup directories and copy assets\n",
        "mkdir -p \"$BIN_DIR\" \"$STATIC_TARGET_DIR\" \"$TEST\"\n",
        "cp -r \"$INSTALL_DIR/templates/assets/static/\"* \"$STATIC_TARGET_DIR\"\n",
        "cp -r \"$INSTALL_DIR/templates/assets/static/\"* \"$TEST\"\n",
        "\n",
        "# Link and make executable\n",
        "ln -sf \"$INSTALL_DIR/bin/fact-sheet.js\" \"$BIN_DIR/fact-sheet\"\n",
        "chmod +x \"$INSTALL_DIR/bin/fact-sheet.js\"\n",
        "\n"
      ],
      "metadata": {
        "id": "ws5HypL7uEsj"
      },
      "execution_count": 10,
      "outputs": []
    },
    {
      "cell_type": "code",
      "execution_count": 14,
      "metadata": {
        "id": "Z33zRmVR7zVn",
        "colab": {
          "base_uri": "https://localhost:8080/"
        },
        "outputId": "35ac8eb0-6928-41f5-cfa7-5b816eaed7c2"
      },
      "outputs": [
        {
          "output_type": "stream",
          "name": "stdout",
          "text": [
            "\u001b[1G\u001b[0K⠙\u001b[1G\u001b[0K⠹\u001b[1G\u001b[0K⠸\u001b[1G\u001b[0K⠼\u001b[1G\u001b[0K⠴\u001b[1G\u001b[0K⠦\u001b[1G\u001b[0K⠧\u001b[1G\u001b[0K⠇\u001b[1G\u001b[0K⠏\u001b[1G\u001b[0K⠋\u001b[1G\u001b[0K⠙\u001b[1G\u001b[0K⠹\u001b[1G\u001b[0K⠸\u001b[1G\u001b[0K⠼\u001b[1G\u001b[0K⠴\u001b[1G\u001b[0K⠦\u001b[1G\u001b[0K⠧\u001b[1G\u001b[0K⠇\u001b[1G\u001b[0K⠏\u001b[1G\u001b[0K⠋\u001b[1G\u001b[0K⠙\u001b[1G\u001b[0K⠹\u001b[1G\u001b[0K⠸\u001b[1G\u001b[0K⠼\u001b[1G\u001b[0K⠴\u001b[1G\u001b[0K⠦\u001b[1G\u001b[0K\u001b[1m\u001b[34m🐘 Elephant Network CLI - Validate and Upload\u001b[39m\u001b[22m\n",
            "\n",
            "\u001b7\u001b[?25l\u001b[?7l\u001b[1GInitializing    |\u001b[36m████████████████████████████████████████\u001b[39m| 100% | 0/0 | Errors: 0 | Skipped: 0 | 0s | ETA: 0s\u001b[0K\u001b7\u001b[?25l\u001b[?7l\u001b[1GFetching Schemas |\u001b[36m░░░░░░░░░░░░░░░░░░░░░░░░░░░░░░░░░░░░░░░░\u001b[39m| 0% | 0/2 | Errors: 0 | Skipped: 0 | 0s | ETA: 0s\u001b[0K\u001b[1GPre-fetching Schemas |\u001b[36m░░░░░░░░░░░░░░░░░░░░░░░░░░░░░░░░░░░░░░░░\u001b[39m| 0% | 0/1 | Errors: 0 | Skipped: 0 | 0s | ETA: NFs\u001b[0K\u001b[1GFetching Schemas |\u001b[36m████████████████████░░░░░░░░░░░░░░░░░░░░\u001b[39m| 50% | 1/2 | Errors: 0 | Skipped: 0 | 0s | ETA: 1s\u001b[0K\u001b[1GFetching Schemas |\u001b[36m████████████████████████████████████████\u001b[39m| 100% | 2/2 | Errors: 0 | Skipped: 0 | 0s | ETA: 0s\u001b[0K\u001b[?25h\u001b[?7h\u001b8\n",
            "\u001b[1GProcessing Files |\u001b[36m░░░░░░░░░░░░░░░░░░░░░░░░░░░░░░░░░░░░░░░░\u001b[39m| 0% | 0/2 | Errors: 0 | Skipped: 0 | 1s | ETA: NFs\u001b[0K\u001b[1GProcessing Files |\u001b[36m░░░░░░░░░░░░░░░░░░░░░░░░░░░░░░░░░░░░░░░░\u001b[39m| 0% | 0/2 | Errors: 0 | Skipped: 0 | 2s | ETA: NFs\u001b[0K\u001b[1GProcessing Files |\u001b[36m░░░░░░░░░░░░░░░░░░░░░░░░░░░░░░░░░░░░░░░░\u001b[39m| 0% | 0/2 | Errors: 0 | Skipped: 0 | 4s | ETA: NFs\u001b[0K\u001b[1GProcessing Files |\u001b[36m░░░░░░░░░░░░░░░░░░░░░░░░░░░░░░░░░░░░░░░░\u001b[39m| 0% | 0/2 | Errors: 0 | Skipped: 0 | 5s | ETA: NFs\u001b[0K\u001b[1GProcessing Files |\u001b[36m░░░░░░░░░░░░░░░░░░░░░░░░░░░░░░░░░░░░░░░░\u001b[39m| 0% | 0/2 | Errors: 0 | Skipped: 0 | 7s | ETA: NFs\u001b[0K\u001b[1GProcessing Files |\u001b[36m░░░░░░░░░░░░░░░░░░░░░░░░░░░░░░░░░░░░░░░░\u001b[39m| 0% | 0/2 | Errors: 0 | Skipped: 0 | 10s | ETA: NFs\u001b[0K\u001b[1GProcessing Files |\u001b[36m░░░░░░░░░░░░░░░░░░░░░░░░░░░░░░░░░░░░░░░░\u001b[39m| 0% | 0/2 | Errors: 0 | Skipped: 0 | 11s | ETA: NFs\u001b[0K\u001b[1GProcessing Files |\u001b[36m░░░░░░░░░░░░░░░░░░░░░░░░░░░░░░░░░░░░░░░░\u001b[39m| 0% | 0/2 | Errors: 0 | Skipped: 0 | 12s | ETA: NFs\u001b[0K\u001b[1GProcessing Files |\u001b[36m░░░░░░░░░░░░░░░░░░░░░░░░░░░░░░░░░░░░░░░░\u001b[39m| 0% | 0/2 | Errors: 0 | Skipped: 0 | 13s | ETA: NFs\u001b[0K\u001b[1GProcessing Files |\u001b[36m░░░░░░░░░░░░░░░░░░░░░░░░░░░░░░░░░░░░░░░░\u001b[39m| 0% | 0/2 | Errors: 0 | Skipped: 0 | 14s | ETA: NFs\u001b[0K\u001b[1GProcessing Files |\u001b[36m░░░░░░░░░░░░░░░░░░░░░░░░░░░░░░░░░░░░░░░░\u001b[39m| 0% | 0/2 | Errors: 0 | Skipped: 0 | 15s | ETA: NFs\u001b[0K\u001b[1GProcessing Files |\u001b[36m░░░░░░░░░░░░░░░░░░░░░░░░░░░░░░░░░░░░░░░░\u001b[39m| 0% | 0/2 | Errors: 0 | Skipped: 0 | 16s | ETA: NFs\u001b[0K\u001b[1GProcessing Files |\u001b[36m░░░░░░░░░░░░░░░░░░░░░░░░░░░░░░░░░░░░░░░░\u001b[39m| 0% | 0/2 | Errors: 0 | Skipped: 0 | 17s | ETA: NFs\u001b[0K\u001b[1GProcessing Files |\u001b[36m░░░░░░░░░░░░░░░░░░░░░░░░░░░░░░░░░░░░░░░░\u001b[39m| 0% | 0/2 | Errors: 0 | Skipped: 0 | 18s | ETA: NFs\u001b[0K\u001b[1GProcessing Files |\u001b[36m░░░░░░░░░░░░░░░░░░░░░░░░░░░░░░░░░░░░░░░░\u001b[39m| 0% | 0/2 | Errors: 0 | Skipped: 0 | 19s | ETA: NFs\u001b[0K\u001b[1GProcessing Files |\u001b[36m░░░░░░░░░░░░░░░░░░░░░░░░░░░░░░░░░░░░░░░░\u001b[39m| 0% | 0/2 | Errors: 0 | Skipped: 0 | 20s | ETA: NFs\u001b[0K\u001b[1GProcessing Files |\u001b[36m████████████████████░░░░░░░░░░░░░░░░░░░░\u001b[39m| 50% | 1/2 | Errors: 0 | Skipped: 0 | 20s | ETA: 20s\u001b[0K\u001b[1GProcessing Files |\u001b[36m████████████████████░░░░░░░░░░░░░░░░░░░░\u001b[39m| 50% | 1/2 | Errors: 0 | Skipped: 0 | 21s | ETA: 20s\u001b[0K\u001b[1GProcessing Files |\u001b[36m████████████████████████████████████████\u001b[39m| 100% | 2/2 | Errors: 0 | Skipped: 0 | 21s | ETA: 0s\u001b[0K\u001b[1GInstalling/Updating Fact Sheet Tool |\u001b[36m████████████████████████████████████████\u001b[39m| 100% | 1/1 | Errors: 0 | Skipped: 0 | 50s | ETA: 0s\u001b[0K\u001b[1GGenerating HTML Files |\u001b[36m████████████████████████████████████████\u001b[39m| 100% | 1/1 | Errors: 0 | Skipped: 0 | 51s | ETA: 0s\u001b[0K\u001b[1GUploading HTML Files |\u001b[36m░░░░░░░░░░░░░░░░░░░░░░░░░░░░░░░░░░░░░░░░\u001b[39m| 0% | 0/1 | Errors: 0 | Skipped: 0 | 51s | ETA: NFs\u001b[0K\u001b[1GUploading HTML Files |\u001b[36m░░░░░░░░░░░░░░░░░░░░░░░░░░░░░░░░░░░░░░░░\u001b[39m| 0% | 0/1 | Errors: 0 | Skipped: 0 | 52s | ETA: NFs\u001b[0K\u001b[1GUploading HTML Files |\u001b[36m░░░░░░░░░░░░░░░░░░░░░░░░░░░░░░░░░░░░░░░░\u001b[39m| 0% | 0/1 | Errors: 0 | Skipped: 0 | 53s | ETA: NFs\u001b[0K\u001b[1GUploading HTML Files |\u001b[36m░░░░░░░░░░░░░░░░░░░░░░░░░░░░░░░░░░░░░░░░\u001b[39m| 0% | 0/1 | Errors: 0 | Skipped: 0 | 54s | ETA: NFs\u001b[0K\u001b[1GUploading HTML Files |\u001b[36m░░░░░░░░░░░░░░░░░░░░░░░░░░░░░░░░░░░░░░░░\u001b[39m| 0% | 0/1 | Errors: 0 | Skipped: 0 | 55s | ETA: NFs\u001b[0K\u001b[1GUploading HTML Files |\u001b[36m░░░░░░░░░░░░░░░░░░░░░░░░░░░░░░░░░░░░░░░░\u001b[39m| 0% | 0/1 | Errors: 0 | Skipped: 0 | 56s | ETA: NFs\u001b[0K\u001b[1GUploading HTML Files |\u001b[36m░░░░░░░░░░░░░░░░░░░░░░░░░░░░░░░░░░░░░░░░\u001b[39m| 0% | 0/1 | Errors: 0 | Skipped: 0 | 57s | ETA: NFs\u001b[0K\u001b[1GUploading HTML Files |\u001b[36m░░░░░░░░░░░░░░░░░░░░░░░░░░░░░░░░░░░░░░░░\u001b[39m| 0% | 0/1 | Errors: 0 | Skipped: 0 | 58s | ETA: NFs\u001b[0K\u001b[1GUploading HTML Files |\u001b[36m░░░░░░░░░░░░░░░░░░░░░░░░░░░░░░░░░░░░░░░░\u001b[39m| 0% | 0/1 | Errors: 0 | Skipped: 0 | 59s | ETA: NFs\u001b[0K\u001b[1GUploading HTML Files |\u001b[36m████████████████████████████████████████\u001b[39m| 100% | 1/1 | Errors: 0 | Skipped: 0 | 59s | ETA: 0s\u001b[0K\u001b[?25h\u001b[?7h\u001b8\n",
            "\u001b[32m\u001b[39m\n",
            "\u001b[32m✅ Validation and upload process finished\u001b[39m\n",
            "\u001b[32m\u001b[39m\n",
            "\u001b[1m📊 Final Report:\u001b[22m\n",
            "  Total files scanned:    1\n",
            "  Files skipped: 0\n",
            "  Processing/upload errors: 0\n",
            "  Successfully processed (validated & uploaded):  1\n",
            "  Total files handled:    1\n",
            "  Duration:               7s\n",
            "\n",
            "  Error report:   ./submit_errors.csv\n",
            "  Warning report: ./submit_warnings.csv\n",
            "  Upload results: submit-results.csv\n",
            "\u001b[1m\u001b[22m\n",
            "\u001b[1m🌐 Property Fact Sheet Links:\u001b[22m\n",
            "\u001b[90m  (Note: It may take a few minutes for pages to propagate through IPFS gateways)\u001b[39m\n",
            "\u001b[90m\u001b[39m\n",
            "  1. Directory: bafkreigzz5foh5ts76vvhxphzulptpnjwznog6lcnxw5wsvfqa7zlxeioa\n",
            "     \u001b[36mhttp://dweb.link/ipfs/bafybeicbe4xceqtpwgiihl33kngsytphb7ndv7g6squgy22d37lww2pmam\u001b[39m\n",
            "\n",
            "\u001b[1m\u001b[22m\n",
            "\u001b[1m📄 All HTML links have been saved to: \u001b[32msubmit-results.csv\u001b[39m\u001b[22m\n",
            "\u001b[90m  Please check this file for the complete list of property fact sheet URLs.\u001b[39m\n",
            "\u001b[1G\u001b[0K⠙\u001b[1G\u001b[0K"
          ]
        }
      ],
      "source": [
        "!fix-schema-validation\n",
        "!copy-all-data-for-submission\n",
        "!copy-all-files-from-zip\n",
        "!npx @elephant-xyz/cli@latest validate-and-upload submit-photo --output-csv submit-results.csv"
      ]
    },
    {
      "cell_type": "markdown",
      "source": [
        "## Step 13: Submitting Your Data to the Blockchain\n",
        "\n",
        "### Submitting Your Data\n",
        "\n",
        "After running the upload command in the notebook:\n",
        "\n",
        "1. **Download your results file**\n",
        "   - The notebook will generate `submit-results.csv`\n",
        "   - This file contains your data hashes and IPFS CIDs\n",
        "   - Download it to your computer\n",
        "\n",
        "2. **Visit the Oracle Submission Portal**\n",
        "   - Go to https://oracle.elephant.xyz/\n",
        "   - Connect your MetaMask wallet when prompted\n",
        "   - Upload your `submit-results.csv` file\n",
        "\n",
        "3. **Submit transactions**\n",
        "   - The portal will read your CSV and prepare transactions\n",
        "   - Click \"Submit to Contract\" to begin\n",
        "   - MetaMask will pop up for each data entry\n",
        "   - Confirm each transaction (small gas fee applies)\n",
        "   - Wait for confirmations between submissions\n",
        "\n",
        "Once complete, your data is permanently recorded on the blockchain. You'll receive vMahout tokens as rewards after consensus is reached (when 3 different oracles submit matching data hashes)."
      ],
      "metadata": {
        "id": "-DsIg-MR3Rrj"
      }
    },
    {
      "cell_type": "markdown",
      "source": [
        "## Step 14: Package and Download Results\n",
        "\n",
        "This step creates downloadable files with all your processed data. The system will:\n",
        "\n",
        "1. **Create Download Package**: Automatically zip the submit-photos folder containing all fact sheets and processed images\n",
        "\n",
        "2. **Download Results**: Two files will be made available for download\n",
        "\n",
        "**Files to Download:**\n",
        "- `submit-results.csv` - Structured data with all extracted property metadata\n",
        "- `submit-photo.zip` - Complete package containing fact sheets and processed images\n",
        "\n",
        "Your processed property data is now saved locally for use."
      ],
      "metadata": {
        "id": "KEeTcfuy5dEI"
      }
    },
    {
      "cell_type": "code",
      "source": [
        "!zip -r submit-photo.zip submit-photo/ > /dev/null 2>&1\n",
        "\n"
      ],
      "metadata": {
        "id": "Z8Jw-Bxu6Oa1"
      },
      "execution_count": null,
      "outputs": []
    },
    {
      "cell_type": "markdown",
      "source": [
        "## Step 15: Cleanup\n",
        "\n",
        "Final and optional step to save your results and clean up the workspace:\n",
        "\n",
        "3. **Cleanup Workspace**: After downloading, the system removes all temporary files and folders including:\n",
        "  - `images` folder (uploaded property photos)\n",
        "  - `output` folder (processing files)\n",
        "  - `county-data` folder (temporary data)\n",
        "  - `submit-photos` folder (final results)\n",
        "  - `logs` folder (processing logs)\n",
        "\n",
        "**Important**: Make sure to download your results before the cleanup step, as all files will be permanently deleted from the workspace."
      ],
      "metadata": {
        "id": "t4sJUpBJ8uru"
      }
    },
    {
      "cell_type": "code",
      "source": [
        "!rm -rf images/ output/ county-data/ submit-photo/ logs/ photo_data_group/ > /dev/null 2>&1\n",
        "!find . -maxdepth 1 -type f \\( -name \"*.csv\" -o -name \"*.zip\" -o -name \"*.jpg\" -o -name \"*.txt\" -o -name \"*.log\" -o -name \".env\" \\) -exec rm -f {} \\;\n",
        "\n",
        "!rm -rf /root/.local/bin/fact-sheet\n",
        "!rm -rf fact-sheet-template/\n",
        "!rm -rf /root/.elephant-fact-sheet"
      ],
      "metadata": {
        "id": "HTwgC_Wd8_pA"
      },
      "execution_count": 17,
      "outputs": []
    },
    {
      "cell_type": "code",
      "source": [
        "!rm -rf output/52434205310037080\n"
      ],
      "metadata": {
        "id": "uZawTinvb1Y3"
      },
      "execution_count": 16,
      "outputs": []
    }
  ],
  "metadata": {
    "colab": {
      "provenance": [],
      "include_colab_link": true
    },
    "kernelspec": {
      "display_name": "Python 3",
      "name": "python3"
    },
    "language_info": {
      "name": "python"
    }
  },
  "nbformat": 4,
  "nbformat_minor": 0
}