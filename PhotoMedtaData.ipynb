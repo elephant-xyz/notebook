{
  "nbformat": 4,
  "nbformat_minor": 0,
  "metadata": {
    "colab": {
      "provenance": [],
      "collapsed_sections": [
        "R8Lh8z_QIuBx",
        "F000A7O3PtrJ",
        "xJo3i5enWo0J"
      ],
      "authorship_tag": "ABX9TyPtJUWqEksMHs/+G/FE4AS1",
      "include_colab_link": true
    },
    "kernelspec": {
      "name": "python3",
      "display_name": "Python 3"
    },
    "language_info": {
      "name": "python"
    }
  },
  "cells": [
    {
      "cell_type": "markdown",
      "metadata": {
        "id": "view-in-github",
        "colab_type": "text"
      },
      "source": [
        "<a href=\"https://colab.research.google.com/github/elephant-xyz/notebook/blob/main/PhotoMedtaData.ipynb\" target=\"_parent\"><img src=\"https://colab.research.google.com/assets/colab-badge.svg\" alt=\"Open In Colab\"/></a>"
      ]
    },
    {
      "cell_type": "markdown",
      "source": [],
      "metadata": {
        "id": "ILCxMc0LIsi-"
      }
    },
    {
      "cell_type": "markdown",
      "source": [
        "## 📥 Step 1: Upload the `.env` File\n",
        "\n",
        "This notebook requires a `.env` file that contains your API keys and credentials.  \n",
        "It will be used to securely load the following environment variables:\n",
        "\n",
        "| Variable Name           | Purpose                     |\n",
        "|-------------------------|-----------------------------|\n",
        "| `OPENAI_API_KEY`        | Access to OpenAI API        |\n",
        "| `AWS_ACCESS_KEY_ID`     | AWS access key              |\n",
        "| `AWS_SECRET_ACCESS_KEY` | AWS secret access key       |\n",
        "| `S3_BUCKET_NAME`        | AWS secret access key       |\n",
        "| `IMAGES_DIR`            | Images                      |\n",
        "| `ELEPHANT_PRIVATE_KEY`  | Elephant wallet address     |\n",
        "| `PINATA_JWT`            | PINATA token                |\n",
        "\n",
        "\n",
        "\n",
        "- Click the **folder icon** 📂 in the left sidebar to open the file browser.\n",
        "- Then click the **\"Upload\"** button and choose your `.env` file.\n",
        "\n",
        "```env\n",
        "# example of .env file\n",
        "OPENAI_API_KEY=sk-XXXXXXXXXXXXXXXXXXXXXXXXXXXX\n",
        "AWS_ACCESS_KEY_ID=XXXXXX\n",
        "AWS_SECRET_ACCESS_KEY=XXXXXX\n",
        "S3_BUCKET_NAME=your-s3-bucket-name-here\n",
        "IMAGES_DIR=images\n",
        "ELEPHANT_PRIVATE_KEY=xxxxx\n",
        "PINATA_JWT=xxxxx\n",
        "```\n"
      ],
      "metadata": {
        "id": "R8Lh8z_QIuBx"
      }
    },
    {
      "cell_type": "markdown",
      "source": [],
      "metadata": {
        "id": "4A8fm24ILQ8s"
      }
    },
    {
      "cell_type": "markdown",
      "source": [
        "## Step 2: Upload `upload_results.json`\n",
        "\n",
        "Upload the `upload_results.json` file to the `/content/` directory.\n",
        "\n",
        "> 📌 **Important**: You must generate this file by running **Step 2** of the following Colab notebook:  \n",
        "> 👉 [Upload Images Notebook – Step 2](https://colab.research.google.com/drive/14tSNSP8Pe-mY4VwX9JhXgfyOvzmN3kC0?usp=sharing#scrollTo=OFKp4E49651Z)\n",
        "\n",
        "After running Step 2 in that notebook, download the `upload_results.json` file and upload it to this notebook's `/content/` directory.\n",
        "\n"
      ],
      "metadata": {
        "id": "6Q36E40RNVE3"
      }
    },
    {
      "cell_type": "markdown",
      "source": [
        "## Step 3: Setup folder structure for processing images"
      ],
      "metadata": {
        "id": "F000A7O3PtrJ"
      }
    },
    {
      "cell_type": "code",
      "source": [
        "# 1. Install the package\n",
        "!pip install --force-reinstall --no-cache-dir git+https://github.com/elephant-xyz/photo-meta-data-ai.git > /content/install_log.txt 2>&1\n",
        "\n",
        "\n",
        "# 3. Set up folders\n",
        "!colab-folder-setup\n"
      ],
      "metadata": {
        "id": "yiY6rgFYPvU6"
      },
      "execution_count": null,
      "outputs": []
    },
    {
      "cell_type": "markdown",
      "source": [
        "## Step 4: Upload images with Parcel ID Subfolders\n",
        "\n",
        "Place all image files related to that parcel inside its corresponding folder under IMAGE_FOLDER_NAME=images\n",
        "\n",
        "\n",
        "\n",
        "\n"
      ],
      "metadata": {
        "id": "ojt2s4z6NxC1"
      }
    },
    {
      "cell_type": "markdown",
      "source": [
        "## Step 5: Setup AWS Environmet to process images\n",
        "\n",
        "Place all image files related to that parcel inside its corresponding folder under IMAGE_FOLDER_NAME=images\n"
      ],
      "metadata": {
        "id": "xJo3i5enWo0J"
      }
    },
    {
      "cell_type": "code",
      "source": [
        "!pip install --force-reinstall --no-cache-dir git+https://github.com/elephant-xyz/photo-meta-data-ai.git > /content/install_log.txt 2>&1\n",
        "\n",
        "!bucket-manager"
      ],
      "metadata": {
        "id": "G2eZfzTpOGV0"
      },
      "execution_count": 18,
      "outputs": []
    },
    {
      "cell_type": "markdown",
      "source": [
        "## Step 6 Running AWS rekognition to categorize the pictures\n"
      ],
      "metadata": {
        "id": "lMRhyNPHYsrY"
      }
    },
    {
      "cell_type": "code",
      "source": [
        "!pip install --force-reinstall --no-cache-dir git+https://github.com/elephant-xyz/photo-meta-data-ai.git > /content/install_log.txt 2>&1\n",
        "\n",
        "!upload-to-s3\n",
        "!photo-categorizer"
      ],
      "metadata": {
        "colab": {
          "base_uri": "https://localhost:8080/"
        },
        "id": "8rY0yaxVYx-t",
        "outputId": "bba76b69-e99f-436b-fe3b-11b6b5be5548"
      },
      "execution_count": 24,
      "outputs": [
        {
          "output_type": "stream",
          "name": "stdout",
          "text": [
            "\n",
            "================================================================================\n",
            "📊 COMPREHENSIVE CATEGORIZATION SUMMARY\n",
            "================================================================================\n",
            "\n",
            "🏠 TOTAL PROPERTIES PROCESSED: 2\n",
            "🖼️  TOTAL IMAGES: 15\n",
            "✅ TOTAL CATEGORIZED: 15\n",
            "📈 SUCCESS RATE: 100.0%\n",
            "\n",
            "📁 OVERALL CATEGORY BREAKDOWN:\n",
            "   exterior: 10 images\n",
            "   kitchen: 4 images\n",
            "   other: 1 images\n",
            "\n",
            "🏠 PROPERTY-BY-PROPERTY BREAKDOWN:\n",
            "--------------------------------------------------------------------------------\n",
            "\n",
            "📍 Property: 30434108090030050\n",
            "   Address: Property 30434108090030050\n",
            "   Total Images: 8\n",
            "   Categorized: 8\n",
            "   Success Rate: 100.0%\n",
            "   Categories:\n",
            "     • exterior: 7 images\n",
            "     • other: 1 images\n",
            "\n",
            "📍 Property: 52434205310037080\n",
            "   Address: Property 52434205310037080\n",
            "   Total Images: 7\n",
            "   Categorized: 7\n",
            "   Success Rate: 100.0%\n",
            "   Categories:\n",
            "     • kitchen: 4 images\n",
            "     • exterior: 3 images\n",
            "\n",
            "================================================================================\n"
          ]
        }
      ]
    },
    {
      "cell_type": "markdown",
      "source": [
        "##Step 7 Running AI to extract data from images"
      ],
      "metadata": {
        "id": "uo7Jjafq6N1i"
      }
    },
    {
      "cell_type": "code",
      "source": [
        "!pip install --force-reinstall --no-cache-dir git+https://github.com/elephant-xyz/photo-meta-data-ai.git > /content/install_log.txt 2>&1\n",
        "\n",
        "!ai-analyzer --local-folders --batch-size 10 --max-workers 12\n",
        "!quality-assessment"
      ],
      "metadata": {
        "colab": {
          "base_uri": "https://localhost:8080/"
        },
        "id": "67Sqqv2xcurU",
        "outputId": "0977c5c7-43d2-4163-fe76-e13a3c0720fe"
      },
      "execution_count": 28,
      "outputs": [
        {
          "output_type": "stream",
          "name": "stdout",
          "text": [
            "    [DEBUG] Batch 1 processing 4 images\n",
            "    [DEBUG] Image 1: images/52434205310037080/kitchen/004-1605US1-3E-Jupiter-FL-33477-SMALL.jpg\n",
            "    [DEBUG] Image 2: images/52434205310037080/kitchen/006-1605US1-3E-Jupiter-FL-33477-SMALL.jpg\n",
            "    [DEBUG] Image 3: images/52434205310037080/kitchen/005-1605US1-3E-Jupiter-FL-33477-SMALL.jpg\n",
            "    [DEBUG] Image 4: images/52434205310037080/kitchen/007-1605US1-3E-Jupiter-FL-33477-SMALL.jpg\n",
            "    [DEBUG] AI Response: {\n",
            "  \"lot\": {\n",
            "    \"driveway_condition\": null,\n",
            "    \"driveway_material\": null,\n",
            "    \"fence_height\": null,\n",
            "    \"fence_length\": null,\n",
            "    \"fencing_type\": null,\n",
            "    \"landscaping_features\": null,\n",
            "    \"lot_area_sqft\": null,\n",
            "    \"lot_condition_issues\": null,\n",
            "    \"lot_length_feet\": null,\n",
            "    \"lot_type\": null,\n",
            "    \"lot_width_feet\": null,\n",
            "    \"request_identifier\": null,\n",
            "    \"source_http_request\": {},\n",
            "    \"view\": null\n",
            "  },\n",
            "  \"layout\": {\n",
            "    \"cabinet_style\": \"modern\",\n",
            "    \"clutter_level\": \"minimal\",\n",
            "    \"condi...\n",
            "    [DEBUG] Generated JSON structure: ['lot', 'layout', 'structure', 'utility', 'appliance', 'file', 'property']\n",
            "    [DEBUG] Schema relationship types: ['layout_has_appliance', 'layout_has_file', 'property_has_appliance', 'property_has_layout', 'property_has_lot', 'property_has_structure', 'property_has_utility']\n",
            "    [DEBUG] Processing 4 relationship files\n",
            "    [DEBUG] Batch 1 processing 3 images\n",
            "    [DEBUG] Image 1: images/52434205310037080/exterior/003-1605US1-3E-Jupiter-FL-33477-SMALL.jpg\n",
            "    [DEBUG] Image 2: images/52434205310037080/exterior/001-1605US1-3E-Jupiter-FL-33477-SMALL.jpg\n",
            "    [DEBUG] Image 3: images/52434205310037080/exterior/002-1605US1-3E-Jupiter-FL-33477-SMALL.jpg\n",
            "    [DEBUG] AI Response: {\n",
            "  \"lot\": {\n",
            "    \"driveway_condition\": null,\n",
            "    \"driveway_material\": \"concrete\",\n",
            "    \"fence_height\": null,\n",
            "    \"fence_length\": null,\n",
            "    \"fencing_type\": null,\n",
            "    \"landscaping_features\": \"palm trees, shrubs, grass\",\n",
            "    \"lot_area_sqft\": null,\n",
            "    \"lot_condition_issues\": null,\n",
            "    \"lot_length_feet\": null,\n",
            "    \"lot_type\": null,\n",
            "    \"lot_width_feet\": null,\n",
            "    \"request_identifier\": null,\n",
            "    \"source_http_request\": {},\n",
            "    \"view\": \"garden view\"\n",
            "  },\n",
            "  \"layout\": {\n",
            "    \"cabinet_style\": null,\n",
            "    \"clu...\n",
            "    [DEBUG] Generated JSON structure: ['lot', 'layout', 'structure', 'utility', 'appliance', 'file', 'property']\n",
            "    [DEBUG] Schema relationship types: ['layout_has_appliance', 'layout_has_file', 'property_has_appliance', 'property_has_layout', 'property_has_lot', 'property_has_structure', 'property_has_utility']\n",
            "    [DEBUG] Processing 3 relationship files\n",
            "    [DEBUG] Batch 1 processing 7 images\n",
            "    [DEBUG] Image 1: images/30434108090030050/exterior/003-2558GardensPkwy-PalmBeachGardens-FULL.jpg\n",
            "    [DEBUG] Image 2: images/30434108090030050/exterior/002-2558GardensPkwy-PalmBeachGardens-FULL.jpg\n",
            "    [DEBUG] Image 3: images/30434108090030050/exterior/001-2558GardensPkwy-PalmBeachGardens-FULL.jpg\n",
            "    [DEBUG] Image 4: images/30434108090030050/exterior/004-2558GardensPkwy-PalmBeachGardens-FULL.jpg\n",
            "    [DEBUG] Image 5: images/30434108090030050/exterior/007-2558GardensPkwy-PalmBeachGardens-FULL.jpg\n",
            "    [DEBUG] Image 6: images/30434108090030050/exterior/006-2558GardensPkwy-PalmBeachGardens-FULL.jpg\n",
            "    [DEBUG] Image 7: images/30434108090030050/exterior/008-2558GardensPkwy-PalmBeachGardens-FULL.jpg\n",
            "    [DEBUG] AI Response: {\n",
            "  \"lot\": {\n",
            "    \"driveway_condition\": \"good\",\n",
            "    \"driveway_material\": \"concrete\",\n",
            "    \"fence_height\": \"medium\",\n",
            "    \"fence_length\": \"short\",\n",
            "    \"fencing_type\": \"metal\",\n",
            "    \"landscaping_features\": \"hedges, palm trees\",\n",
            "    \"lot_area_sqft\": null,\n",
            "    \"lot_condition_issues\": null,\n",
            "    \"lot_length_feet\": null,\n",
            "    \"lot_type\": \"townhouse\",\n",
            "    \"lot_width_feet\": null,\n",
            "    \"request_identifier\": null,\n",
            "    \"source_http_request\": {},\n",
            "    \"view\": \"street view\"\n",
            "  },\n",
            "  \"layout\": {\n",
            "    \"cabinet_style\": nu...\n",
            "    [DEBUG] Generated JSON structure: ['lot', 'layout', 'structure', 'utility', 'appliance', 'file', 'property']\n",
            "    [DEBUG] Schema relationship types: ['layout_has_appliance', 'layout_has_file', 'property_has_appliance', 'property_has_layout', 'property_has_lot', 'property_has_structure', 'property_has_utility']\n",
            "    [DEBUG] Processing 7 relationship files\n",
            "    [DEBUG] Batch 1 processing 1 images\n",
            "    [DEBUG] Image 1: images/30434108090030050/other/005-2558GardensPkwy-PalmBeachGardens-FULL.jpg\n",
            "    [DEBUG] AI Response: {\n",
            "  \"lot\": {\n",
            "    \"driveway_condition\": null,\n",
            "    \"driveway_material\": \"brick\",\n",
            "    \"fence_height\": null,\n",
            "    \"fence_length\": null,\n",
            "    \"fencing_type\": null,\n",
            "    \"landscaping_features\": \"shrubs, decorative plants\",\n",
            "    \"lot_area_sqft\": null,\n",
            "    \"lot_condition_issues\": null,\n",
            "    \"lot_length_feet\": null,\n",
            "    \"lot_type\": null,\n",
            "    \"lot_width_feet\": null,\n",
            "    \"request_identifier\": null,\n",
            "    \"source_http_request\": {},\n",
            "    \"view\": null\n",
            "  },\n",
            "  \"layout\": {\n",
            "    \"cabinet_style\": null,\n",
            "    \"clutter_level\":...\n",
            "    [DEBUG] Generated JSON structure: ['lot', 'layout', 'structure', 'utility', 'appliance', 'file', 'property']\n",
            "    [DEBUG] Schema relationship types: ['layout_has_appliance', 'layout_has_file', 'property_has_appliance', 'property_has_layout', 'property_has_lot', 'property_has_structure', 'property_has_utility']\n",
            "    [DEBUG] Processing 1 relationship files\n"
          ]
        }
      ]
    },
    {
      "cell_type": "markdown",
      "source": [
        "## Step 8 Summerizing the data"
      ],
      "metadata": {
        "id": "E94jkljYFG9-"
      }
    },
    {
      "cell_type": "markdown",
      "source": [],
      "metadata": {
        "id": "1WEPamAD7h4F"
      }
    },
    {
      "cell_type": "code",
      "source": [
        "\n",
        "!property-summarizer --all-properties"
      ],
      "metadata": {
        "colab": {
          "base_uri": "https://localhost:8080/"
        },
        "id": "vYi6WZTSFLnX",
        "outputId": "71060b26-c043-48b0-9e59-dbc12a01c1ac"
      },
      "execution_count": 34,
      "outputs": [
        {
          "output_type": "stream",
          "name": "stdout",
          "text": [
            "🚀 Starting summary for 2 properties: 30434108090030050, 52434205310037080\n",
            "================================================================================\n",
            "\n",
            "============================================================\n",
            "PROCESSING PROPERTY 1/2: 30434108090030050\n",
            "============================================================\n",
            "📊 Analyzing property data from: output/30434108090030050\n",
            "\n",
            "============================================================\n",
            "PROPERTY SUMMARY: 30434108090030050\n",
            "============================================================\n",
            "\n",
            "📋 LAYOUTS (0 total)\n",
            "----------------------------------------\n",
            "  No layout data found\n",
            "\n",
            "🏠 STRUCTURE\n",
            "----------------------------------------\n",
            "  No structure data found\n",
            "\n",
            "🌳 LOT\n",
            "----------------------------------------\n",
            "  No lot data found\n",
            "\n",
            "⚡ UTILITIES\n",
            "----------------------------------------\n",
            "  No utility data found\n",
            "\n",
            "🔌 APPLIANCES (0 total)\n",
            "----------------------------------------\n",
            "  No appliance data found\n",
            "\n",
            "============================================================\n",
            "\n",
            "💾 Summary saved to: output/30434108090030050/property_summary.json\n",
            "\n",
            "================================================================================\n",
            "\n",
            "============================================================\n",
            "PROCESSING PROPERTY 2/2: 52434205310037080\n",
            "============================================================\n",
            "📊 Analyzing property data from: output/52434205310037080\n",
            "\n",
            "============================================================\n",
            "PROPERTY SUMMARY: 52434205310037080\n",
            "============================================================\n",
            "\n",
            "📋 LAYOUTS (0 total)\n",
            "----------------------------------------\n",
            "  No layout data found\n",
            "\n",
            "🏠 STRUCTURE\n",
            "----------------------------------------\n",
            "  No structure data found\n",
            "\n",
            "🌳 LOT\n",
            "----------------------------------------\n",
            "  No lot data found\n",
            "\n",
            "⚡ UTILITIES\n",
            "----------------------------------------\n",
            "  No utility data found\n",
            "\n",
            "🔌 APPLIANCES (0 total)\n",
            "----------------------------------------\n",
            "  No appliance data found\n",
            "\n",
            "============================================================\n",
            "\n",
            "💾 Summary saved to: output/52434205310037080/property_summary.json\n",
            "\n",
            "================================================================================\n",
            "🎉 COMPLETED: Summarized 2 properties\n",
            "================================================================================\n",
            "  • 30434108090030050: 0 layouts, 0 appliances\n",
            "  • 52434205310037080: 0 layouts, 0 appliances\n"
          ]
        }
      ]
    },
    {
      "cell_type": "markdown",
      "source": [
        "##Step 8 Validate the results"
      ],
      "metadata": {
        "id": "XKHWrLc47vUv"
      }
    },
    {
      "cell_type": "code",
      "source": [
        "!npx @elephant-xyz/cli@1.13.0 validate-and-upload output --dry-run --output-csv test-results.csv"
      ],
      "metadata": {
        "id": "Z33zRmVR7zVn"
      },
      "execution_count": null,
      "outputs": []
    },
    {
      "cell_type": "code",
      "source": [
        "# prompt: can u add code to empty images and output and logs folder\n",
        "\n",
        "import os\n",
        "import shutil\n",
        "\n",
        "# Define the directories to empty\n",
        "images_dir = 'images'  # This should match the IMAGES_DIR in your .env file\n",
        "output_dir = 'output'\n",
        "logs_dir = 'logs'\n",
        "\n",
        "# Function to empty a directory\n",
        "def empty_directory(directory_path):\n",
        "  if os.path.exists(directory_path):\n",
        "    for filename in os.listdir(directory_path):\n",
        "        file_path = os.path.join(directory_path, filename)\n",
        "        try:\n",
        "            if os.path.isfile(file_path) or os.path.islink(file_path):\n",
        "                os.unlink(file_path)\n",
        "            elif os.path.isdir(file_path):\n",
        "                shutil.rmtree(file_path)\n",
        "        except Exception as e:\n",
        "            print(f'Failed to delete {file_path}. Reason: {e}')\n",
        "    print(f\"Emptied directory: {directory_path}\")\n",
        "  else:\n",
        "    print(f\"Directory does not exist: {directory_path}\")\n",
        "    # Optionally create the directory if it doesn't exist\n",
        "    # os.makedirs(directory_path, exist_ok=True)\n",
        "\n",
        "\n",
        "# Empty the directories\n",
        "empty_directory(images_dir)\n",
        "empty_directory(output_dir)\n",
        "empty_directory(logs_dir)"
      ],
      "metadata": {
        "colab": {
          "base_uri": "https://localhost:8080/"
        },
        "id": "TqkQoqSZqIkf",
        "outputId": "ce54ed5f-c5ff-4a9e-8359-ba1a31a911cf"
      },
      "execution_count": 35,
      "outputs": [
        {
          "output_type": "stream",
          "name": "stdout",
          "text": [
            "Emptied directory: images\n",
            "Emptied directory: output\n",
            "Emptied directory: logs\n"
          ]
        }
      ]
    }
  ]
}