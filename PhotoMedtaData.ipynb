{
  "cells": [
    {
      "cell_type": "markdown",
      "metadata": {
        "id": "view-in-github",
        "colab_type": "text"
      },
      "source": [
        "<a href=\"https://colab.research.google.com/github/elephant-xyz/notebook/blob/main/PhotoMedtaData.ipynb\" target=\"_parent\"><img src=\"https://colab.research.google.com/assets/colab-badge.svg\" alt=\"Open In Colab\"/></a>"
      ]
    },
    {
      "cell_type": "markdown",
      "metadata": {
        "id": "ILCxMc0LIsi-"
      },
      "source": []
    },
    {
      "cell_type": "markdown",
      "source": [
        "# 🐘 Welcome to Step 4 of Elephant Mining\n",
        "\n",
        "Congratulations on reaching **Step 4**! By now, you’ve successfully **minted your County Data Group**. In this notebook, you'll use your **seed data** and **property images** to mint your **Photo Data Group**.\n",
        "\n",
        "---\n",
        "\n",
        "## 🧠 What You’ll Do in This Step\n",
        "\n",
        "This notebook allows you to:\n",
        "\n",
        "- Upload your property images  \n",
        "- Mint a new **Photo Data Group**  \n",
        "- Automatically generate a **fact sheet** based on the image metadata  \n",
        "\n",
        "This step completes the visual layer of your dataset, setting you up for further data enrichment.\n",
        "\n",
        "---\n",
        "\n",
        "## ✅ Prerequisites\n",
        "\n",
        "Before continuing, make sure you’ve completed the following two notebooks:\n",
        "\n",
        "1. [📗 Notebook 1: Seed Minting](https://colab.research.google.com/drive/14tSNSP8Pe-mY4VwX9JhXgfyOvzmN3kC0?usp=chrome_ntp)  \n",
        "2. [📘 Notebook 2: County Data Minting](https://colab.research.google.com/drive/1ZI_eScKFh2kDIZgwXljhOgBIgrenDhRi?usp=chrome_ntp)\n",
        "\n",
        "After running both, you should have the following output files ready:\n",
        "\n",
        "- `upload-results.json`  \n",
        "- `submit.zip`\n",
        "\n",
        "Also ensure you have:\n",
        "\n",
        "- **OpenAI API Key**: Valid API key for AI processing capabilities\n",
        "- **AWS Account with Credentials**: AWS Access Key ID and Secret Access Key for cloud services\n",
        "- **Pinata Account**: JWT token for IPFS storage services\n",
        "- **Elephant Address**: Private key for blockchain integration\n",
        "\n",
        "**Required Environment Variables:**\n",
        "---\n",
        "\n",
        "## 📸 In This Notebook\n",
        "\n",
        "Once your image files are uploaded:\n",
        "\n",
        "1. The images will be minted into the **Photo Data Group**  \n",
        "2. A **fact sheet** will be generated for inspection  \n",
        "3. You can continue with **image-based metadata extraction**  \n",
        "4. This will lead to a complete and enriched data product  \n",
        "\n",
        "---\n",
        "\n"
      ],
      "metadata": {
        "id": "mz5mj3mc9A9r"
      }
    },
    {
      "cell_type": "markdown",
      "metadata": {
        "id": "R8Lh8z_QIuBx"
      },
      "source": [
        "## 📥 Step 1: Upload the `.env` File\n",
        "\n",
        "This notebook requires a `.env` file containing your API keys and credentials. Create a file with the following environment variables:\n",
        "\n",
        "| Variable Name | Purpose |\n",
        "|---|---|\n",
        "| `OPENAI_API_KEY` | Access to OpenAI API |\n",
        "| `AWS_ACCESS_KEY_ID` | AWS access key |\n",
        "| `AWS_SECRET_ACCESS_KEY` | AWS secret access key |\n",
        "| `AWS_DEFAULT_REGION` | AWS REGION |\n",
        "| `S3_BUCKET_NAME` | Your S3 bucket name |\n",
        "| `IMAGE_FOLDER_NAME` | Image directory |\n",
        "| `IMAGES_DIR` | Directory path for images |\n",
        "| `ELEPHANT_PRIVATE_KEY` | Elephant wallet private key |\n",
        "| `PINATA_JWT` | Pinata authentication token |\n",
        "\n",
        "### To upload:\n",
        "1. Click the **folder icon** 📂 in the left sidebar\n",
        "2. Click the **\"Upload\"** button\n",
        "3. Select your `.env` file\n",
        "\n",
        "### Example `.env` file:\n",
        "```env\n",
        "OPENAI_API_KEY=sk-XXXXXXXXXXXXXXXXXXXXXXXXXXXX\n",
        "AWS_ACCESS_KEY_ID=XXXXXX\n",
        "AWS_SECRET_ACCESS_KEY=XXXXXX\n",
        "S3_BUCKET_NAME=your-s3-bucket-name-here\n",
        "IMAGES_DIR=images\n",
        "IMAGE_FOLDER_NAME=images\n",
        "ELEPHANT_PRIVATE_KEY=xxxxx\n",
        "PINATA_JWT=xxxxx\n",
        "```\n",
        "\n",
        "> ⚠️ **Security Note:** Never commit your `.env` file to version control or share it publicly.\n"
      ]
    },
    {
      "cell_type": "markdown",
      "metadata": {
        "id": "4A8fm24ILQ8s"
      },
      "source": []
    },
    {
      "cell_type": "markdown",
      "metadata": {
        "id": "6Q36E40RNVE3"
      },
      "source": [
        "## Step 2: Upload `upload_results.csv`\n",
        "\n",
        "Upload the `upload_results.csv` file to the `/content/` directory.\n",
        "\n",
        "> 📌 **Important**: This file was generated by running **Step 2** of the [Seed Data Notebook](https://colab.research.google.com/drive/14tSNSP8Pe-mY4VwX9JhXgfyOvzmN3kC0?usp=sharing#scrollTo=OFKp4E49651Z)\n",
        "\n",
        "The file should now be downloaded and ready to upload to `/content/upload_results.csv`\n",
        "\n",
        "## Step 3: Upload `submit.zip`\n",
        "\n",
        "Upload the `submit.zip` file to the `/content/` directory.\n",
        "\n",
        "> 📌 **Important**: This file was generated by running **Step 3** of the [County Data Notebook](https://colab.research.google.com/drive/1ZI_eScKFh2kDIZgwXljhOgBIgrenDhRi#scrollTo=HA0ppLFpUm1j)\n",
        "\n",
        "The file should now be downloaded and ready to upload to `/content/submit.zip`\n",
        "\n",
        "## Step 4: Verify Data Exists\n",
        "\n",
        "Once both files are uploaded to `/content/`, you can proceed with the main workflow that depends on these generated datasets.\n",
        "\n",
        "**Expected file locations:**\n",
        "- `/content/upload-results.csv`\n",
        "- `/content/submit.zip`\n",
        "\n",
        "\n",
        "\n",
        "\n",
        "\n"
      ]
    },
    {
      "cell_type": "code",
      "source": [
        "!ls -la /content/upload-results.csv\n",
        "!ls -la /content/submit.zip"
      ],
      "metadata": {
        "id": "DdykRvx-3jW5",
        "colab": {
          "base_uri": "https://localhost:8080/"
        },
        "outputId": "69e950ff-4649-4504-b3f1-0647c96f370a"
      },
      "execution_count": 18,
      "outputs": [
        {
          "output_type": "stream",
          "name": "stdout",
          "text": [
            "-rw-r--r-- 1 root root 449 Jul 25 16:51 /content/upload-results.csv\n",
            "-rw-r--r-- 1 root root 30282 Jul 25 16:51 /content/submit.zip\n"
          ]
        }
      ]
    },
    {
      "cell_type": "markdown",
      "metadata": {
        "id": "F000A7O3PtrJ"
      },
      "source": [
        "##Step 5: Install Package & Setup Folders\n",
        "This step:\n",
        "\n",
        "Installs the photo-meta-data-ai package from GitHub\n",
        "Creates all necessary folders for the project\n",
        "Saves installation details to a log file for troubleshooting\n",
        "\n",
        "Takes 1-2 minutes to complete. Once finished, you'll have the AI package installed and folder structure ready for processing photos.\n",
        "\n"
      ]
    },
    {
      "cell_type": "code",
      "execution_count": 19,
      "metadata": {
        "id": "yiY6rgFYPvU6"
      },
      "outputs": [],
      "source": [
        "# 1. Install the package\n",
        "!pip install --force-reinstall --no-cache-dir git+https://github.com/elephant-xyz/photo-meta-data-ai.git > /content/install_log.txt 2>&1\n",
        "\n",
        "# 2. Set up folders\n",
        "!colab-folder-setup\n"
      ]
    },
    {
      "cell_type": "markdown",
      "metadata": {
        "id": "ojt2s4z6NxC1"
      },
      "source": [
        "##Step 6: Upload Images to Property Subfolders\n",
        "Upload your property images into the pre-created subfolders:\n",
        "\n",
        "Each property already has a subfolder named with its Parcel ID under the images folder\n",
        "Simply drag and drop your images into the correct property subfolder\n",
        "All images for a specific property should go in that property's designated folder\n",
        "\n",
        "The AI will process each property's images and generate metadata organized by Parcel ID.\n",
        "\n",
        "\n",
        "\n",
        "\n"
      ]
    },
    {
      "cell_type": "markdown",
      "source": [
        "\n"
      ],
      "metadata": {
        "id": "y04HMnMuiAT5"
      }
    },
    {
      "cell_type": "code",
      "source": [
        "\n"
      ],
      "metadata": {
        "id": "-G8W9aiDT8EO",
        "outputId": "b7413500-3f60-48ef-87fa-4384eb490373",
        "colab": {
          "base_uri": "https://localhost:8080/"
        }
      },
      "execution_count": 20,
      "outputs": [
        {
          "output_type": "stream",
          "name": "stdout",
          "text": [
            ">>> Base directory: /content/images\n",
            "Processing folder: /content/images/52434205310037080/\n",
            "  • Converting: /content/images/52434205310037080/022-2558GardensPkwy-PalmBeachGardens-FULL.jpg → /content/images/52434205310037080/022-2558GardensPkwy-PalmBeachGardens-FULL.webp\n",
            "  • Converting: /content/images/52434205310037080/073-2558GardensPkwy-PalmBeachGardens-FULL.jpg → /content/images/52434205310037080/073-2558GardensPkwy-PalmBeachGardens-FULL.webp\n",
            "  • Converting: /content/images/52434205310037080/016-2558GardensPkwy-PalmBeachGardens-FULL.jpg → /content/images/52434205310037080/016-2558GardensPkwy-PalmBeachGardens-FULL.webp\n",
            "  • Converting: /content/images/52434205310037080/026-2558GardensPkwy-PalmBeachGardens-FULL.jpg → /content/images/52434205310037080/026-2558GardensPkwy-PalmBeachGardens-FULL.webp\n",
            "  • Converting: /content/images/52434205310037080/013-2558GardensPkwy-PalmBeachGardens-FULL.jpg → /content/images/52434205310037080/013-2558GardensPkwy-PalmBeachGardens-FULL.webp\n",
            "  • Converting: /content/images/52434205310037080/040-2558GardensPkwy-PalmBeachGardens-FULL.jpg → /content/images/52434205310037080/040-2558GardensPkwy-PalmBeachGardens-FULL.webp\n",
            "  • Converting: /content/images/52434205310037080/061-2558GardensPkwy-PalmBeachGardens-FULL.jpg → /content/images/52434205310037080/061-2558GardensPkwy-PalmBeachGardens-FULL.webp\n",
            "  • Converting: /content/images/52434205310037080/070-2558GardensPkwy-PalmBeachGardens-FULL.jpg → /content/images/52434205310037080/070-2558GardensPkwy-PalmBeachGardens-FULL.webp\n",
            "  • Converting: /content/images/52434205310037080/012-2558GardensPkwy-PalmBeachGardens-FULL.jpg → /content/images/52434205310037080/012-2558GardensPkwy-PalmBeachGardens-FULL.webp\n",
            "  • Converting: /content/images/52434205310037080/056-2558GardensPkwy-PalmBeachGardens-FULL.jpg → /content/images/52434205310037080/056-2558GardensPkwy-PalmBeachGardens-FULL.webp\n",
            "  • Converting: /content/images/52434205310037080/043-2558GardensPkwy-PalmBeachGardens-FULL.jpg → /content/images/52434205310037080/043-2558GardensPkwy-PalmBeachGardens-FULL.webp\n",
            "  • Converting: /content/images/52434205310037080/054-2558GardensPkwy-PalmBeachGardens-FULL.jpg → /content/images/52434205310037080/054-2558GardensPkwy-PalmBeachGardens-FULL.webp\n",
            "  • Converting: /content/images/52434205310037080/053-2558GardensPkwy-PalmBeachGardens-FULL.jpg → /content/images/52434205310037080/053-2558GardensPkwy-PalmBeachGardens-FULL.webp\n",
            "  • Converting: /content/images/52434205310037080/005-2558GardensPkwy-PalmBeachGardens-FULL.jpg → /content/images/52434205310037080/005-2558GardensPkwy-PalmBeachGardens-FULL.webp\n",
            "  • Converting: /content/images/52434205310037080/018-2558GardensPkwy-PalmBeachGardens-FULL.jpg → /content/images/52434205310037080/018-2558GardensPkwy-PalmBeachGardens-FULL.webp\n",
            "  • Converting: /content/images/52434205310037080/028-2558GardensPkwy-PalmBeachGardens-FULL.jpg → /content/images/52434205310037080/028-2558GardensPkwy-PalmBeachGardens-FULL.webp\n",
            "  • Converting: /content/images/52434205310037080/002-2558GardensPkwy-PalmBeachGardens-FULL.jpg → /content/images/52434205310037080/002-2558GardensPkwy-PalmBeachGardens-FULL.webp\n",
            "  • Converting: /content/images/52434205310037080/046-2558GardensPkwy-PalmBeachGardens-FULL.jpg → /content/images/52434205310037080/046-2558GardensPkwy-PalmBeachGardens-FULL.webp\n",
            "  • Converting: /content/images/52434205310037080/030-2558GardensPkwy-PalmBeachGardens-FULL.jpg → /content/images/52434205310037080/030-2558GardensPkwy-PalmBeachGardens-FULL.webp\n",
            "  • Converting: /content/images/52434205310037080/041-2558GardensPkwy-PalmBeachGardens-FULL.jpg → /content/images/52434205310037080/041-2558GardensPkwy-PalmBeachGardens-FULL.webp\n",
            "  • Converting: /content/images/52434205310037080/019-2558GardensPkwy-PalmBeachGardens-FULL.jpg → /content/images/52434205310037080/019-2558GardensPkwy-PalmBeachGardens-FULL.webp\n",
            "  • Converting: /content/images/52434205310037080/033-2558GardensPkwy-PalmBeachGardens-FULL.jpg → /content/images/52434205310037080/033-2558GardensPkwy-PalmBeachGardens-FULL.webp\n",
            "  • Converting: /content/images/52434205310037080/007-2558GardensPkwy-PalmBeachGardens-FULL.jpg → /content/images/52434205310037080/007-2558GardensPkwy-PalmBeachGardens-FULL.webp\n",
            "  • Converting: /content/images/52434205310037080/035-2558GardensPkwy-PalmBeachGardens-FULL.jpg → /content/images/52434205310037080/035-2558GardensPkwy-PalmBeachGardens-FULL.webp\n",
            "  • Converting: /content/images/52434205310037080/004-2558GardensPkwy-PalmBeachGardens-FULL.jpg → /content/images/52434205310037080/004-2558GardensPkwy-PalmBeachGardens-FULL.webp\n",
            "  • Converting: /content/images/52434205310037080/059-2558GardensPkwy-PalmBeachGardens-FULL.jpg → /content/images/52434205310037080/059-2558GardensPkwy-PalmBeachGardens-FULL.webp\n",
            "  • Converting: /content/images/52434205310037080/006-2558GardensPkwy-PalmBeachGardens-FULL.jpg → /content/images/52434205310037080/006-2558GardensPkwy-PalmBeachGardens-FULL.webp\n",
            "  • Converting: /content/images/52434205310037080/025-2558GardensPkwy-PalmBeachGardens-FULL.jpg → /content/images/52434205310037080/025-2558GardensPkwy-PalmBeachGardens-FULL.webp\n",
            "  • Converting: /content/images/52434205310037080/031-2558GardensPkwy-PalmBeachGardens-FULL.jpg → /content/images/52434205310037080/031-2558GardensPkwy-PalmBeachGardens-FULL.webp\n",
            "  • Converting: /content/images/52434205310037080/058-2558GardensPkwy-PalmBeachGardens-FULL.jpg → /content/images/52434205310037080/058-2558GardensPkwy-PalmBeachGardens-FULL.webp\n",
            "  • Converting: /content/images/52434205310037080/042-2558GardensPkwy-PalmBeachGardens-FULL.jpg → /content/images/52434205310037080/042-2558GardensPkwy-PalmBeachGardens-FULL.webp\n",
            "  • Converting: /content/images/52434205310037080/063-2558GardensPkwy-PalmBeachGardens-FULL.jpg → /content/images/52434205310037080/063-2558GardensPkwy-PalmBeachGardens-FULL.webp\n",
            "  • Converting: /content/images/52434205310037080/045-2558GardensPkwy-PalmBeachGardens-FULL.jpg → /content/images/52434205310037080/045-2558GardensPkwy-PalmBeachGardens-FULL.webp\n",
            "  • Converting: /content/images/52434205310037080/001-2558GardensPkwy-PalmBeachGardens-FULL.jpg → /content/images/52434205310037080/001-2558GardensPkwy-PalmBeachGardens-FULL.webp\n",
            "  • Converting: /content/images/52434205310037080/037-2558GardensPkwy-PalmBeachGardens-FULL.jpg → /content/images/52434205310037080/037-2558GardensPkwy-PalmBeachGardens-FULL.webp\n",
            "  • Converting: /content/images/52434205310037080/011-2558GardensPkwy-PalmBeachGardens-FULL.jpg → /content/images/52434205310037080/011-2558GardensPkwy-PalmBeachGardens-FULL.webp\n",
            "  • Converting: /content/images/52434205310037080/067-2558GardensPkwy-PalmBeachGardens-FULL.jpg → /content/images/52434205310037080/067-2558GardensPkwy-PalmBeachGardens-FULL.webp\n",
            "  • Converting: /content/images/52434205310037080/017-2558GardensPkwy-PalmBeachGardens-FULL.jpg → /content/images/52434205310037080/017-2558GardensPkwy-PalmBeachGardens-FULL.webp\n",
            "  • Converting: /content/images/52434205310037080/021-2558GardensPkwy-PalmBeachGardens-FULL.jpg → /content/images/52434205310037080/021-2558GardensPkwy-PalmBeachGardens-FULL.webp\n",
            "  • Converting: /content/images/52434205310037080/029-2558GardensPkwy-PalmBeachGardens-FULL.jpg → /content/images/52434205310037080/029-2558GardensPkwy-PalmBeachGardens-FULL.webp\n",
            "  • Converting: /content/images/52434205310037080/009-2558GardensPkwy-PalmBeachGardens-FULL.jpg → /content/images/52434205310037080/009-2558GardensPkwy-PalmBeachGardens-FULL.webp\n",
            "  • Converting: /content/images/52434205310037080/003-2558GardensPkwy-PalmBeachGardens-FULL.jpg → /content/images/52434205310037080/003-2558GardensPkwy-PalmBeachGardens-FULL.webp\n",
            "  • Converting: /content/images/52434205310037080/065-2558GardensPkwy-PalmBeachGardens-FULL.jpg → /content/images/52434205310037080/065-2558GardensPkwy-PalmBeachGardens-FULL.webp\n",
            "  • Converting: /content/images/52434205310037080/008-2558GardensPkwy-PalmBeachGardens-FULL.jpg → /content/images/52434205310037080/008-2558GardensPkwy-PalmBeachGardens-FULL.webp\n",
            "  • Converting: /content/images/52434205310037080/020-2558GardensPkwy-PalmBeachGardens-FULL.jpg → /content/images/52434205310037080/020-2558GardensPkwy-PalmBeachGardens-FULL.webp\n",
            "  • Converting: /content/images/52434205310037080/047-2558GardensPkwy-PalmBeachGardens-FULL.jpg → /content/images/52434205310037080/047-2558GardensPkwy-PalmBeachGardens-FULL.webp\n",
            "  • Converting: /content/images/52434205310037080/072-2558GardensPkwy-PalmBeachGardens-FULL.jpg → /content/images/52434205310037080/072-2558GardensPkwy-PalmBeachGardens-FULL.webp\n",
            "  • Converting: /content/images/52434205310037080/050-2558GardensPkwy-PalmBeachGardens-FULL.jpg → /content/images/52434205310037080/050-2558GardensPkwy-PalmBeachGardens-FULL.webp\n",
            "  • Converting: /content/images/52434205310037080/027-2558GardensPkwy-PalmBeachGardens-FULL.jpg → /content/images/52434205310037080/027-2558GardensPkwy-PalmBeachGardens-FULL.webp\n",
            "  • Converting: /content/images/52434205310037080/069-2558GardensPkwy-PalmBeachGardens-FULL.jpg → /content/images/52434205310037080/069-2558GardensPkwy-PalmBeachGardens-FULL.webp\n",
            "  • Converting: /content/images/52434205310037080/024-2558GardensPkwy-PalmBeachGardens-FULL.jpg → /content/images/52434205310037080/024-2558GardensPkwy-PalmBeachGardens-FULL.webp\n",
            "  • Converting: /content/images/52434205310037080/068-2558GardensPkwy-PalmBeachGardens-FULL.jpg → /content/images/52434205310037080/068-2558GardensPkwy-PalmBeachGardens-FULL.webp\n",
            "  • Converting: /content/images/52434205310037080/032-2558GardensPkwy-PalmBeachGardens-FULL.jpg → /content/images/52434205310037080/032-2558GardensPkwy-PalmBeachGardens-FULL.webp\n",
            "  • Converting: /content/images/52434205310037080/071-2558GardensPkwy-PalmBeachGardens-FULL.jpg → /content/images/52434205310037080/071-2558GardensPkwy-PalmBeachGardens-FULL.webp\n",
            "  • Converting: /content/images/52434205310037080/023-2558GardensPkwy-PalmBeachGardens-FULL.jpg → /content/images/52434205310037080/023-2558GardensPkwy-PalmBeachGardens-FULL.webp\n",
            "  • Converting: /content/images/52434205310037080/062-2558GardensPkwy-PalmBeachGardens-FULL.jpg → /content/images/52434205310037080/062-2558GardensPkwy-PalmBeachGardens-FULL.webp\n",
            "  • Converting: /content/images/52434205310037080/052-2558GardensPkwy-PalmBeachGardens-FULL.jpg → /content/images/52434205310037080/052-2558GardensPkwy-PalmBeachGardens-FULL.webp\n",
            "  • Converting: /content/images/52434205310037080/051-2558GardensPkwy-PalmBeachGardens-FULL.jpg → /content/images/52434205310037080/051-2558GardensPkwy-PalmBeachGardens-FULL.webp\n",
            "  • Converting: /content/images/52434205310037080/066-2558GardensPkwy-PalmBeachGardens-FULL.jpg → /content/images/52434205310037080/066-2558GardensPkwy-PalmBeachGardens-FULL.webp\n",
            "  • Converting: /content/images/52434205310037080/014-2558GardensPkwy-PalmBeachGardens-FULL.jpg → /content/images/52434205310037080/014-2558GardensPkwy-PalmBeachGardens-FULL.webp\n",
            "  • Converting: /content/images/52434205310037080/010-2558GardensPkwy-PalmBeachGardens-FULL.jpg → /content/images/52434205310037080/010-2558GardensPkwy-PalmBeachGardens-FULL.webp\n",
            "  • Converting: /content/images/52434205310037080/034-2558GardensPkwy-PalmBeachGardens-FULL.jpg → /content/images/52434205310037080/034-2558GardensPkwy-PalmBeachGardens-FULL.webp\n",
            "  • Converting: /content/images/52434205310037080/049-2558GardensPkwy-PalmBeachGardens-FULL.jpg → /content/images/52434205310037080/049-2558GardensPkwy-PalmBeachGardens-FULL.webp\n",
            "  • Converting: /content/images/52434205310037080/048-2558GardensPkwy-PalmBeachGardens-FULL.jpg → /content/images/52434205310037080/048-2558GardensPkwy-PalmBeachGardens-FULL.webp\n",
            "  • Converting: /content/images/52434205310037080/057-2558GardensPkwy-PalmBeachGardens-FULL.jpg → /content/images/52434205310037080/057-2558GardensPkwy-PalmBeachGardens-FULL.webp\n",
            "  • Converting: /content/images/52434205310037080/038-2558GardensPkwy-PalmBeachGardens-FULL.jpg → /content/images/52434205310037080/038-2558GardensPkwy-PalmBeachGardens-FULL.webp\n",
            "  • Converting: /content/images/52434205310037080/060-2558GardensPkwy-PalmBeachGardens-FULL.jpg → /content/images/52434205310037080/060-2558GardensPkwy-PalmBeachGardens-FULL.webp\n",
            "  • Converting: /content/images/52434205310037080/074-2558GardensPkwy-PalmBeachGardens-FULL.jpg → /content/images/52434205310037080/074-2558GardensPkwy-PalmBeachGardens-FULL.webp\n",
            "  • Converting: /content/images/52434205310037080/055-2558GardensPkwy-PalmBeachGardens-FULL.jpg → /content/images/52434205310037080/055-2558GardensPkwy-PalmBeachGardens-FULL.webp\n",
            "  • Converting: /content/images/52434205310037080/036-2558GardensPkwy-PalmBeachGardens-FULL.jpg → /content/images/52434205310037080/036-2558GardensPkwy-PalmBeachGardens-FULL.webp\n",
            "  • Converting: /content/images/52434205310037080/044-2558GardensPkwy-PalmBeachGardens-FULL.jpg → /content/images/52434205310037080/044-2558GardensPkwy-PalmBeachGardens-FULL.webp\n",
            "  • Converting: /content/images/52434205310037080/039-2558GardensPkwy-PalmBeachGardens-FULL.jpg → /content/images/52434205310037080/039-2558GardensPkwy-PalmBeachGardens-FULL.webp\n",
            "  • Converting: /content/images/52434205310037080/015-2558GardensPkwy-PalmBeachGardens-FULL.jpg → /content/images/52434205310037080/015-2558GardensPkwy-PalmBeachGardens-FULL.webp\n",
            "  • Converting: /content/images/52434205310037080/064-2558GardensPkwy-PalmBeachGardens-FULL.jpg → /content/images/52434205310037080/064-2558GardensPkwy-PalmBeachGardens-FULL.webp\n",
            ">>> All done.\n"
          ]
        }
      ]
    },
    {
      "cell_type": "markdown",
      "source": [
        "## Step 8 Uploading Photos"
      ],
      "metadata": {
        "id": "fX_uvmsi1wro"
      }
    },
    {
      "cell_type": "code",
      "source": [
        "!process-photo-data\n",
        "!npx -y @elephant-xyz/cli@latest validate-and-upload photo_data_group --output-csv photos.csv"
      ],
      "metadata": {
        "id": "FL2oPh-S3eya",
        "colab": {
          "base_uri": "https://localhost:8080/"
        },
        "outputId": "078ac514-a996-4120-8e6f-a62079133d48"
      },
      "execution_count": 15,
      "outputs": [
        {
          "output_type": "stream",
          "name": "stdout",
          "text": [
            "  - Processed bafkreigzz5foh5ts76vvhxphzulptpnjwznog6lcnxw5wsvfqa7zlxeioa: 148 images, root.json created\n",
            "\n",
            "Processing complete:\n",
            "  - Processed 1 directories with images\n",
            "  - Generated 148 image metadata files\n",
            "  - Each directory has its own root.json\n",
            "  - Supported formats: .jpeg, .jpg, .png, .webp\n",
            "\u001b[1G\u001b[0K⠙\u001b[1G\u001b[0K⠹\u001b[1G\u001b[0K⠸\u001b[1G\u001b[0K⠼\u001b[1G\u001b[0K⠴\u001b[1G\u001b[0K⠦\u001b[1G\u001b[0K⠧\u001b[1G\u001b[0K⠇\u001b[1G\u001b[0K⠏\u001b[1G\u001b[0K⠋\u001b[1G\u001b[0K⠙\u001b[1G\u001b[0K⠹\u001b[1G\u001b[0K⠸\u001b[1G\u001b[0K⠼\u001b[1G\u001b[0K⠴\u001b[1G\u001b[0K⠦\u001b[1G\u001b[0K⠧\u001b[1G\u001b[0K⠇\u001b[1G\u001b[0K⠏\u001b[1G\u001b[0K⠋\u001b[1G\u001b[0K⠙\u001b[1G\u001b[0K⠹\u001b[1G\u001b[0K⠸\u001b[1G\u001b[0K⠼\u001b[1G\u001b[0K⠴\u001b[1G\u001b[0K⠦\u001b[1G\u001b[0K⠧\u001b[1G\u001b[0K⠇\u001b[1G\u001b[0K\u001b[1m\u001b[34m🐘 Elephant Network CLI - Validate and Upload\u001b[39m\u001b[22m\n",
            "\n",
            "\u001b7\u001b[?25l\u001b[?7l\u001b[1GInitializing    |\u001b[36m████████████████████████████████████████\u001b[39m| 100% | 0/0 | Errors: 0 | Skipped: 0 | 0s | ETA: 0s\u001b[0K\u001b[1GProcessing Files |\u001b[36m░░░░░░░░░░░░░░░░░░░░░░░░░░░░░░░░░░░░░░░░\u001b[39m| 0% | 0/1 | Errors: 0 | Skipped: 0 | 0s | ETA: NFs\u001b[0K\u001b[1GProcessing Files |\u001b[36m░░░░░░░░░░░░░░░░░░░░░░░░░░░░░░░░░░░░░░░░\u001b[39m| 0% | 0/1 | Errors: 0 | Skipped: 0 | 1s | ETA: NFs\u001b[0K\u001b[1GProcessing Files |\u001b[36m░░░░░░░░░░░░░░░░░░░░░░░░░░░░░░░░░░░░░░░░\u001b[39m| 0% | 0/1 | Errors: 0 | Skipped: 0 | 2s | ETA: NFs\u001b[0K\u001b[1GProcessing Files |\u001b[36m░░░░░░░░░░░░░░░░░░░░░░░░░░░░░░░░░░░░░░░░\u001b[39m| 0% | 0/1 | Errors: 0 | Skipped: 0 | 3s | ETA: NFs\u001b[0K\u001b[1GProcessing Files |\u001b[36m░░░░░░░░░░░░░░░░░░░░░░░░░░░░░░░░░░░░░░░░\u001b[39m| 0% | 0/1 | Errors: 0 | Skipped: 0 | 4s | ETA: NFs\u001b[0K\u001b[1GProcessing Files |\u001b[36m░░░░░░░░░░░░░░░░░░░░░░░░░░░░░░░░░░░░░░░░\u001b[39m| 0% | 0/1 | Errors: 0 | Skipped: 0 | 5s | ETA: NFs\u001b[0K\u001b[1GProcessing Files |\u001b[36m░░░░░░░░░░░░░░░░░░░░░░░░░░░░░░░░░░░░░░░░\u001b[39m| 0% | 0/1 | Errors: 0 | Skipped: 0 | 6s | ETA: NFs\u001b[0K\u001b[1GProcessing Files |\u001b[36m░░░░░░░░░░░░░░░░░░░░░░░░░░░░░░░░░░░░░░░░\u001b[39m| 0% | 0/1 | Errors: 0 | Skipped: 0 | 7s | ETA: NFs\u001b[0K\u001b[1GProcessing Files |\u001b[36m░░░░░░░░░░░░░░░░░░░░░░░░░░░░░░░░░░░░░░░░\u001b[39m| 0% | 0/1 | Errors: 0 | Skipped: 0 | 8s | ETA: NFs\u001b[0K\u001b[1GProcessing Files |\u001b[36m░░░░░░░░░░░░░░░░░░░░░░░░░░░░░░░░░░░░░░░░\u001b[39m| 0% | 0/1 | Errors: 0 | Skipped: 0 | 9s | ETA: NFs\u001b[0K\u001b[1GProcessing Files |\u001b[36m░░░░░░░░░░░░░░░░░░░░░░░░░░░░░░░░░░░░░░░░\u001b[39m| 0% | 0/1 | Errors: 0 | Skipped: 0 | 10s | ETA: NFs\u001b[0K\u001b[1GProcessing Files |\u001b[36m░░░░░░░░░░░░░░░░░░░░░░░░░░░░░░░░░░░░░░░░\u001b[39m| 0% | 0/1 | Errors: 0 | Skipped: 0 | 11s | ETA: NFs\u001b[0K\u001b[1GProcessing Files |\u001b[36m░░░░░░░░░░░░░░░░░░░░░░░░░░░░░░░░░░░░░░░░\u001b[39m| 0% | 0/1 | Errors: 0 | Skipped: 0 | 12s | ETA: NFs\u001b[0K\u001b[1GProcessing Files |\u001b[36m░░░░░░░░░░░░░░░░░░░░░░░░░░░░░░░░░░░░░░░░\u001b[39m| 0% | 0/1 | Errors: 0 | Skipped: 0 | 13s | ETA: NFs\u001b[0K\u001b[1GProcessing Files |\u001b[36m░░░░░░░░░░░░░░░░░░░░░░░░░░░░░░░░░░░░░░░░\u001b[39m| 0% | 0/1 | Errors: 0 | Skipped: 0 | 14s | ETA: NFs\u001b[0K\u001b[1GProcessing Files |\u001b[36m░░░░░░░░░░░░░░░░░░░░░░░░░░░░░░░░░░░░░░░░\u001b[39m| 0% | 0/1 | Errors: 0 | Skipped: 0 | 15s | ETA: NFs\u001b[0K\u001b[1GProcessing Files |\u001b[36m░░░░░░░░░░░░░░░░░░░░░░░░░░░░░░░░░░░░░░░░\u001b[39m| 0% | 0/1 | Errors: 0 | Skipped: 0 | 16s | ETA: NFs\u001b[0K\u001b[1GProcessing Files |\u001b[36m░░░░░░░░░░░░░░░░░░░░░░░░░░░░░░░░░░░░░░░░\u001b[39m| 0% | 0/1 | Errors: 0 | Skipped: 0 | 17s | ETA: NFs\u001b[0K\u001b[1GProcessing Files |\u001b[36m░░░░░░░░░░░░░░░░░░░░░░░░░░░░░░░░░░░░░░░░\u001b[39m| 0% | 0/1 | Errors: 0 | Skipped: 0 | 18s | ETA: NFs\u001b[0K\u001b[1GProcessing Files |\u001b[36m░░░░░░░░░░░░░░░░░░░░░░░░░░░░░░░░░░░░░░░░\u001b[39m| 0% | 0/1 | Errors: 0 | Skipped: 0 | 19s | ETA: NFs\u001b[0K\u001b[1GProcessing Files |\u001b[36m░░░░░░░░░░░░░░░░░░░░░░░░░░░░░░░░░░░░░░░░\u001b[39m| 0% | 0/1 | Errors: 0 | Skipped: 0 | 20s | ETA: NFs\u001b[0K\u001b[1GProcessing Files |\u001b[36m░░░░░░░░░░░░░░░░░░░░░░░░░░░░░░░░░░░░░░░░\u001b[39m| 0% | 0/1 | Errors: 0 | Skipped: 0 | 21s | ETA: NFs\u001b[0K\u001b[1GProcessing Files |\u001b[36m░░░░░░░░░░░░░░░░░░░░░░░░░░░░░░░░░░░░░░░░\u001b[39m| 0% | 0/1 | Errors: 0 | Skipped: 0 | 22s | ETA: NFs\u001b[0K\u001b[1GProcessing Files |\u001b[36m░░░░░░░░░░░░░░░░░░░░░░░░░░░░░░░░░░░░░░░░\u001b[39m| 0% | 0/1 | Errors: 0 | Skipped: 0 | 23s | ETA: NFs\u001b[0K\u001b[1GProcessing Files |\u001b[36m░░░░░░░░░░░░░░░░░░░░░░░░░░░░░░░░░░░░░░░░\u001b[39m| 0% | 0/1 | Errors: 0 | Skipped: 0 | 24s | ETA: NFs\u001b[0K\u001b[1GProcessing Files |\u001b[36m░░░░░░░░░░░░░░░░░░░░░░░░░░░░░░░░░░░░░░░░\u001b[39m| 0% | 0/1 | Errors: 0 | Skipped: 0 | 25s | ETA: NFs\u001b[0K\u001b[1GProcessing Files |\u001b[36m░░░░░░░░░░░░░░░░░░░░░░░░░░░░░░░░░░░░░░░░\u001b[39m| 0% | 0/1 | Errors: 0 | Skipped: 0 | 26s | ETA: NFs\u001b[0K\u001b[1GProcessing Files |\u001b[36m░░░░░░░░░░░░░░░░░░░░░░░░░░░░░░░░░░░░░░░░\u001b[39m| 0% | 0/1 | Errors: 0 | Skipped: 0 | 27s | ETA: NFs\u001b[0K\u001b[1GProcessing Files |\u001b[36m░░░░░░░░░░░░░░░░░░░░░░░░░░░░░░░░░░░░░░░░\u001b[39m| 0% | 0/1 | Errors: 0 | Skipped: 0 | 28s | ETA: NFs\u001b[0K\u001b[1GProcessing Files |\u001b[36m░░░░░░░░░░░░░░░░░░░░░░░░░░░░░░░░░░░░░░░░\u001b[39m| 0% | 0/1 | Errors: 0 | Skipped: 0 | 29s | ETA: NFs\u001b[0K\u001b[1GProcessing Files |\u001b[36m░░░░░░░░░░░░░░░░░░░░░░░░░░░░░░░░░░░░░░░░\u001b[39m| 0% | 0/1 | Errors: 0 | Skipped: 0 | 30s | ETA: NFs\u001b[0K\u001b[1GProcessing Files |\u001b[36m░░░░░░░░░░░░░░░░░░░░░░░░░░░░░░░░░░░░░░░░\u001b[39m| 0% | 0/1 | Errors: 0 | Skipped: 0 | 31s | ETA: NFs\u001b[0K\u001b[1GProcessing Files |\u001b[36m░░░░░░░░░░░░░░░░░░░░░░░░░░░░░░░░░░░░░░░░\u001b[39m| 0% | 0/1 | Errors: 0 | Skipped: 0 | 32s | ETA: NFs\u001b[0K\u001b[1GProcessing Files |\u001b[36m░░░░░░░░░░░░░░░░░░░░░░░░░░░░░░░░░░░░░░░░\u001b[39m| 0% | 0/1 | Errors: 0 | Skipped: 0 | 33s | ETA: NFs\u001b[0K\u001b[1GProcessing Files |\u001b[36m░░░░░░░░░░░░░░░░░░░░░░░░░░░░░░░░░░░░░░░░\u001b[39m| 0% | 0/1 | Errors: 0 | Skipped: 0 | 34s | ETA: NFs\u001b[0K\u001b[1GProcessing Files |\u001b[36m░░░░░░░░░░░░░░░░░░░░░░░░░░░░░░░░░░░░░░░░\u001b[39m| 0% | 0/1 | Errors: 0 | Skipped: 0 | 35s | ETA: NFs\u001b[0K\u001b[1GProcessing Files |\u001b[36m░░░░░░░░░░░░░░░░░░░░░░░░░░░░░░░░░░░░░░░░\u001b[39m| 0% | 0/1 | Errors: 0 | Skipped: 0 | 36s | ETA: NFs\u001b[0K\u001b[1GProcessing Files |\u001b[36m░░░░░░░░░░░░░░░░░░░░░░░░░░░░░░░░░░░░░░░░\u001b[39m| 0% | 0/1 | Errors: 0 | Skipped: 0 | 37s | ETA: NFs\u001b[0K\u001b[1GProcessing Files |\u001b[36m░░░░░░░░░░░░░░░░░░░░░░░░░░░░░░░░░░░░░░░░\u001b[39m| 0% | 0/1 | Errors: 0 | Skipped: 0 | 38s | ETA: NFs\u001b[0K\u001b[1GProcessing Files |\u001b[36m░░░░░░░░░░░░░░░░░░░░░░░░░░░░░░░░░░░░░░░░\u001b[39m| 0% | 0/1 | Errors: 0 | Skipped: 0 | 39s | ETA: NFs\u001b[0K\u001b[1GProcessing Files |\u001b[36m░░░░░░░░░░░░░░░░░░░░░░░░░░░░░░░░░░░░░░░░\u001b[39m| 0% | 0/1 | Errors: 0 | Skipped: 0 | 40s | ETA: NFs\u001b[0K\u001b[1GProcessing Files |\u001b[36m░░░░░░░░░░░░░░░░░░░░░░░░░░░░░░░░░░░░░░░░\u001b[39m| 0% | 0/1 | Errors: 0 | Skipped: 0 | 41s | ETA: NFs\u001b[0K\u001b[1GProcessing Files |\u001b[36m░░░░░░░░░░░░░░░░░░░░░░░░░░░░░░░░░░░░░░░░\u001b[39m| 0% | 0/1 | Errors: 0 | Skipped: 0 | 42s | ETA: NFs\u001b[0K\u001b[1GProcessing Files |\u001b[36m████████████████████████████████████████\u001b[39m| 100% | 1/1 | Errors: 1 | Skipped: 0 | 42s | ETA: 0s\u001b[0K\u001b[?25h\u001b[?7h\u001b8\n",
            "\u001b[32m\u001b[39m\n",
            "\u001b[32m✅ Validation and upload process finished\u001b[39m\n",
            "\u001b[32m\u001b[39m\n",
            "\u001b[1m📊 Final Report:\u001b[22m\n",
            "  Total files scanned:    1\n",
            "  Files skipped: 0\n",
            "  Processing/upload errors: 1\n",
            "  Successfully processed (validated & uploaded):  1\n",
            "  Total files handled:    2\n",
            "  Duration:               42s\n",
            "\n",
            "  Error report:   ./submit_errors.csv\n",
            "  Warning report: ./submit_warnings.csv\n",
            "  Upload results: photos.csv\n",
            "\u001b[1G\u001b[0K⠙\u001b[1G\u001b[0K"
          ]
        }
      ]
    },
    {
      "cell_type": "markdown",
      "source": [
        "## Step 9: Submitting Your Data to the Blockchain\n",
        "\n",
        "### Submitting Your Data\n",
        "\n",
        "After running the upload command in the notebook:\n",
        "\n",
        "1. **Download your results file**\n",
        "   - The notebook will generate `photos.csv`\n",
        "   - This file contains your data hashes and IPFS CIDs\n",
        "   - Download it to your computer\n",
        "\n",
        "2. **Visit the Oracle Submission Portal**\n",
        "   - Go to https://oracle.elephant.xyz/\n",
        "   - Connect your MetaMask wallet when prompted\n",
        "   - Upload your `submit-results.csv` file\n",
        "\n",
        "3. **Submit transactions**\n",
        "   - The portal will read your CSV and prepare transactions\n",
        "   - Click \"Submit to Contract\" to begin\n",
        "   - MetaMask will pop up for each data entry\n",
        "   - Confirm each transaction (small gas fee applies)\n",
        "   - Wait for confirmations between submissions\n",
        "\n",
        "Once complete, your data is permanently recorded on the blockchain. You'll receive vMahout tokens as rewards after consensus is reached (when 3 different oracles submit matching data hashes)."
      ],
      "metadata": {
        "id": "cAxcVrYl7vA9"
      }
    },
    {
      "cell_type": "markdown",
      "metadata": {
        "id": "xJo3i5enWo0J"
      },
      "source": [
        "## Step 10: Setup and Run AWS Rekognition\n",
        "\n",
        "The system automatically sets up and runs Amazon Rekognition to analyze your property images:\n",
        "\n",
        "- Connects to AWS Rekognition service for AI-powered image analysis\n",
        "- Processes all images in your property folders automatically\n",
        "- Extracts detailed information like room types, architectural features, and property characteristics\n",
        "\n",
        "No action needed from you - the system handles everything automatically and will notify you when processing is complete.\n"
      ]
    },
    {
      "cell_type": "code",
      "execution_count": 21,
      "metadata": {
        "id": "G2eZfzTpOGV0",
        "colab": {
          "base_uri": "https://localhost:8080/"
        },
        "outputId": "c5cf03a6-6f9c-4b67-b7d1-c3359ba6609a"
      },
      "outputs": [
        {
          "output_type": "stream",
          "name": "stdout",
          "text": [
            "\n",
            "================================================================================\n",
            "📊 COMPREHENSIVE CATEGORIZATION SUMMARY\n",
            "================================================================================\n",
            "\n",
            "🏠 TOTAL PROPERTIES PROCESSED: 1\n",
            "🖼️  TOTAL IMAGES: 0\n",
            "✅ TOTAL CATEGORIZED: 0\n",
            "📈 SUCCESS RATE: N/A\n",
            "\n",
            "📁 OVERALL CATEGORY BREAKDOWN:\n",
            "\n",
            "🏠 PROPERTY-BY-PROPERTY BREAKDOWN:\n",
            "--------------------------------------------------------------------------------\n",
            "\n",
            "📍 Property: 52434205310037080\n",
            "   Address: Property 52434205310037080\n",
            "   Total Images: 0\n",
            "   Categorized: 0\n",
            "   Success Rate: N/A\n",
            "   Categories: None\n",
            "\n",
            "================================================================================\n"
          ]
        }
      ],
      "source": [
        "!bucket-manager\n",
        "!unzip-county-data\n",
        "!upload-to-s3\n",
        "!photo-categorizer"
      ]
    },
    {
      "cell_type": "markdown",
      "metadata": {
        "id": "uo7Jjafq6N1i"
      },
      "source": [
        "## Step 11: Running AI to Extract Data from Images\n",
        "\n",
        "The AI system now analyzes your property images to extract valuable metadata:\n",
        "\n",
        "1. **Image Analysis**: AI examines each photo to identify rooms, features, and property details\n",
        "2. **Data Extraction**: System pulls out structured information like room types, square footage estimates, architectural elements, and condition assessments\n",
        "\n",
        "The process runs automatically across all your uploaded property images, generating comprehensive metadata reports for each parcel.\n",
        "\n"
      ]
    },
    {
      "cell_type": "code",
      "execution_count": 6,
      "metadata": {
        "id": "67Sqqv2xcurU",
        "colab": {
          "base_uri": "https://localhost:8080/"
        },
        "outputId": "65d3e3a8-0802-4f60-f463-b8e652e6c17d"
      },
      "outputs": [
        {
          "output_type": "stream",
          "name": "stdout",
          "text": [
            "Traceback (most recent call last):\n",
            "  File \"/usr/local/lib/python3.11/dist-packages/src/ai_image_analysis_optimized_multi_thread.py\", line 2825, in process_local_categories_parallel\n",
            "    for future in as_completed(future_to_category):\n",
            "  File \"/usr/lib/python3.11/concurrent/futures/_base.py\", line 243, in as_completed\n",
            "    waiter.event.wait(wait_timeout)\n",
            "  File \"/usr/lib/python3.11/threading.py\", line 629, in wait\n",
            "    signaled = self._cond.wait(timeout)\n",
            "               ^^^^^^^^^^^^^^^^^^^^^^^^\n",
            "  File \"/usr/lib/python3.11/threading.py\", line 327, in wait\n",
            "    waiter.acquire()\n",
            "KeyboardInterrupt\n",
            "\n",
            "During handling of the above exception, another exception occurred:\n",
            "\n",
            "Traceback (most recent call last):\n",
            "  File \"/usr/local/bin/ai-analyzer\", line 8, in <module>\n",
            "    sys.exit(main())\n",
            "             ^^^^^^\n",
            "  File \"/usr/local/lib/python3.11/dist-packages/src/ai_image_analysis_optimized_multi_thread.py\", line 3017, in main\n",
            "    success = process_all_local_properties_from_folders(\n",
            "              ^^^^^^^^^^^^^^^^^^^^^^^^^^^^^^^^^^^^^^^^^^\n",
            "  File \"/usr/local/lib/python3.11/dist-packages/src/ai_image_analysis_optimized_multi_thread.py\", line 2730, in process_all_local_properties_from_folders\n",
            "    result = process_local_categories_parallel(\n",
            "             ^^^^^^^^^^^^^^^^^^^^^^^^^^^^^^^^^^\n",
            "  File \"/usr/local/lib/python3.11/dist-packages/src/ai_image_analysis_optimized_multi_thread.py\", line 2817, in process_local_categories_parallel\n",
            "    with ThreadPoolExecutor(max_workers=category_workers) as executor:\n",
            "  File \"/usr/lib/python3.11/concurrent/futures/_base.py\", line 647, in __exit__\n",
            "    self.shutdown(wait=True)\n",
            "  File \"/usr/lib/python3.11/concurrent/futures/thread.py\", line 235, in shutdown\n",
            "    t.join()\n",
            "  File \"/usr/lib/python3.11/threading.py\", line 1119, in join\n",
            "    self._wait_for_tstate_lock()\n",
            "  File \"/usr/lib/python3.11/threading.py\", line 1139, in _wait_for_tstate_lock\n",
            "    if lock.acquire(block, timeout):\n",
            "       ^^^^^^^^^^^^^^^^^^^^^^^^^^^^\n",
            "KeyboardInterrupt\n",
            "Exception ignored in: <module 'threading' from '/usr/lib/python3.11/threading.py'>\n",
            "Traceback (most recent call last):\n",
            "  File \"/usr/lib/python3.11/threading.py\", line 1560, in _shutdown\n",
            "    atexit_call()\n",
            "  File \"/usr/lib/python3.11/concurrent/futures/thread.py\", line 31, in _python_exit\n",
            "    t.join()\n",
            "  File \"/usr/lib/python3.11/threading.py\", line 1119, in join\n",
            "^C\n",
            "\n",
            "============================================================\n",
            "PROPERTY SUMMARY: 30434108090030050\n",
            "============================================================\n",
            "\n",
            "📋 LAYOUTS (6 total)\n",
            "----------------------------------------\n",
            "Space Types:\n",
            "  • Bedroom\n",
            "  • Walk-in Closet\n",
            "  • Patio\n",
            "  • Living Room\n",
            "  • Full Bathroom\n",
            "  • Kitchen\n",
            "  • Bedroom: \n",
            "  • Walk-in Closet: \n",
            "  • Patio: \n",
            "  • Living Room: \n",
            "  • Full Bathroom: \n",
            "  • Kitchen: \n",
            "\n",
            "🏠 STRUCTURE\n",
            "----------------------------------------\n",
            "  No structure data found\n",
            "\n",
            "🌳 LOT\n",
            "----------------------------------------\n",
            "  No lot data found\n",
            "\n",
            "⚡ UTILITIES\n",
            "----------------------------------------\n",
            "  No utility data found\n",
            "\n",
            "🔌 APPLIANCES (2 total)\n",
            "----------------------------------------\n",
            "Types: Refrigerator\n",
            "  • Refrigerator\n",
            "\n",
            "============================================================\n",
            "\n",
            "============================================================\n",
            "PROPERTY SUMMARY: 52434205310037080\n",
            "============================================================\n",
            "\n",
            "📋 LAYOUTS (6 total)\n",
            "----------------------------------------\n",
            "Space Types:\n",
            "  • Laundry Room\n",
            "  • Bedroom\n",
            "  • Pool Area\n",
            "  • Attached Garage\n",
            "  • Closet\n",
            "  • Laundry Room: \n",
            "  • Bedroom: \n",
            "  • Bedroom: \n",
            "  • Pool Area: \n",
            "  • Attached Garage: \n",
            "  • Closet: \n",
            "\n",
            "🏠 STRUCTURE\n",
            "----------------------------------------\n",
            "  No structure data found\n",
            "\n",
            "🌳 LOT\n",
            "----------------------------------------\n",
            "  No lot data found\n",
            "\n",
            "⚡ UTILITIES\n",
            "----------------------------------------\n",
            "  No utility data found\n",
            "\n",
            "🔌 APPLIANCES (2 total)\n",
            "----------------------------------------\n",
            "Types: Washing Machine\n",
            "  • Washing Machine\n",
            "\n",
            "============================================================\n",
            "\n",
            "================================================================================\n",
            "🎉 COMPLETED: Summarized 2 properties\n",
            "================================================================================\n",
            "  • 30434108090030050: 6 layouts, 2 appliances\n",
            "  • 52434205310037080: 6 layouts, 2 appliances\n"
          ]
        }
      ],
      "source": [
        "!ai-analyzer --local-folders --parallel-categories --all-properties\n",
        "!property-summarizer --all-properties"
      ]
    },
    {
      "cell_type": "markdown",
      "metadata": {
        "id": "1WEPamAD7h4F"
      },
      "source": []
    },
    {
      "cell_type": "markdown",
      "metadata": {
        "id": "XKHWrLc47vUv"
      },
      "source": [
        "## Step 12: Data Validation and Submission\n",
        "\n",
        "The system validates extracted data and prepares it for final submission:\n",
        "\n",
        "1. **Data Validation**: Reviews and verifies all extracted metadata for accuracy\n",
        "2. **Submission Preparation**: Validated data is formatted and organized for CLI submission\n",
        "3. **CLI Submission**: System automatically submits the processed data through the command line interface\n",
        "4. **Fact Sheet Generation**: Creates comprehensive property fact sheets with all extracted information, images, and metadata\n",
        "\n",
        "Final deliverables include validated property reports and detailed fact sheets ready for use.\n"
      ]
    },
    {
      "cell_type": "code",
      "execution_count": null,
      "metadata": {
        "id": "Z33zRmVR7zVn",
        "colab": {
          "base_uri": "https://localhost:8080/"
        },
        "outputId": "339542f5-e3db-4292-cdf0-acc027094ebd"
      },
      "outputs": [
        {
          "output_type": "stream",
          "name": "stdout",
          "text": [
            "\u001b[1G\u001b[0K⠙\u001b[1G\u001b[0K⠹\u001b[1G\u001b[0K⠸\u001b[1G\u001b[0K⠼\u001b[1G\u001b[0K⠴\u001b[1G\u001b[0K⠦\u001b[1G\u001b[0K⠧\u001b[1G\u001b[0K⠇\u001b[1G\u001b[0K⠏\u001b[1G\u001b[0K⠋\u001b[1G\u001b[0K⠙\u001b[1G\u001b[0K⠹\u001b[1G\u001b[0K⠸\u001b[1G\u001b[0K⠼\u001b[1G\u001b[0K⠴\u001b[1G\u001b[0K⠦\u001b[1G\u001b[0K⠧\u001b[1G\u001b[0K⠇\u001b[1G\u001b[0K⠏\u001b[1G\u001b[0K⠋\u001b[1G\u001b[0K⠙\u001b[1G\u001b[0K\u001b[1m\u001b[34m🐘 Elephant Network CLI - Validate and Upload\u001b[39m\u001b[22m\n",
            "\n",
            "\u001b7\u001b[?25l\u001b[?7l\u001b[1GInitializing    |\u001b[36m████████████████████████████████████████\u001b[39m| 100% | 0/0 | Errors: 0 | Skipped: 0 | 0s | ETA: 0s\u001b[0K\u001b7\u001b[?25l\u001b[?7l\u001b[1GFetching Schemas |\u001b[36m░░░░░░░░░░░░░░░░░░░░░░░░░░░░░░░░░░░░░░░░\u001b[39m| 0% | 0/2 | Errors: 0 | Skipped: 0 | 0s | ETA: 0s\u001b[0K\u001b[1GPre-fetching Schemas |\u001b[36m░░░░░░░░░░░░░░░░░░░░░░░░░░░░░░░░░░░░░░░░\u001b[39m| 0% | 0/1 | Errors: 0 | Skipped: 0 | 0s | ETA: NFs\u001b[0K\u001b[1GFetching Schemas |\u001b[36m████████████████████░░░░░░░░░░░░░░░░░░░░\u001b[39m| 50% | 1/2 | Errors: 0 | Skipped: 0 | 0s | ETA: 1s\u001b[0K\u001b[1GFetching Schemas |\u001b[36m████████████████████████████████████████\u001b[39m| 100% | 2/2 | Errors: 0 | Skipped: 0 | 0s | ETA: 0s\u001b[0K\u001b[?25h\u001b[?7h\u001b8\n",
            "\u001b[1GProcessing Files |\u001b[36m░░░░░░░░░░░░░░░░░░░░░░░░░░░░░░░░░░░░░░░░\u001b[39m| 0% | 0/2 | Errors: 0 | Skipped: 0 | 0s | ETA: NFs\u001b[0K\u001b[1GProcessing Files |\u001b[36m░░░░░░░░░░░░░░░░░░░░░░░░░░░░░░░░░░░░░░░░\u001b[39m| 0% | 0/2 | Errors: 0 | Skipped: 0 | 1s | ETA: NFs\u001b[0K\u001b[1GProcessing Files |\u001b[36m░░░░░░░░░░░░░░░░░░░░░░░░░░░░░░░░░░░░░░░░\u001b[39m| 0% | 0/2 | Errors: 0 | Skipped: 0 | 2s | ETA: NFs\u001b[0K\u001b[1GProcessing Files |\u001b[36m░░░░░░░░░░░░░░░░░░░░░░░░░░░░░░░░░░░░░░░░\u001b[39m| 0% | 0/2 | Errors: 0 | Skipped: 0 | 3s | ETA: NFs\u001b[0K\u001b[1GProcessing Files |\u001b[36m░░░░░░░░░░░░░░░░░░░░░░░░░░░░░░░░░░░░░░░░\u001b[39m| 0% | 0/2 | Errors: 0 | Skipped: 0 | 4s | ETA: NFs\u001b[0K\u001b[1GProcessing Files |\u001b[36m░░░░░░░░░░░░░░░░░░░░░░░░░░░░░░░░░░░░░░░░\u001b[39m| 0% | 0/2 | Errors: 0 | Skipped: 0 | 5s | ETA: NFs\u001b[0K\u001b[1GProcessing Files |\u001b[36m░░░░░░░░░░░░░░░░░░░░░░░░░░░░░░░░░░░░░░░░\u001b[39m| 0% | 0/2 | Errors: 0 | Skipped: 0 | 6s | ETA: NFs\u001b[0K\u001b[1GProcessing Files |\u001b[36m░░░░░░░░░░░░░░░░░░░░░░░░░░░░░░░░░░░░░░░░\u001b[39m| 0% | 0/2 | Errors: 0 | Skipped: 0 | 7s | ETA: NFs\u001b[0K\u001b[1GProcessing Files |\u001b[36m░░░░░░░░░░░░░░░░░░░░░░░░░░░░░░░░░░░░░░░░\u001b[39m| 0% | 0/2 | Errors: 0 | Skipped: 0 | 8s | ETA: NFs\u001b[0K\u001b[1GProcessing Files |\u001b[36m░░░░░░░░░░░░░░░░░░░░░░░░░░░░░░░░░░░░░░░░\u001b[39m| 0% | 0/2 | Errors: 0 | Skipped: 0 | 9s | ETA: NFs\u001b[0K\u001b[1GProcessing Files |\u001b[36m░░░░░░░░░░░░░░░░░░░░░░░░░░░░░░░░░░░░░░░░\u001b[39m| 0% | 0/2 | Errors: 0 | Skipped: 0 | 10s | ETA: NFs\u001b[0K\u001b[1GProcessing Files |\u001b[36m░░░░░░░░░░░░░░░░░░░░░░░░░░░░░░░░░░░░░░░░\u001b[39m| 0% | 0/2 | Errors: 0 | Skipped: 0 | 11s | ETA: NFs\u001b[0K\u001b[1GProcessing Files |\u001b[36m████████████████████░░░░░░░░░░░░░░░░░░░░\u001b[39m| 50% | 1/2 | Errors: 0 | Skipped: 0 | 11s | ETA: 10s\u001b[0K\u001b[1GProcessing Files |\u001b[36m████████████████████░░░░░░░░░░░░░░░░░░░░\u001b[39m| 50% | 1/2 | Errors: 0 | Skipped: 0 | 12s | ETA: 10s\u001b[0K\u001b[1GProcessing Files |\u001b[36m████████████████████░░░░░░░░░░░░░░░░░░░░\u001b[39m| 50% | 1/2 | Errors: 0 | Skipped: 0 | 13s | ETA: 10s\u001b[0K\u001b[1GProcessing Files |\u001b[36m████████████████████░░░░░░░░░░░░░░░░░░░░\u001b[39m| 50% | 1/2 | Errors: 0 | Skipped: 0 | 14s | ETA: 10s\u001b[0K\u001b[1GProcessing Files |\u001b[36m████████████████████░░░░░░░░░░░░░░░░░░░░\u001b[39m| 50% | 1/2 | Errors: 0 | Skipped: 0 | 15s | ETA: 10s\u001b[0K\u001b[1GProcessing Files |\u001b[36m████████████████████░░░░░░░░░░░░░░░░░░░░\u001b[39m| 50% | 1/2 | Errors: 0 | Skipped: 0 | 16s | ETA: 10s\u001b[0K\u001b[1GProcessing Files |\u001b[36m████████████████████░░░░░░░░░░░░░░░░░░░░\u001b[39m| 50% | 1/2 | Errors: 0 | Skipped: 0 | 17s | ETA: 10s\u001b[0K\u001b[1GProcessing Files |\u001b[36m████████████████████░░░░░░░░░░░░░░░░░░░░\u001b[39m| 50% | 1/2 | Errors: 0 | Skipped: 0 | 18s | ETA: 10s\u001b[0K\u001b[1GProcessing Files |\u001b[36m████████████████████░░░░░░░░░░░░░░░░░░░░\u001b[39m| 50% | 1/2 | Errors: 0 | Skipped: 0 | 19s | ETA: 10s\u001b[0K\u001b[1GProcessing Files |\u001b[36m████████████████████░░░░░░░░░░░░░░░░░░░░\u001b[39m| 50% | 1/2 | Errors: 0 | Skipped: 0 | 20s | ETA: 10s\u001b[0K\u001b[1GProcessing Files |\u001b[36m████████████████████░░░░░░░░░░░░░░░░░░░░\u001b[39m| 50% | 1/2 | Errors: 0 | Skipped: 0 | 21s | ETA: 10s\u001b[0K\u001b[1GProcessing Files |\u001b[36m████████████████████░░░░░░░░░░░░░░░░░░░░\u001b[39m| 50% | 1/2 | Errors: 0 | Skipped: 0 | 22s | ETA: 10s\u001b[0K\u001b[1GProcessing Files |\u001b[36m████████████████████░░░░░░░░░░░░░░░░░░░░\u001b[39m| 50% | 1/2 | Errors: 0 | Skipped: 0 | 23s | ETA: 10s\u001b[0K\u001b[1GProcessing Files |\u001b[36m████████████████████░░░░░░░░░░░░░░░░░░░░\u001b[39m| 50% | 1/2 | Errors: 0 | Skipped: 0 | 24s | ETA: 10s\u001b[0K\u001b[1GProcessing Files |\u001b[36m████████████████████░░░░░░░░░░░░░░░░░░░░\u001b[39m| 50% | 1/2 | Errors: 0 | Skipped: 0 | 25s | ETA: 10s\u001b[0K\u001b[1GProcessing Files |\u001b[36m████████████████████░░░░░░░░░░░░░░░░░░░░\u001b[39m| 50% | 1/2 | Errors: 0 | Skipped: 0 | 26s | ETA: 10s\u001b[0K\u001b[1GProcessing Files |\u001b[36m████████████████████░░░░░░░░░░░░░░░░░░░░\u001b[39m| 50% | 1/2 | Errors: 0 | Skipped: 0 | 27s | ETA: 10s\u001b[0K\u001b[1GProcessing Files |\u001b[36m████████████████████░░░░░░░░░░░░░░░░░░░░\u001b[39m| 50% | 1/2 | Errors: 0 | Skipped: 0 | 28s | ETA: 10s\u001b[0K\u001b[1GProcessing Files |\u001b[36m████████████████████░░░░░░░░░░░░░░░░░░░░\u001b[39m| 50% | 1/2 | Errors: 0 | Skipped: 0 | 29s | ETA: 10s\u001b[0K\u001b[1GProcessing Files |\u001b[36m████████████████████░░░░░░░░░░░░░░░░░░░░\u001b[39m| 50% | 1/2 | Errors: 0 | Skipped: 0 | 30s | ETA: 10s\u001b[0K\u001b[1GProcessing Files |\u001b[36m████████████████████░░░░░░░░░░░░░░░░░░░░\u001b[39m| 50% | 1/2 | Errors: 0 | Skipped: 0 | 31s | ETA: 10s\u001b[0K\u001b[1GProcessing Files |\u001b[36m████████████████████░░░░░░░░░░░░░░░░░░░░\u001b[39m| 50% | 1/2 | Errors: 0 | Skipped: 0 | 32s | ETA: 10s\u001b[0K\u001b[1GProcessing Files |\u001b[36m████████████████████░░░░░░░░░░░░░░░░░░░░\u001b[39m| 50% | 1/2 | Errors: 0 | Skipped: 0 | 33s | ETA: 10s\u001b[0K\u001b[1GProcessing Files |\u001b[36m████████████████████░░░░░░░░░░░░░░░░░░░░\u001b[39m| 50% | 1/2 | Errors: 0 | Skipped: 0 | 34s | ETA: 10s\u001b[0K\u001b[1GProcessing Files |\u001b[36m████████████████████░░░░░░░░░░░░░░░░░░░░\u001b[39m| 50% | 1/2 | Errors: 0 | Skipped: 0 | 35s | ETA: 10s\u001b[0K\u001b[1GProcessing Files |\u001b[36m████████████████████░░░░░░░░░░░░░░░░░░░░\u001b[39m| 50% | 1/2 | Errors: 0 | Skipped: 0 | 36s | ETA: 10s\u001b[0K\u001b[1GProcessing Files |\u001b[36m████████████████████░░░░░░░░░░░░░░░░░░░░\u001b[39m| 50% | 1/2 | Errors: 0 | Skipped: 0 | 37s | ETA: 10s\u001b[0K\u001b[1GProcessing Files |\u001b[36m████████████████████░░░░░░░░░░░░░░░░░░░░\u001b[39m| 50% | 1/2 | Errors: 0 | Skipped: 0 | 38s | ETA: 10s\u001b[0K\u001b[1GProcessing Files |\u001b[36m████████████████████░░░░░░░░░░░░░░░░░░░░\u001b[39m| 50% | 1/2 | Errors: 0 | Skipped: 0 | 39s | ETA: 10s\u001b[0K\u001b[1GProcessing Files |\u001b[36m████████████████████░░░░░░░░░░░░░░░░░░░░\u001b[39m| 50% | 1/2 | Errors: 0 | Skipped: 0 | 40s | ETA: 10s\u001b[0K\u001b[1GProcessing Files |\u001b[36m████████████████████░░░░░░░░░░░░░░░░░░░░\u001b[39m| 50% | 1/2 | Errors: 0 | Skipped: 0 | 41s | ETA: 10s\u001b[0K\u001b[1GProcessing Files |\u001b[36m████████████████████████████████████████\u001b[39m| 100% | 2/2 | Errors: 1 | Skipped: 0 | 41s | ETA: 0s\u001b[0K\u001b[1GInstalling/Updating Fact Sheet Tool |\u001b[36m████████████████████████████████████████\u001b[39m| 100% | 1/1 | Errors: 1 | Skipped: 0 | 64s | ETA: 0s\u001b[0K\u001b[1GGenerating HTML Files |\u001b[36m████████████████████████████████████████\u001b[39m| 100% | 1/1 | Errors: 1 | Skipped: 0 | 65s | ETA: 0s\u001b[0K\u001b[1GUploading HTML Files |\u001b[36m░░░░░░░░░░░░░░░░░░░░░░░░░░░░░░░░░░░░░░░░\u001b[39m| 0% | 0/1 | Errors: 1 | Skipped: 0 | 65s | ETA: NFs\u001b[0K\u001b[1GUploading HTML Files |\u001b[36m░░░░░░░░░░░░░░░░░░░░░░░░░░░░░░░░░░░░░░░░\u001b[39m| 0% | 0/1 | Errors: 1 | Skipped: 0 | 66s | ETA: NFs\u001b[0K\u001b[1GUploading HTML Files |\u001b[36m░░░░░░░░░░░░░░░░░░░░░░░░░░░░░░░░░░░░░░░░\u001b[39m| 0% | 0/1 | Errors: 1 | Skipped: 0 | 67s | ETA: NFs\u001b[0K\u001b[1GUploading HTML Files |\u001b[36m░░░░░░░░░░░░░░░░░░░░░░░░░░░░░░░░░░░░░░░░\u001b[39m| 0% | 0/1 | Errors: 1 | Skipped: 0 | 68s | ETA: NFs\u001b[0K\u001b[1GUploading HTML Files |\u001b[36m░░░░░░░░░░░░░░░░░░░░░░░░░░░░░░░░░░░░░░░░\u001b[39m| 0% | 0/1 | Errors: 1 | Skipped: 0 | 69s | ETA: NFs\u001b[0K\u001b[1GUploading HTML Files |\u001b[36m████████████████████████████████████████\u001b[39m| 100% | 1/1 | Errors: 1 | Skipped: 0 | 69s | ETA: 0s\u001b[0K\u001b[?25h\u001b[?7h\u001b8\n",
            "\u001b[32m\u001b[39m\n",
            "\u001b[32m✅ Validation and upload process finished\u001b[39m\n",
            "\u001b[32m\u001b[39m\n",
            "\u001b[1m📊 Final Report:\u001b[22m\n",
            "  Total files scanned:    1\n",
            "  Files skipped: 0\n",
            "  Processing/upload errors: 1\n",
            "  Successfully processed (validated & uploaded):  1\n",
            "  Total files handled:    2\n",
            "  Duration:               4s\n",
            "\n",
            "  Error report:   ./submit_errors.csv\n",
            "  Warning report: ./submit_warnings.csv\n",
            "  Upload results: submit-results.csv\n",
            "\u001b[1m\u001b[22m\n",
            "\u001b[1m🌐 Property Fact Sheet Links:\u001b[22m\n",
            "\u001b[90m  (Note: It may take a few minutes for pages to propagate through IPFS gateways)\u001b[39m\n",
            "\u001b[90m\u001b[39m\n",
            "  1. Directory: bafkreigzz5foh5ts76vvhxphzulptpnjwznog6lcnxw5wsvfqa7zlxeioa\n",
            "     \u001b[36mhttp://dweb.link/ipfs/bafybeifelknu22j3jtk2tolkqkirl24qtnoep4azwwlbqpoj5llpne46uu\u001b[39m\n",
            "\n",
            "\u001b[1m\u001b[22m\n",
            "\u001b[1m📄 All HTML links have been saved to: \u001b[32msubmit-results.csv\u001b[39m\u001b[22m\n",
            "\u001b[90m  Please check this file for the complete list of property fact sheet URLs.\u001b[39m\n",
            "\u001b[1G\u001b[0K⠙\u001b[1G\u001b[0K"
          ]
        }
      ],
      "source": [
        "!fix-schema-validation\n",
        "!copy-all-data-for-submission\n",
        "!copy-all-files-from-zip\n",
        "!npx @elephant-xyz/cli@latest validate-and-upload submit-photo --output-csv submit-results.csv"
      ]
    },
    {
      "cell_type": "markdown",
      "source": [
        "## Step 13: Submitting Your Data to the Blockchain\n",
        "\n",
        "### Submitting Your Data\n",
        "\n",
        "After running the upload command in the notebook:\n",
        "\n",
        "1. **Download your results file**\n",
        "   - The notebook will generate `submit-results.csv`\n",
        "   - This file contains your data hashes and IPFS CIDs\n",
        "   - Download it to your computer\n",
        "\n",
        "2. **Visit the Oracle Submission Portal**\n",
        "   - Go to https://oracle.elephant.xyz/\n",
        "   - Connect your MetaMask wallet when prompted\n",
        "   - Upload your `submit-results.csv` file\n",
        "\n",
        "3. **Submit transactions**\n",
        "   - The portal will read your CSV and prepare transactions\n",
        "   - Click \"Submit to Contract\" to begin\n",
        "   - MetaMask will pop up for each data entry\n",
        "   - Confirm each transaction (small gas fee applies)\n",
        "   - Wait for confirmations between submissions\n",
        "\n",
        "Once complete, your data is permanently recorded on the blockchain. You'll receive vMahout tokens as rewards after consensus is reached (when 3 different oracles submit matching data hashes)."
      ],
      "metadata": {
        "id": "-DsIg-MR3Rrj"
      }
    },
    {
      "cell_type": "markdown",
      "source": [
        "## Step 14: Package and Download Results\n",
        "\n",
        "This step creates downloadable files with all your processed data. The system will:\n",
        "\n",
        "1. **Create Download Package**: Automatically zip the submit-photos folder containing all fact sheets and processed images\n",
        "\n",
        "2. **Download Results**: Two files will be made available for download\n",
        "\n",
        "**Files to Download:**\n",
        "- `submit-results.csv` - Structured data with all extracted property metadata\n",
        "- `submit-photo.zip` - Complete package containing fact sheets and processed images\n",
        "\n",
        "Your processed property data is now saved locally for use."
      ],
      "metadata": {
        "id": "KEeTcfuy5dEI"
      }
    },
    {
      "cell_type": "code",
      "source": [
        "!zip -r submit-photo.zip submit-photo/ > /dev/null 2>&1\n",
        "\n"
      ],
      "metadata": {
        "id": "Z8Jw-Bxu6Oa1"
      },
      "execution_count": null,
      "outputs": []
    },
    {
      "cell_type": "markdown",
      "source": [
        "## Step 15: Cleanup\n",
        "\n",
        "Final and optional step to save your results and clean up the workspace:\n",
        "\n",
        "3. **Cleanup Workspace**: After downloading, the system removes all temporary files and folders including:\n",
        "  - `images` folder (uploaded property photos)\n",
        "  - `output` folder (processing files)\n",
        "  - `county-data` folder (temporary data)\n",
        "  - `submit-photos` folder (final results)\n",
        "  - `logs` folder (processing logs)\n",
        "\n",
        "**Important**: Make sure to download your results before the cleanup step, as all files will be permanently deleted from the workspace."
      ],
      "metadata": {
        "id": "t4sJUpBJ8uru"
      }
    },
    {
      "cell_type": "code",
      "source": [
        "!rm -rf images/ output/ county-data/ submit-photo/ logs/ photo_data_group/ > /dev/null 2>&1\n"
      ],
      "metadata": {
        "id": "HTwgC_Wd8_pA"
      },
      "execution_count": 17,
      "outputs": []
    }
  ],
  "metadata": {
    "colab": {
      "provenance": [],
      "include_colab_link": true
    },
    "kernelspec": {
      "display_name": "Python 3",
      "name": "python3"
    },
    "language_info": {
      "name": "python"
    }
  },
  "nbformat": 4,
  "nbformat_minor": 0
}