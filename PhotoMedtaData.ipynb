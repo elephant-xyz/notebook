{
  "cells": [
    {
      "cell_type": "markdown",
      "metadata": {
        "id": "view-in-github",
        "colab_type": "text"
      },
      "source": [
        "<a href=\"https://colab.research.google.com/github/elephant-xyz/notebook/blob/feat%2Fmovsiienko-changes/PhotoMedtaData.ipynb\" target=\"_parent\"><img src=\"https://colab.research.google.com/assets/colab-badge.svg\" alt=\"Open In Colab\"/></a>"
      ]
    },
    {
      "cell_type": "markdown",
      "metadata": {
        "id": "ILCxMc0LIsi-"
      },
      "source": []
    },
    {
      "cell_type": "markdown",
      "source": [
        "##Welcome to step 4 of Elephant Mining\n",
        "  by reaching this step you have successfully minted your County data group. This notebook will your seed data and images to minit Photo Data group\n"
      ],
      "metadata": {
        "id": "mz5mj3mc9A9r"
      }
    },
    {
      "cell_type": "markdown",
      "metadata": {
        "id": "R8Lh8z_QIuBx"
      },
      "source": [
        "## 📥 Step 1: Upload the `.env` File\n",
        "\n",
        "This notebook requires a `.env` file that contains your API keys and credentials.  \n",
        "It will be used to securely load the following environment variables:\n",
        "\n",
        "| Variable Name           | Purpose                     |\n",
        "|-------------------------|-----------------------------|\n",
        "| `OPENAI_API_KEY`        | Access to OpenAI API        |\n",
        "| `AWS_ACCESS_KEY_ID`     | AWS access key              |\n",
        "| `AWS_SECRET_ACCESS_KEY` | AWS secret access key       |\n",
        "| `S3_BUCKET_NAME`        | AWS secret access key       |\n",
        "| `IMAGES_DIR`            | Images                      |\n",
        "| `PINATA_JWT`            | PINATA token                |\n",
        "\n",
        "\n",
        "\n",
        "- Click the **folder icon** 📂 in the left sidebar to open the file browser.\n",
        "- Then click the **\"Upload\"** button and choose your `.env` file.\n",
        "\n",
        "```env\n",
        "# example of .env file\n",
        "OPENAI_API_KEY=sk-XXXXXXXXXXXXXXXXXXXXXXXXXXXX\n",
        "AWS_ACCESS_KEY_ID=XXXXXX\n",
        "AWS_SECRET_ACCESS_KEY=XXXXXX\n",
        "S3_BUCKET_NAME=your-s3-bucket-name-here\n",
        "IMAGES_DIR=images\n",
        "PINATA_JWT=xxxxx\n",
        "```\n"
      ]
    },
    {
      "cell_type": "markdown",
      "metadata": {
        "id": "4A8fm24ILQ8s"
      },
      "source": []
    },
    {
      "cell_type": "markdown",
      "metadata": {
        "id": "6Q36E40RNVE3"
      },
      "source": [
        "## Step 2: Upload `upload_results.csv`\n",
        "\n",
        "Upload the `upload_results.csv` file to the `/content/` directory.\n",
        "\n",
        "> 📌 **Important**: You must generate this file by running **Step 2** of the following Colab notebook:  \n",
        "> 👉 [Seed Data – Step 2](https://colab.research.google.com/drive/14tSNSP8Pe-mY4VwX9JhXgfyOvzmN3kC0?usp=sharing#scrollTo=OFKp4E49651Z)\n",
        "\n",
        "After running Step 2 in that notebook, download the `upload_results.json` file and upload it to this notebook's `/content/` directory.\n",
        "\n",
        "\n",
        "\n"
      ]
    },
    {
      "cell_type": "markdown",
      "source": [
        "## Step 3: Upload `submit.zip`\n",
        "\n",
        "Upload the submit.zip file to the /content/ directory of this notebook.\n",
        "\n",
        "📌 Important: You must generate submit.zip of the following collab\n",
        "👉 County Data Group [ – Step 3](https://colab.research.google.com/drive/1ZI_eScKFh2kDIZgwXljhOgBIgrenDhRi#scrollTo=HA0ppLFpUm1j)\n",
        "\n",
        "After running Step 3 in that notebook, download the submit.zip file and upload it here to /content/ so it can be used in the next steps."
      ],
      "metadata": {
        "id": "jxNfw9JsYld2"
      }
    },
    {
      "cell_type": "markdown",
      "metadata": {
        "id": "F000A7O3PtrJ"
      },
      "source": [
        "## Step 4: Setup folder structure for processing images"
      ]
    },
    {
      "cell_type": "code",
      "execution_count": 1,
      "metadata": {
        "id": "yiY6rgFYPvU6"
      },
      "outputs": [],
      "source": [
        "# 1. Install the package\n",
        "!pip install --force-reinstall --no-cache-dir git+https://github.com/elephant-xyz/photo-meta-data-ai.git > /content/install_log.txt 2>&1\n",
        "\n",
        "\n",
        "# 3. Set up folders\n",
        "!colab-folder-setup\n"
      ]
    },
    {
      "cell_type": "markdown",
      "metadata": {
        "id": "ojt2s4z6NxC1"
      },
      "source": [
        "## Step 4: Upload images with Parcel ID Subfolders\n",
        "\n",
        "Place all image files related to that parcel inside its corresponding folder under IMAGE_FOLDER_NAME=images\n",
        "\n",
        "\n",
        "\n",
        "\n"
      ]
    },
    {
      "cell_type": "markdown",
      "source": [
        "# Step 4.5 Upload the images"
      ],
      "metadata": {
        "id": "cvaTmSZDWVJK"
      }
    },
    {
      "cell_type": "code",
      "source": [
        "!process-photo-data\n",
        "!npx -y @elephant-xyz/cli@latest validate-and-upload photo_data_group --output-csv photos.csv"
      ],
      "metadata": {
        "id": "xxOI2A42WLlw",
        "outputId": "08b81eaf-0f00-419b-ad4e-ed42dc30cc73",
        "colab": {
          "base_uri": "https://localhost:8080/"
        }
      },
      "execution_count": 2,
      "outputs": [
        {
          "output_type": "stream",
          "name": "stdout",
          "text": [
            "  - Processed bafkreigzz5foh5ts76vvhxphzulptpnjwznog6lcnxw5wsvfqa7zlxeioa: 24 images, root.json created\n",
            "\n",
            "Processing complete:\n",
            "  - Processed 1 directories with images\n",
            "  - Generated 24 image metadata files\n",
            "  - Each directory has its own root.json\n",
            "  - Supported formats: .jpeg, .jpg, .png, .webp\n",
            "\u001b[1G\u001b[0K⠙\u001b[1G\u001b[0K⠹\u001b[1G\u001b[0K⠸\u001b[1G\u001b[0K⠼\u001b[1G\u001b[0K⠴\u001b[1G\u001b[0K⠦\u001b[1G\u001b[0K⠧\u001b[1G\u001b[0K⠇\u001b[1G\u001b[0K⠏\u001b[1G\u001b[0K⠋\u001b[1G\u001b[0K⠙\u001b[1G\u001b[0K⠹\u001b[1G\u001b[0K⠸\u001b[1G\u001b[0K⠼\u001b[1G\u001b[0K⠴\u001b[1G\u001b[0K⠦\u001b[1G\u001b[0K⠧\u001b[1G\u001b[0K⠇\u001b[1G\u001b[0K⠏\u001b[1G\u001b[0K⠋\u001b[1G\u001b[0K⠙\u001b[1G\u001b[0K⠹\u001b[1G\u001b[0K⠸\u001b[1G\u001b[0K⠼\u001b[1G\u001b[0K⠴\u001b[1G\u001b[0K⠦\u001b[1G\u001b[0K⠧\u001b[1G\u001b[0K⠇\u001b[1G\u001b[0K⠏\u001b[1G\u001b[0K⠋\u001b[1G\u001b[0K⠙\u001b[1G\u001b[0K⠹\u001b[1G\u001b[0K⠸\u001b[1G\u001b[0K⠼\u001b[1G\u001b[0K⠴\u001b[1G\u001b[0K⠦\u001b[1G\u001b[0K⠧\u001b[1G\u001b[0K⠇\u001b[1G\u001b[0K⠏\u001b[1G\u001b[0K⠋\u001b[1G\u001b[0K⠙\u001b[1G\u001b[0K⠹\u001b[1G\u001b[0K⠸\u001b[1G\u001b[0K⠼\u001b[1G\u001b[0K⠴\u001b[1G\u001b[0K⠦\u001b[1G\u001b[0K⠧\u001b[1G\u001b[0K⠇\u001b[1G\u001b[0K⠏\u001b[1G\u001b[0K⠋\u001b[1G\u001b[0K⠙\u001b[1G\u001b[0K⠹\u001b[1G\u001b[0K⠸\u001b[1G\u001b[0K⠼\u001b[1G\u001b[0K⠴\u001b[1G\u001b[0K⠦\u001b[1G\u001b[0K⠧\u001b[1G\u001b[0K⠇\u001b[1G\u001b[0K⠏\u001b[1G\u001b[0K⠋\u001b[1G\u001b[0K⠙\u001b[1G\u001b[0K⠹\u001b[1G\u001b[0K⠸\u001b[1G\u001b[0K⠼\u001b[1G\u001b[0K⠴\u001b[1G\u001b[0K⠦\u001b[1G\u001b[0K⠧\u001b[1G\u001b[0K⠇\u001b[1G\u001b[0K⠏\u001b[1G\u001b[0K⠋\u001b[1G\u001b[0K⠙\u001b[1G\u001b[0K⠹\u001b[1G\u001b[0K⠸\u001b[1G\u001b[0K⠼\u001b[1G\u001b[0K⠴\u001b[1G\u001b[0K⠦\u001b[1G\u001b[0K⠧\u001b[1G\u001b[0K⠇\u001b[1G\u001b[0K⠏\u001b[1G\u001b[0K⠋\u001b[1G\u001b[0K⠙\u001b[1G\u001b[0K⠹\u001b[1G\u001b[0K⠸\u001b[1G\u001b[0K⠼\u001b[1G\u001b[0K⠴\u001b[1G\u001b[0K⠦\u001b[1G\u001b[0K⠧\u001b[1G\u001b[0K⠇\u001b[1G\u001b[0K⠏\u001b[1G\u001b[0K⠋\u001b[1G\u001b[0K⠙\u001b[1G\u001b[0K⠹\u001b[1G\u001b[0K⠸\u001b[1G\u001b[0K⠼\u001b[1G\u001b[0K⠴\u001b[1G\u001b[0K⠦\u001b[1G\u001b[0K⠧\u001b[1G\u001b[0K⠇\u001b[1G\u001b[0K⠏\u001b[1G\u001b[0K⠋\u001b[1G\u001b[0K⠙\u001b[1G\u001b[0K⠹\u001b[1G\u001b[0K⠸\u001b[1G\u001b[0K⠼\u001b[1G\u001b[0K⠴\u001b[1G\u001b[0K⠦\u001b[1G\u001b[0K⠧\u001b[1G\u001b[0K⠇\u001b[1G\u001b[0K⠏\u001b[1G\u001b[0K⠋\u001b[1G\u001b[0K⠙\u001b[1G\u001b[0K⠹\u001b[1G\u001b[0K⠸\u001b[1G\u001b[0K⠼\u001b[1G\u001b[0K⠴\u001b[1G\u001b[0K⠦\u001b[1G\u001b[0K⠧\u001b[1G\u001b[0K⠇\u001b[1G\u001b[0K⠏\u001b[1G\u001b[0K⠋\u001b[1G\u001b[0K⠙\u001b[1G\u001b[0K⠹\u001b[1G\u001b[0K⠸\u001b[1G\u001b[0K⠼\u001b[1G\u001b[0K⠴\u001b[1G\u001b[0K⠦\u001b[1G\u001b[0K⠧\u001b[1G\u001b[0K⠇\u001b[1G\u001b[0K⠏\u001b[1G\u001b[0K⠋\u001b[1G\u001b[0K⠙\u001b[1G\u001b[0K⠹\u001b[1G\u001b[0K⠸\u001b[1G\u001b[0K⠼\u001b[1G\u001b[0K⠴\u001b[1G\u001b[0K⠦\u001b[1G\u001b[0K⠧\u001b[1G\u001b[0K⠇\u001b[1G\u001b[0K⠏\u001b[1G\u001b[0K⠋\u001b[1G\u001b[0K⠙\u001b[1G\u001b[0K⠹\u001b[1G\u001b[0K⠸\u001b[1G\u001b[0K⠼\u001b[1G\u001b[0K⠴\u001b[1G\u001b[0K⠦\u001b[1G\u001b[0K⠧\u001b[1G\u001b[0K⠇\u001b[1G\u001b[0K⠏\u001b[1G\u001b[0K⠋\u001b[1G\u001b[0K⠙\u001b[1G\u001b[0K⠹\u001b[1G\u001b[0K⠸\u001b[1G\u001b[0K⠼\u001b[1G\u001b[0K⠴\u001b[1G\u001b[0K⠦\u001b[1G\u001b[0K⠧\u001b[1G\u001b[0K⠇\u001b[1G\u001b[0K⠏\u001b[1G\u001b[0K⠋\u001b[1G\u001b[0K⠙\u001b[1G\u001b[0K⠹\u001b[1G\u001b[0K⠸\u001b[1G\u001b[0K⠼\u001b[1G\u001b[0K⠴\u001b[1G\u001b[0K⠦\u001b[1G\u001b[0K⠧\u001b[1G\u001b[0K⠇\u001b[1G\u001b[0K⠏\u001b[1G\u001b[0K⠋\u001b[1G\u001b[0K⠙\u001b[1G\u001b[0K⠹\u001b[1G\u001b[0K⠸\u001b[1G\u001b[0K⠼\u001b[1G\u001b[0K⠴\u001b[1G\u001b[0K⠦\u001b[1G\u001b[0K⠧\u001b[1G\u001b[0K⠇\u001b[1G\u001b[0K⠏\u001b[1G\u001b[0K⠋\u001b[1G\u001b[0K⠙\u001b[1G\u001b[0K\u001b[1m\u001b[34m🐘 Elephant Network CLI - Validate and Upload\u001b[39m\u001b[22m\n",
            "\n",
            "\u001b7\u001b[?25l\u001b[?7l\u001b[1GInitializing    |\u001b[36m████████████████████████████████████████\u001b[39m| 100% | 0/0 | Errors: 0 | Skipped: 0 | 0s | ETA: 0s\u001b[0K\u001b[1GProcessing Files |\u001b[36m░░░░░░░░░░░░░░░░░░░░░░░░░░░░░░░░░░░░░░░░\u001b[39m| 0% | 0/1 | Errors: 0 | Skipped: 0 | 0s | ETA: NFs\u001b[0K\u001b[1GProcessing Files |\u001b[36m░░░░░░░░░░░░░░░░░░░░░░░░░░░░░░░░░░░░░░░░\u001b[39m| 0% | 0/1 | Errors: 0 | Skipped: 0 | 1s | ETA: NFs\u001b[0K\u001b[1GProcessing Files |\u001b[36m░░░░░░░░░░░░░░░░░░░░░░░░░░░░░░░░░░░░░░░░\u001b[39m| 0% | 0/1 | Errors: 0 | Skipped: 0 | 2s | ETA: NFs\u001b[0K\u001b[1GProcessing Files |\u001b[36m░░░░░░░░░░░░░░░░░░░░░░░░░░░░░░░░░░░░░░░░\u001b[39m| 0% | 0/1 | Errors: 0 | Skipped: 0 | 3s | ETA: NFs\u001b[0K\u001b[1GProcessing Files |\u001b[36m░░░░░░░░░░░░░░░░░░░░░░░░░░░░░░░░░░░░░░░░\u001b[39m| 0% | 0/1 | Errors: 0 | Skipped: 0 | 4s | ETA: NFs\u001b[0K\u001b[1GProcessing Files |\u001b[36m░░░░░░░░░░░░░░░░░░░░░░░░░░░░░░░░░░░░░░░░\u001b[39m| 0% | 0/1 | Errors: 0 | Skipped: 0 | 5s | ETA: NFs\u001b[0K\u001b[1GProcessing Files |\u001b[36m░░░░░░░░░░░░░░░░░░░░░░░░░░░░░░░░░░░░░░░░\u001b[39m| 0% | 0/1 | Errors: 0 | Skipped: 0 | 6s | ETA: NFs\u001b[0K\u001b[1GProcessing Files |\u001b[36m░░░░░░░░░░░░░░░░░░░░░░░░░░░░░░░░░░░░░░░░\u001b[39m| 0% | 0/1 | Errors: 0 | Skipped: 0 | 7s | ETA: NFs\u001b[0K\u001b[1GProcessing Files |\u001b[36m░░░░░░░░░░░░░░░░░░░░░░░░░░░░░░░░░░░░░░░░\u001b[39m| 0% | 0/1 | Errors: 0 | Skipped: 0 | 8s | ETA: NFs\u001b[0K\u001b[1GProcessing Files |\u001b[36m░░░░░░░░░░░░░░░░░░░░░░░░░░░░░░░░░░░░░░░░\u001b[39m| 0% | 0/1 | Errors: 0 | Skipped: 0 | 9s | ETA: NFs\u001b[0K\u001b[1GProcessing Files |\u001b[36m░░░░░░░░░░░░░░░░░░░░░░░░░░░░░░░░░░░░░░░░\u001b[39m| 0% | 0/1 | Errors: 0 | Skipped: 0 | 10s | ETA: NFs\u001b[0K\u001b[1GProcessing Files |\u001b[36m░░░░░░░░░░░░░░░░░░░░░░░░░░░░░░░░░░░░░░░░\u001b[39m| 0% | 0/1 | Errors: 0 | Skipped: 0 | 11s | ETA: NFs\u001b[0K\u001b[1GProcessing Files |\u001b[36m░░░░░░░░░░░░░░░░░░░░░░░░░░░░░░░░░░░░░░░░\u001b[39m| 0% | 0/1 | Errors: 0 | Skipped: 0 | 12s | ETA: NFs\u001b[0K\u001b[1GProcessing Files |\u001b[36m░░░░░░░░░░░░░░░░░░░░░░░░░░░░░░░░░░░░░░░░\u001b[39m| 0% | 0/1 | Errors: 0 | Skipped: 0 | 13s | ETA: NFs\u001b[0K\u001b[1GProcessing Files |\u001b[36m░░░░░░░░░░░░░░░░░░░░░░░░░░░░░░░░░░░░░░░░\u001b[39m| 0% | 0/1 | Errors: 0 | Skipped: 0 | 14s | ETA: NFs\u001b[0K\u001b[1GProcessing Files |\u001b[36m░░░░░░░░░░░░░░░░░░░░░░░░░░░░░░░░░░░░░░░░\u001b[39m| 0% | 0/1 | Errors: 0 | Skipped: 0 | 15s | ETA: NFs\u001b[0K\u001b[1GProcessing Files |\u001b[36m░░░░░░░░░░░░░░░░░░░░░░░░░░░░░░░░░░░░░░░░\u001b[39m| 0% | 0/1 | Errors: 0 | Skipped: 0 | 16s | ETA: NFs\u001b[0K\u001b[1GProcessing Files |\u001b[36m░░░░░░░░░░░░░░░░░░░░░░░░░░░░░░░░░░░░░░░░\u001b[39m| 0% | 0/1 | Errors: 0 | Skipped: 0 | 17s | ETA: NFs\u001b[0K\u001b[1GProcessing Files |\u001b[36m░░░░░░░░░░░░░░░░░░░░░░░░░░░░░░░░░░░░░░░░\u001b[39m| 0% | 0/1 | Errors: 0 | Skipped: 0 | 18s | ETA: NFs\u001b[0K\u001b[1GProcessing Files |\u001b[36m░░░░░░░░░░░░░░░░░░░░░░░░░░░░░░░░░░░░░░░░\u001b[39m| 0% | 0/1 | Errors: 0 | Skipped: 0 | 19s | ETA: NFs\u001b[0K\u001b[1GProcessing Files |\u001b[36m░░░░░░░░░░░░░░░░░░░░░░░░░░░░░░░░░░░░░░░░\u001b[39m| 0% | 0/1 | Errors: 0 | Skipped: 0 | 20s | ETA: NFs\u001b[0K\u001b[1GProcessing Files |\u001b[36m░░░░░░░░░░░░░░░░░░░░░░░░░░░░░░░░░░░░░░░░\u001b[39m| 0% | 0/1 | Errors: 0 | Skipped: 0 | 21s | ETA: NFs\u001b[0K\u001b[1GProcessing Files |\u001b[36m░░░░░░░░░░░░░░░░░░░░░░░░░░░░░░░░░░░░░░░░\u001b[39m| 0% | 0/1 | Errors: 0 | Skipped: 0 | 22s | ETA: NFs\u001b[0K\u001b[1GProcessing Files |\u001b[36m░░░░░░░░░░░░░░░░░░░░░░░░░░░░░░░░░░░░░░░░\u001b[39m| 0% | 0/1 | Errors: 0 | Skipped: 0 | 23s | ETA: NFs\u001b[0K\u001b[1GProcessing Files |\u001b[36m░░░░░░░░░░░░░░░░░░░░░░░░░░░░░░░░░░░░░░░░\u001b[39m| 0% | 0/1 | Errors: 0 | Skipped: 0 | 24s | ETA: NFs\u001b[0K\u001b[1GProcessing Files |\u001b[36m░░░░░░░░░░░░░░░░░░░░░░░░░░░░░░░░░░░░░░░░\u001b[39m| 0% | 0/1 | Errors: 0 | Skipped: 0 | 25s | ETA: NFs\u001b[0K\u001b[1GProcessing Files |\u001b[36m░░░░░░░░░░░░░░░░░░░░░░░░░░░░░░░░░░░░░░░░\u001b[39m| 0% | 0/1 | Errors: 0 | Skipped: 0 | 26s | ETA: NFs\u001b[0K\u001b[1GProcessing Files |\u001b[36m░░░░░░░░░░░░░░░░░░░░░░░░░░░░░░░░░░░░░░░░\u001b[39m| 0% | 0/1 | Errors: 0 | Skipped: 0 | 27s | ETA: NFs\u001b[0K\u001b[1GProcessing Files |\u001b[36m░░░░░░░░░░░░░░░░░░░░░░░░░░░░░░░░░░░░░░░░\u001b[39m| 0% | 0/1 | Errors: 0 | Skipped: 0 | 28s | ETA: NFs\u001b[0K\u001b[1GProcessing Files |\u001b[36m░░░░░░░░░░░░░░░░░░░░░░░░░░░░░░░░░░░░░░░░\u001b[39m| 0% | 0/1 | Errors: 0 | Skipped: 0 | 29s | ETA: NFs\u001b[0K\u001b[1GProcessing Files |\u001b[36m░░░░░░░░░░░░░░░░░░░░░░░░░░░░░░░░░░░░░░░░\u001b[39m| 0% | 0/1 | Errors: 0 | Skipped: 0 | 30s | ETA: NFs\u001b[0K\u001b[1GProcessing Files |\u001b[36m░░░░░░░░░░░░░░░░░░░░░░░░░░░░░░░░░░░░░░░░\u001b[39m| 0% | 0/1 | Errors: 0 | Skipped: 0 | 31s | ETA: NFs\u001b[0K\u001b[1GProcessing Files |\u001b[36m░░░░░░░░░░░░░░░░░░░░░░░░░░░░░░░░░░░░░░░░\u001b[39m| 0% | 0/1 | Errors: 0 | Skipped: 0 | 32s | ETA: NFs\u001b[0K\u001b[1GProcessing Files |\u001b[36m░░░░░░░░░░░░░░░░░░░░░░░░░░░░░░░░░░░░░░░░\u001b[39m| 0% | 0/1 | Errors: 0 | Skipped: 0 | 33s | ETA: NFs\u001b[0K\u001b[1GProcessing Files |\u001b[36m░░░░░░░░░░░░░░░░░░░░░░░░░░░░░░░░░░░░░░░░\u001b[39m| 0% | 0/1 | Errors: 0 | Skipped: 0 | 34s | ETA: NFs\u001b[0K\u001b[1GProcessing Files |\u001b[36m████████████████████████████████████████\u001b[39m| 100% | 1/1 | Errors: 0 | Skipped: 0 | 35s | ETA: 0s\u001b[0K\u001b[1GInstalling/Updating Fact Sheet Tool |\u001b[36m████████████████████████████████████████\u001b[39m| 100% | 1/1 | Errors: 0 | Skipped: 0 | 55s | ETA: 0s\u001b[0K\u001b[1GGenerating HTML Files |\u001b[36m████████████████████████████████████████\u001b[39m| 100% | 1/1 | Errors: 0 | Skipped: 0 | 56s | ETA: 0s\u001b[0K\u001b[?25h\u001b[?7h\u001b8\n",
            "\u001b[32m\u001b[39m\n",
            "\u001b[32m✅ Validation and upload process finished\u001b[39m\n",
            "\u001b[32m\u001b[39m\n",
            "\u001b[1m📊 Final Report:\u001b[22m\n",
            "  Total files scanned:    1\n",
            "  Files skipped: 0\n",
            "  Processing/upload errors: 0\n",
            "  Successfully processed (validated & uploaded):  1\n",
            "  Total files handled:    1\n",
            "  Duration:               0s\n",
            "\n",
            "  Error report:   ./submit_errors.csv\n",
            "  Warning report: ./submit_warnings.csv\n",
            "  Upload results: photos.csv\n",
            "\u001b[1G\u001b[0K⠙\u001b[1G\u001b[0K"
          ]
        }
      ]
    },
    {
      "cell_type": "markdown",
      "source": [
        "# Step 4.6\n",
        "Head to the https://oracles.elephant.xyz, downlod the photos.csv file and submitt it"
      ],
      "metadata": {
        "id": "rOR83_pnWlEB"
      }
    },
    {
      "cell_type": "code",
      "source": [],
      "metadata": {
        "id": "R2WdXjVtWkWI"
      },
      "execution_count": null,
      "outputs": []
    },
    {
      "cell_type": "markdown",
      "metadata": {
        "id": "xJo3i5enWo0J"
      },
      "source": [
        "## Step 5: Setup AWS Environmet to process images\n",
        "\n",
        "Place all image files related to that parcel inside its corresponding folder under IMAGE_FOLDER_NAME=images\n"
      ]
    },
    {
      "cell_type": "code",
      "execution_count": 3,
      "metadata": {
        "id": "G2eZfzTpOGV0"
      },
      "outputs": [],
      "source": [
        "!bucket-manager"
      ]
    },
    {
      "cell_type": "markdown",
      "metadata": {
        "id": "lMRhyNPHYsrY"
      },
      "source": [
        "## Step 6 Running AWS rekognition to categorize the pictures\n"
      ]
    },
    {
      "cell_type": "code",
      "execution_count": 4,
      "metadata": {
        "colab": {
          "base_uri": "https://localhost:8080/"
        },
        "id": "8rY0yaxVYx-t",
        "outputId": "8d905306-82ed-4ede-e6ca-b9701c12a192"
      },
      "outputs": [
        {
          "output_type": "stream",
          "name": "stdout",
          "text": [
            "\n",
            "================================================================================\n",
            "📊 COMPREHENSIVE CATEGORIZATION SUMMARY\n",
            "================================================================================\n",
            "\n",
            "🏠 TOTAL PROPERTIES PROCESSED: 2\n",
            "🖼️  TOTAL IMAGES: 196\n",
            "✅ TOTAL CATEGORIZED: 196\n",
            "📈 SUCCESS RATE: 100.0%\n",
            "\n",
            "📁 OVERALL CATEGORY BREAKDOWN:\n",
            "   exterior: 68 images\n",
            "   kitchen: 42 images\n",
            "   living_room: 38 images\n",
            "   bedroom: 20 images\n",
            "   other: 12 images\n",
            "   closet: 6 images\n",
            "   garage: 4 images\n",
            "   bathroom: 2 images\n",
            "   laundry: 2 images\n",
            "   pool: 2 images\n",
            "\n",
            "🏠 PROPERTY-BY-PROPERTY BREAKDOWN:\n",
            "--------------------------------------------------------------------------------\n",
            "\n",
            "📍 Property: 30434108090030050\n",
            "   Address: Property 30434108090030050\n",
            "   Total Images: 48\n",
            "   Categorized: 48\n",
            "   Success Rate: 100.0%\n",
            "   Categories:\n",
            "     • kitchen: 18 images\n",
            "     • living_room: 10 images\n",
            "     • exterior: 8 images\n",
            "     • bedroom: 8 images\n",
            "     • bathroom: 2 images\n",
            "     • closet: 2 images\n",
            "\n",
            "📍 Property: 52434205310037080\n",
            "   Address: Property 52434205310037080\n",
            "   Total Images: 148\n",
            "   Categorized: 148\n",
            "   Success Rate: 100.0%\n",
            "   Categories:\n",
            "     • exterior: 60 images\n",
            "     • living_room: 28 images\n",
            "     • kitchen: 24 images\n",
            "     • other: 12 images\n",
            "     • bedroom: 12 images\n",
            "     • closet: 4 images\n",
            "     • garage: 4 images\n",
            "     • laundry: 2 images\n",
            "     • pool: 2 images\n",
            "\n",
            "================================================================================\n"
          ]
        }
      ],
      "source": [
        "!upload-to-s3\n",
        "!photo-categorizer"
      ]
    },
    {
      "cell_type": "markdown",
      "metadata": {
        "id": "uo7Jjafq6N1i"
      },
      "source": [
        "##Step 7 Running AI to extract data from images"
      ]
    },
    {
      "cell_type": "code",
      "execution_count": 5,
      "metadata": {
        "colab": {
          "base_uri": "https://localhost:8080/"
        },
        "id": "67Sqqv2xcurU",
        "outputId": "5b27086c-71bf-4a34-eebf-57961faff922"
      },
      "outputs": [
        {
          "output_type": "stream",
          "name": "stdout",
          "text": [
            "[TOKENS] Prompt: 8593, Completion: 1161\n",
            "[COST] $0.060380 | Images in batch: 1\n",
            "    [✔] Saved: structure_batch_01_photo_metadata.json\n",
            "    [✔] Saved: lot_batch_01_photo_metadata.json\n",
            "    [✔] Saved: utility_batch_01_photo_metadata.json\n",
            "    [✔] Saved: layout_walk-in_closet_batch_01.json\n",
            "    [✔] Saved: appliance_none_batch_01.json\n",
            "    [✔] Updated: bafkreibzrfmqka5h7dnuz7jzilgx4ht5rqcrx3ocl23nger65frbb5hzma.json\n",
            "[TOKENS] Prompt: 10888, Completion: 1192\n",
            "[COST] $0.072320 | Images in batch: 4\n",
            "    [✔] Saved: structure_batch_01_photo_metadata.json\n",
            "    [✔] Saved: lot_batch_01_photo_metadata.json\n",
            "    [✔] Saved: utility_batch_01_photo_metadata.json\n",
            "    [✔] Saved: layout_bedroom_batch_01.json\n",
            "    [✔] Saved: appliance_none_batch_01.json\n",
            "    [→] Found existing main relationship file, merging...\n",
            "    [✔] Updated: bafkreibzrfmqka5h7dnuz7jzilgx4ht5rqcrx3ocl23nger65frbb5hzma.json\n",
            "[TOKENS] Prompt: 11653, Completion: 1182\n",
            "[COST] $0.075995 | Images in batch: 5\n",
            "    [✔] Saved: structure_batch_01_photo_metadata.json\n",
            "    [✔] Saved: lot_batch_01_photo_metadata.json\n",
            "    [✔] Saved: utility_batch_01_photo_metadata.json\n",
            "    [✔] Saved: layout_living_room_batch_01.json\n",
            "    [✔] Saved: appliance_none_batch_01.json\n",
            "    [→] Found existing main relationship file, merging...\n",
            "    [✔] Updated: bafkreibzrfmqka5h7dnuz7jzilgx4ht5rqcrx3ocl23nger65frbb5hzma.json\n",
            "[TOKENS] Prompt: 14713, Completion: 1214\n",
            "[COST] $0.091775 | Images in batch: 9\n",
            "    [✔] Saved: structure_batch_01_photo_metadata.json\n",
            "    [✔] Saved: lot_batch_01_photo_metadata.json\n",
            "    [✔] Saved: utility_batch_01_photo_metadata.json\n",
            "    [✔] Saved: layout_kitchen_batch_01.json\n",
            "    [✔] Saved: appliance_refrigerator_batch_01.json\n",
            "    [→] Found existing main relationship file, merging...\n",
            "    [✔] Updated: bafkreibzrfmqka5h7dnuz7jzilgx4ht5rqcrx3ocl23nger65frbb5hzma.json\n",
            "[TOKENS] Prompt: 8593, Completion: 1180\n",
            "[COST] $0.060665 | Images in batch: 1\n",
            "    [✔] Saved: structure_batch_01_photo_metadata.json\n",
            "    [✔] Saved: lot_batch_01_photo_metadata.json\n",
            "    [✔] Saved: utility_batch_01_photo_metadata.json\n",
            "    [✔] Saved: layout_full_bathroom_batch_01.json\n",
            "    [✔] Saved: appliance_none_batch_01.json\n",
            "    [→] Found existing main relationship file, merging...\n",
            "    [✔] Updated: bafkreibzrfmqka5h7dnuz7jzilgx4ht5rqcrx3ocl23nger65frbb5hzma.json\n",
            "[TOKENS] Prompt: 10888, Completion: 915\n",
            "[COST] $0.068165 | Images in batch: 4\n",
            "    [✔] Saved: structure_batch_01_photo_metadata.json\n",
            "    [✔] Saved: lot_batch_01_photo_metadata.json\n",
            "    [✔] Saved: utility_batch_01_photo_metadata.json\n",
            "    [✔] Saved: appliance_none_batch_01.json\n",
            "    [→] Found existing main relationship file, merging...\n",
            "    [✔] Updated: bafkreibzrfmqka5h7dnuz7jzilgx4ht5rqcrx3ocl23nger65frbb5hzma.json\n",
            "[TOKENS] Prompt: 9358, Completion: 1160\n",
            "[COST] $0.064190 | Images in batch: 2\n",
            "    [✔] Saved: structure_batch_01_photo_metadata.json\n",
            "    [✔] Saved: lot_batch_01_photo_metadata.json\n",
            "    [✔] Saved: utility_batch_01_photo_metadata.json\n",
            "    [✔] Saved: layout_walk-in_closet_batch_01.json\n",
            "    [✔] Saved: appliance_none_batch_01.json\n",
            "    [✔] Updated: bafkreibzrfmqka5h7dnuz7jzilgx4ht5rqcrx3ocl23nger65frbb5hzma.json\n",
            "[TOKENS] Prompt: 12418, Completion: 1178\n",
            "[COST] $0.079760 | Images in batch: 6\n",
            "    [✔] Saved: structure_batch_01_photo_metadata.json\n",
            "    [✔] Saved: lot_batch_01_photo_metadata.json\n",
            "    [✔] Saved: utility_batch_01_photo_metadata.json\n",
            "    [✔] Saved: layout_bedroom_batch_01.json\n",
            "    [✔] Saved: appliance_none_batch_01.json\n",
            "    [→] Found existing main relationship file, merging...\n",
            "    [✔] Updated: bafkreibzrfmqka5h7dnuz7jzilgx4ht5rqcrx3ocl23nger65frbb5hzma.json\n",
            "[TOKENS] Prompt: 15478, Completion: 1875\n",
            "[COST] $0.105515 | Images in batch: 10\n",
            "    [✔] Saved: structure_batch_01_photo_metadata.json\n",
            "    [✔] Saved: lot_batch_01_photo_metadata.json\n",
            "    [✔] Saved: utility_batch_01_photo_metadata.json\n",
            "    [✔] Saved: layout_living_room_batch_01.json\n",
            "    [✔] Saved: layout_home_office_batch_01.json\n",
            "    [✔] Saved: layout_dining_room_batch_01.json\n",
            "    [✔] Saved: appliance_refrigerator_batch_01.json\n",
            "    [✔] Saved: appliance_microwave_batch_01.json\n",
            "    [✔] Saved: appliance_oven_batch_01.json\n",
            "    [→] Found existing main relationship file, merging...\n",
            "    [✔] Updated: bafkreibzrfmqka5h7dnuz7jzilgx4ht5rqcrx3ocl23nger65frbb5hzma.json\n",
            "[TOKENS] Prompt: 8593, Completion: 161\n",
            "[COST] $0.045380 | Images in batch: 1\n",
            "    [✔] Saved: lot_batch_01_photo_metadata.json\n",
            "    [→] Found existing main relationship file, merging...\n",
            "    [✔] Updated: bafkreibzrfmqka5h7dnuz7jzilgx4ht5rqcrx3ocl23nger65frbb5hzma.json\n",
            "[TOKENS] Prompt: 15478, Completion: 2149\n",
            "[COST] $0.109625 | Images in batch: 10\n",
            "    [✔] Saved: structure_batch_01_photo_metadata.json\n",
            "    [✔] Saved: lot_batch_01_photo_metadata.json\n",
            "    [✔] Saved: utility_batch_01_photo_metadata.json\n",
            "    [✔] Saved: layout_kitchen_batch_01.json\n",
            "    [DEBUG] AI Response: {\n",
            "  \"lot\": {\n",
            "    \"driveway_condition\": null,\n",
            "    \"driveway_material\": null,\n",
            "    \"fence_height\": null,\n",
            "    \"fence_length\": null,\n",
            "    \"fencing_type\": null,\n",
            "    \"landscaping_features\": null,\n",
            "    \"lot_area_sqft\": null,\n",
            "    \"lot_condition_issues\": null,\n",
            "    \"lot_length_feet\": null,\n",
            "    \"lot_type\": null,\n",
            "    \"lot_width_feet\": null,\n",
            "    \"request_identifier\": null,\n",
            "    \"source_http_request\": {},\n",
            "    \"view\": null\n",
            "  },\n",
            "  \"layout\": [\n",
            "    {\n",
            "      \"cabinet_style\": \"Shaker\",\n",
            "      \"clutter_level\": \"Staged\",\n",
            " ...\n",
            "    [DEBUG] Generated JSON structure: ['lot', 'layout', 'structure', 'utility', 'appliance', 'file', 'property']\n",
            "    [DEBUG] AI Response: {\n",
            "  \"lot\": {\n",
            "    \"driveway_condition\": null,\n",
            "    \"driveway_material\": null,\n",
            "    \"fence_height\": null,\n",
            "    \"fence_length\": null,\n",
            "    \"fencing_type\": null,\n",
            "    \"landscaping_features\": null,\n",
            "    \"lot_area_sqft\": null,\n",
            "    \"lot_condition_issues\": null,\n",
            "    \"lot_length_feet\": null,\n",
            "    \"lot_type\": null,\n",
            "    \"lot_width_feet\": null,\n",
            "    \"request_identifier\": null,\n",
            "    \"source_http_request\": {},\n",
            "    \"view\": null\n",
            "  },\n",
            "  \"layout\": [\n",
            "    {\n",
            "      \"cabinet_style\": \"Traditional\",\n",
            "      \"clutter_level\": \"Moder...\n",
            "    [DEBUG] Generated JSON structure: ['lot', 'layout', 'structure', 'utility', 'appliance', 'file', 'property']\n",
            "    [DEBUG] AI Response: {\n",
            "  \"lot\": {\n",
            "    \"driveway_condition\": null,\n",
            "    \"driveway_material\": null,\n",
            "    \"fence_height\": null,\n",
            "    \"fence_length\": null,\n",
            "    \"fencing_type\": null,\n",
            "    \"landscaping_features\": null,\n",
            "    \"lot_area_sqft\": null,\n",
            "    \"lot_condition_issues\": null,\n",
            "    \"lot_length_feet\": null,\n",
            "    \"lot_type\": null,\n",
            "    \"lot_width_feet\": null,\n",
            "    \"request_identifier\": null,\n",
            "    \"source_http_request\": {},\n",
            "    \"view\": null\n",
            "  },\n",
            "  \"layout\": [\n",
            "    {\n",
            "      \"cabinet_style\": \"Traditional\",\n",
            "      \"clutter_level\": \"None\"...\n",
            "    [DEBUG] Generated JSON structure: ['lot', 'layout', 'structure', 'utility', 'appliance', 'file', 'property']\n",
            "    [→] Found existing main relationship file, merging...\n",
            "    [✔] Updated: bafkreibzrfmqka5h7dnuz7jzilgx4ht5rqcrx3ocl23nger65frbb5hzma.json\n",
            "[TOKENS] Prompt: 12418, Completion: 1161\n",
            "[COST] $0.079505 | Images in batch: 6\n",
            "    [✔] Saved: structure_batch_01_photo_metadata.json\n",
            "    [✔] Saved: lot_batch_01_photo_metadata.json\n",
            "    [✔] Saved: utility_batch_01_photo_metadata.json\n",
            "    [✔] Saved: layout_none_batch_01.json\n",
            "    [✔] Saved: appliance_none_batch_01.json\n",
            "    [→] Found existing main relationship file, merging...\n",
            "    [✔] Updated: bafkreibzrfmqka5h7dnuz7jzilgx4ht5rqcrx3ocl23nger65frbb5hzma.json\n",
            "[TOKENS] Prompt: 15478, Completion: 1187\n",
            "[COST] $0.095195 | Images in batch: 10\n",
            "    [✔] Saved: structure_batch_01_photo_metadata.json\n",
            "    [✔] Saved: lot_batch_01_photo_metadata.json\n",
            "    [✔] Saved: utility_batch_01_photo_metadata.json\n",
            "    [✔] Saved: layout_none_batch_01.json\n",
            "    [✔] Saved: appliance_none_batch_01.json\n",
            "    [→] Found existing main relationship file, merging...\n",
            "    [✔] Updated: bafkreibzrfmqka5h7dnuz7jzilgx4ht5rqcrx3ocl23nger65frbb5hzma.json\n",
            "[TOKENS] Prompt: 9358, Completion: 1176\n",
            "[COST] $0.064430 | Images in batch: 2\n",
            "    [✔] Saved: structure_batch_01_photo_metadata.json\n",
            "    [✔] Saved: lot_batch_01_photo_metadata.json\n",
            "    [✔] Saved: utility_batch_01_photo_metadata.json\n",
            "    [✔] Saved: layout_attached_garage_batch_01.json\n",
            "    [✔] Saved: appliance_none_batch_01.json\n",
            "    [→] Found existing main relationship file, merging...\n",
            "    [✔] Updated: bafkreibzrfmqka5h7dnuz7jzilgx4ht5rqcrx3ocl23nger65frbb5hzma.json\n",
            "[TOKENS] Prompt: 8593, Completion: 1185\n",
            "[COST] $0.060740 | Images in batch: 1\n",
            "    [✔] Saved: structure_batch_01_photo_metadata.json\n",
            "    [✔] Saved: lot_batch_01_photo_metadata.json\n",
            "    [✔] Saved: utility_batch_01_photo_metadata.json\n",
            "    [✔] Saved: layout_laundry_room_batch_01.json\n",
            "    [✔] Saved: appliance_washing_machine_batch_01.json\n",
            "    [→] Found existing main relationship file, merging...\n",
            "    [✔] Updated: bafkreibzrfmqka5h7dnuz7jzilgx4ht5rqcrx3ocl23nger65frbb5hzma.json\n"
          ]
        }
      ],
      "source": [
        "!ai-analyzer --local-folders --all-properties --batch-size 10 --max-workers 12\n",
        "!quality-assessment"
      ]
    },
    {
      "cell_type": "markdown",
      "metadata": {
        "id": "E94jkljYFG9-"
      },
      "source": [
        "## Step 8 Summerizing the data"
      ]
    },
    {
      "cell_type": "markdown",
      "metadata": {
        "id": "1WEPamAD7h4F"
      },
      "source": []
    },
    {
      "cell_type": "code",
      "execution_count": null,
      "metadata": {
        "colab": {
          "base_uri": "https://localhost:8080/"
        },
        "id": "vYi6WZTSFLnX",
        "outputId": "cd1ffbe1-3d30-4581-b802-ebb72b614757"
      },
      "outputs": [
        {
          "name": "stdout",
          "output_type": "stream",
          "text": [
            "🚀 Starting summary for 2 properties: 30434108090030050, 52434205310037080\n",
            "================================================================================\n",
            "\n",
            "============================================================\n",
            "PROCESSING PROPERTY 1/2: 30434108090030050\n",
            "============================================================\n",
            "📊 Analyzing property data from: output/30434108090030050\n",
            "    [DEBUG] Looking for structure file: output/30434108090030050/structure.json\n",
            "    [DEBUG] Structure file not found: output/30434108090030050/structure.json\n",
            "    [DEBUG] Looking for lot file: output/30434108090030050/lot.json\n",
            "    [DEBUG] Lot file not found: output/30434108090030050/lot.json\n",
            "\n",
            "============================================================\n",
            "PROPERTY SUMMARY: 30434108090030050\n",
            "============================================================\n",
            "\n",
            "📋 LAYOUTS (5 total)\n",
            "----------------------------------------\n",
            "Space Types:\n",
            "  • laundry room\n",
            "  • office\n",
            "  • closet\n",
            "  • living room\n",
            "  • dining room\n",
            "  • laundry room: \n",
            "  • office: \n",
            "  • closet: \n",
            "  • living room: \n",
            "  • dining room: \n",
            "\n",
            "🏠 STRUCTURE\n",
            "----------------------------------------\n",
            "  No structure data found\n",
            "\n",
            "🌳 LOT\n",
            "----------------------------------------\n",
            "  No lot data found\n",
            "\n",
            "⚡ UTILITIES\n",
            "----------------------------------------\n",
            "  No utility data found\n",
            "\n",
            "🔌 APPLIANCES (3 total)\n",
            "----------------------------------------\n",
            "Types: refrigerator, oven, microwave, washer, dryer\n",
            "  • refrigerator, oven, microwave\n",
            "  • washer, dryer\n",
            "\n",
            "============================================================\n",
            "\n",
            "================================================================================\n",
            "\n",
            "============================================================\n",
            "PROCESSING PROPERTY 2/2: 52434205310037080\n",
            "============================================================\n",
            "📊 Analyzing property data from: output/52434205310037080\n",
            "    [DEBUG] Looking for structure file: output/52434205310037080/structure.json\n",
            "    [DEBUG] Structure file not found: output/52434205310037080/structure.json\n",
            "    [DEBUG] Looking for lot file: output/52434205310037080/lot.json\n",
            "    [DEBUG] Lot file not found: output/52434205310037080/lot.json\n",
            "\n",
            "============================================================\n",
            "PROPERTY SUMMARY: 52434205310037080\n",
            "============================================================\n",
            "\n",
            "📋 LAYOUTS (6 total)\n",
            "----------------------------------------\n",
            "Space Types:\n",
            "  • patio\n",
            "  • bedroom\n",
            "  • closet\n",
            "  • living room\n",
            "  • bathroom\n",
            "  • patio: \n",
            "  • bedroom: \n",
            "  • bedroom: \n",
            "  • closet: \n",
            "  • living room: \n",
            "  • bathroom: \n",
            "\n",
            "🏠 STRUCTURE\n",
            "----------------------------------------\n",
            "  No structure data found\n",
            "\n",
            "🌳 LOT\n",
            "----------------------------------------\n",
            "  No lot data found\n",
            "\n",
            "⚡ UTILITIES\n",
            "----------------------------------------\n",
            "  No utility data found\n",
            "\n",
            "🔌 APPLIANCES (3 total)\n",
            "----------------------------------------\n",
            "Types: dishwasher, refrigerator\n",
            "  • dishwasher\n",
            "  • refrigerator\n",
            "\n",
            "============================================================\n",
            "\n",
            "================================================================================\n",
            "🎉 COMPLETED: Summarized 2 properties\n",
            "================================================================================\n",
            "  • 30434108090030050: 5 layouts, 3 appliances\n",
            "  • 52434205310037080: 6 layouts, 3 appliances\n"
          ]
        }
      ],
      "source": [
        "\n",
        "!property-summarizer -"
      ]
    },
    {
      "cell_type": "markdown",
      "metadata": {
        "id": "XKHWrLc47vUv"
      },
      "source": [
        "##Step 9 Validate the results"
      ]
    },
    {
      "cell_type": "code",
      "execution_count": null,
      "metadata": {
        "id": "Z33zRmVR7zVn"
      },
      "outputs": [],
      "source": [
        "!fix-submit-local"
      ]
    },
    {
      "cell_type": "code",
      "execution_count": null,
      "metadata": {
        "colab": {
          "base_uri": "https://localhost:8080/"
        },
        "id": "TqkQoqSZqIkf",
        "outputId": "e5d00041-1ad7-4f7f-f249-ccc0f24d2c16"
      },
      "outputs": [
        {
          "name": "stdout",
          "output_type": "stream",
          "text": [
            "Emptied directory: images\n",
            "Emptied directory: output\n",
            "Emptied directory: logs\n"
          ]
        }
      ],
      "source": [
        "# prompt: can u add code to empty images and output and logs folder\n",
        "\n",
        "import os\n",
        "import shutil\n",
        "\n",
        "# Define the directories to empty\n",
        "images_dir = 'images'  # This should match the IMAGES_DIR in your .env file\n",
        "output_dir = 'output'\n",
        "logs_dir = 'logs'\n",
        "\n",
        "# Function to empty a directory\n",
        "def empty_directory(directory_path):\n",
        "  if os.path.exists(directory_path):\n",
        "    for filename in os.listdir(directory_path):\n",
        "        file_path = os.path.join(directory_path, filename)\n",
        "        try:\n",
        "            if os.path.isfile(file_path) or os.path.islink(file_path):\n",
        "                os.unlink(file_path)\n",
        "            elif os.path.isdir(file_path):\n",
        "                shutil.rmtree(file_path)\n",
        "        except Exception as e:\n",
        "            print(f'Failed to delete {file_path}. Reason: {e}')\n",
        "    print(f\"Emptied directory: {directory_path}\")\n",
        "  else:\n",
        "    print(f\"Directory does not exist: {directory_path}\")\n",
        "    # Optionally create the directory if it doesn't exist\n",
        "    # os.makedirs(directory_path, exist_ok=True)\n",
        "\n",
        "\n",
        "# Empty the directories\n",
        "empty_directory(images_dir)\n",
        "empty_directory(output_dir)\n",
        "empty_directory(logs_dir)"
      ]
    },
    {
      "cell_type": "code",
      "execution_count": null,
      "metadata": {
        "colab": {
          "base_uri": "https://localhost:8080/",
          "height": 210,
          "resources": {
            "http://localhost:8080/assets/index-B6yqybFD.js": {
              "data": "",
              "headers": [
                [
                  "content-length",
                  "0"
                ]
              ],
              "ok": false,
              "status": 404,
              "status_text": ""
            },
            "http://localhost:8080/assets/index-CEZzJkS5.js": {
              "data": "",
              "headers": [
                [
                  "content-length",
                  "0"
                ]
              ],
              "ok": false,
              "status": 404,
              "status_text": ""
            },
            "http://localhost:8080/assets/is-plan-event-enabled-DS1Agtkw.js": {
              "data": "",
              "headers": [
                [
                  "content-length",
                  "0"
                ]
              ],
              "ok": false,
              "status": 404,
              "status_text": ""
            }
          }
        },
        "id": "cfqk0NMDyG6L",
        "outputId": "122bc555-8c6f-4424-b8cb-87361d31b9e2"
      },
      "outputs": [
        {
          "ename": "NameError",
          "evalue": "name 'os' is not defined",
          "output_type": "error",
          "traceback": [
            "\u001b[0;31m---------------------------------------------------------------------------\u001b[0m",
            "\u001b[0;31mNameError\u001b[0m                                 Traceback (most recent call last)",
            "\u001b[0;32m/tmp/ipython-input-10-2664096865.py\u001b[0m in \u001b[0;36m<cell line: 0>\u001b[0;34m()\u001b[0m\n\u001b[1;32m      9\u001b[0m \u001b[0;31m# Zip each folder\u001b[0m\u001b[0;34m\u001b[0m\u001b[0;34m\u001b[0m\u001b[0m\n\u001b[1;32m     10\u001b[0m \u001b[0;32mfor\u001b[0m \u001b[0mfolder\u001b[0m \u001b[0;32min\u001b[0m \u001b[0mfolders_to_zip\u001b[0m\u001b[0;34m:\u001b[0m\u001b[0;34m\u001b[0m\u001b[0;34m\u001b[0m\u001b[0m\n\u001b[0;32m---> 11\u001b[0;31m   \u001b[0;32mif\u001b[0m \u001b[0mos\u001b[0m\u001b[0;34m.\u001b[0m\u001b[0mpath\u001b[0m\u001b[0;34m.\u001b[0m\u001b[0mexists\u001b[0m\u001b[0;34m(\u001b[0m\u001b[0mfolder\u001b[0m\u001b[0;34m)\u001b[0m\u001b[0;34m:\u001b[0m\u001b[0;34m\u001b[0m\u001b[0;34m\u001b[0m\u001b[0m\n\u001b[0m\u001b[1;32m     12\u001b[0m     \u001b[0;31m# Create a zip archive of the folder\u001b[0m\u001b[0;34m\u001b[0m\u001b[0;34m\u001b[0m\u001b[0m\n\u001b[1;32m     13\u001b[0m     \u001b[0;31m# The archive name will be the folder name with a .zip extension\u001b[0m\u001b[0;34m\u001b[0m\u001b[0;34m\u001b[0m\u001b[0m\n",
            "\u001b[0;31mNameError\u001b[0m: name 'os' is not defined"
          ]
        }
      ],
      "source": [
        "# prompt: can u write a code that zip output folders\n",
        "\n",
        "# ## Step 9: Zip the output folders\n",
        "# Zip the 'output' and 'logs' folders\n",
        "\n",
        "# Define the folders to zip\n",
        "folders_to_zip = ['output', 'logs']\n",
        "\n",
        "# Zip each folder\n",
        "for folder in folders_to_zip:\n",
        "  if os.path.exists(folder):\n",
        "    # Create a zip archive of the folder\n",
        "    # The archive name will be the folder name with a .zip extension\n",
        "    shutil.make_archive(folder, 'zip', folder)\n",
        "    print(f\"Created zip archive: {folder}.zip\")\n",
        "  else:\n",
        "    print(f\"Folder does not exist, cannot zip: {folder}\")\n",
        "\n",
        "# List the created zip files\n",
        "!ls *.zip"
      ]
    }
  ],
  "metadata": {
    "colab": {
      "provenance": [],
      "include_colab_link": true
    },
    "kernelspec": {
      "display_name": "Python 3",
      "name": "python3"
    },
    "language_info": {
      "name": "python"
    }
  },
  "nbformat": 4,
  "nbformat_minor": 0
}