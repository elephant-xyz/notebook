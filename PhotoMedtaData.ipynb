{
  "nbformat": 4,
  "nbformat_minor": 0,
  "metadata": {
    "colab": {
      "provenance": [],
      "authorship_tag": "ABX9TyPyOsnoOMsnpTqo2sjlZ0yC",
      "include_colab_link": true
    },
    "kernelspec": {
      "name": "python3",
      "display_name": "Python 3"
    },
    "language_info": {
      "name": "python"
    }
  },
  "cells": [
    {
      "cell_type": "markdown",
      "metadata": {
        "id": "view-in-github",
        "colab_type": "text"
      },
      "source": [
        "<a href=\"https://colab.research.google.com/github/elephant-xyz/photo-meta-data-notebook/blob/main/PhotoMedtaData.ipynb\" target=\"_parent\"><img src=\"https://colab.research.google.com/assets/colab-badge.svg\" alt=\"Open In Colab\"/></a>"
      ]
    },
    {
      "cell_type": "markdown",
      "source": [],
      "metadata": {
        "id": "ILCxMc0LIsi-"
      }
    },
    {
      "cell_type": "markdown",
      "source": [
        "## 🔄 Load Existing `.env` File\n",
        "\n",
        "This step will load environment variables from an existing `.env` file already uploaded to the Colab environment.\n",
        "\n",
        "The following variables are expected:\n",
        "\n",
        "| Variable Name           | Purpose                     |\n",
        "|-------------------------|-----------------------------|\n",
        "| `OPENAI_API_KEY`        | Access to OpenAI API        |\n",
        "| `AWS_ACCESS_KEY_ID`     | AWS access key              |\n",
        "| `AWS_SECRET_ACCESS_KEY` | AWS secret access key       |\n",
        "\n",
        "> ✅ Make sure `.env` is present in the file list on the left sidebar.\n",
        "\n",
        "\n",
        "\n"
      ],
      "metadata": {
        "id": "R8Lh8z_QIuBx"
      }
    },
    {
      "cell_type": "code",
      "source": [
        "# Install dotenv support\n",
        "!pip install -q python-dotenv\n",
        "\n",
        "import os\n",
        "from dotenv import load_dotenv\n",
        "\n",
        "# Load the .env file from current directory\n",
        "dotenv_path = \".env\"\n",
        "\n",
        "if os.path.exists(dotenv_path):\n",
        "    load_dotenv(dotenv_path)\n",
        "    print(\"✅ Environment variables loaded.\\n\")\n",
        "\n",
        "    # Check specific keys (without printing sensitive values)\n",
        "    for key in ['OPENAI_API_KEY', 'AWS_ACCESS_KEY_ID', 'AWS_SECRET_ACCESS_KEY']:\n",
        "        val = os.getenv(key)\n",
        "        if val:\n",
        "            print(f\"{key}: ✅ Loaded\")\n",
        "        else:\n",
        "            print(f\"{key}: ❌ Missing or not set in .env\")\n",
        "else:\n",
        "    print(\"❌ `.env` file not found. Please upload it via the file browser.\")\n",
        "\n"
      ],
      "metadata": {
        "colab": {
          "base_uri": "https://localhost:8080/"
        },
        "id": "oAgfERmQPJle",
        "outputId": "4301acd6-e9eb-4f82-f3fe-a34ed1f52520"
      },
      "execution_count": 5,
      "outputs": [
        {
          "output_type": "stream",
          "name": "stdout",
          "text": [
            "✅ Environment variables loaded.\n",
            "\n",
            "OPENAI_API_KEY: ✅ Loaded\n",
            "AWS_ACCESS_KEY_ID: ✅ Loaded\n",
            "AWS_SECRET_ACCESS_KEY: ✅ Loaded\n"
          ]
        }
      ]
    }
  ]
}