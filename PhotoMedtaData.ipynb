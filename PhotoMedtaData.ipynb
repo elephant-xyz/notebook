{
  "nbformat": 4,
  "nbformat_minor": 0,
  "metadata": {
    "colab": {
      "provenance": [],
      "authorship_tag": "ABX9TyM9eoQ+06NEt5FjCLqPvnYY",
      "include_colab_link": true
    },
    "kernelspec": {
      "name": "python3",
      "display_name": "Python 3"
    },
    "language_info": {
      "name": "python"
    }
  },
  "cells": [
    {
      "cell_type": "markdown",
      "metadata": {
        "id": "view-in-github",
        "colab_type": "text"
      },
      "source": [
        "<a href=\"https://colab.research.google.com/github/elephant-xyz/photo-meta-data-notebook/blob/main/PhotoMedtaData.ipynb\" target=\"_parent\"><img src=\"https://colab.research.google.com/assets/colab-badge.svg\" alt=\"Open In Colab\"/></a>"
      ]
    },
    {
      "cell_type": "markdown",
      "source": [],
      "metadata": {
        "id": "ILCxMc0LIsi-"
      }
    },
    {
      "cell_type": "markdown",
      "source": [
        "## 📥 Step 1: Upload the `.env` File\n",
        "\n",
        "This notebook requires a `.env` file that contains your API keys and credentials.  \n",
        "It will be used to securely load the following environment variables:\n",
        "\n",
        "| Variable Name           | Purpose                     |\n",
        "|-------------------------|-----------------------------|\n",
        "| `OPENAI_API_KEY`        | Access to OpenAI API        |\n",
        "| `AWS_ACCESS_KEY_ID`     | AWS access key              |\n",
        "| `AWS_SECRET_ACCESS_KEY` | AWS secret access key       |\n",
        "| `S3_BUCKET_NAME`        | AWS secret access key       |\n",
        "| `IMAGES_DIR`            | Images                      |\n",
        "\n",
        "\n",
        "\n",
        "- Click the **folder icon** 📂 in the left sidebar to open the file browser.\n",
        "- Then click the **\"Upload\"** button and choose your `.env` file.\n",
        "\n",
        "example of .env file\n",
        "\n",
        "OPENAI_API_KEY=sk-XXXXXXXXXXXXXXXXXXXXXXXXXXXX\n",
        "AWS_ACCESS_KEY_ID=XXXXXX\n",
        "AWS_SECRET_ACCESS_KEY=XXXXXX\n",
        "S3_BUCKET_NAME=your-s3-bucket-name-here\n",
        "IMAGES_DIR=images\n"
      ],
      "metadata": {
        "id": "R8Lh8z_QIuBx"
      }
    },
    {
      "cell_type": "markdown",
      "source": [
        "## Step 2: Upload `seed.csv`\n",
        "\n",
        "Upload the `seed.csv` file to the `/content/` directory. This file contains image-level seed data such as metadata, image references, or tagging prompts."
      ],
      "metadata": {
        "id": "4A8fm24ILQ8s"
      }
    },
    {
      "cell_type": "markdown",
      "source": [
        "## Step 3: Upload `upload_results.json`\n",
        "\n",
        "Upload the `upload_results.json` file to the `/content/` directory.\n",
        "\n",
        "> 📌 **Important**: You must generate this file by running **Step 2** of the following Colab notebook:  \n",
        "> 👉 [Upload Images Notebook – Step 2](https://colab.research.google.com/drive/14tSNSP8Pe-mY4VwX9JhXgfyOvzmN3kC0?usp=sharing#scrollTo=OFKp4E49651Z)\n",
        "\n",
        "After running Step 2 in that notebook, download the `upload_results.json` file and upload it to this notebook's `/content/` directory.\n",
        "\n"
      ],
      "metadata": {
        "id": "6Q36E40RNVE3"
      }
    },
    {
      "cell_type": "markdown",
      "source": [
        "test"
      ],
      "metadata": {
        "id": "F000A7O3PtrJ"
      }
    },
    {
      "cell_type": "code",
      "source": [
        "# 1. Install the package\n",
        "!pip install --force-reinstall --no-cache-dir git+https://github.com/elephant-xyz/photo-meta-data-ai.git > /content/install_log.txt 2>&1\n",
        "\n",
        "\n",
        "# 3. Set up folders\n",
        "!folder-setup\n",
        "\n",
        "# 4. Verify folders were created\n",
        "!ls -la /content/images/"
      ],
      "metadata": {
        "id": "yiY6rgFYPvU6"
      },
      "execution_count": null,
      "outputs": []
    },
    {
      "cell_type": "markdown",
      "source": [
        "## Step 4: Upload images with Parcel ID Subfolders\n",
        "\n",
        "Place all image files related to that parcel inside its corresponding folder under IMAGE_FOLDER_NAME=images\n",
        "\n",
        "\n",
        "\n",
        "\n"
      ],
      "metadata": {
        "id": "ojt2s4z6NxC1"
      }
    },
    {
      "cell_type": "markdown",
      "source": [
        "## Step 5: Setup Environmet to process images\n",
        "\n",
        "Place all image files related to that parcel inside its corresponding folder under IMAGE_FOLDER_NAME=images\n"
      ],
      "metadata": {
        "id": "xJo3i5enWo0J"
      }
    },
    {
      "cell_type": "code",
      "source": [
        "!bucket-manager"
      ],
      "metadata": {
        "id": "G2eZfzTpOGV0",
        "colab": {
          "base_uri": "https://localhost:8080/"
        },
        "outputId": "c0cfb626-4ad0-41a3-cbbf-ab41e9dfd13d"
      },
      "execution_count": 17,
      "outputs": [
        {
          "output_type": "stream",
          "name": "stdout",
          "text": [
            "✓ Loaded environment from .env\n",
            "✓ Loaded environment from .env\n",
            "2025-07-22 18:25:36,693 - INFO - S3 Bucket Manager\n",
            "2025-07-22 18:25:36,694 - INFO - ==============================\n",
            "✓ Loaded environment from .env\n",
            "2025-07-22 18:25:36,696 - INFO - \n",
            "1. Authenticating with AWS...\n",
            "2025-07-22 18:25:37,085 - INFO - ✓ AWS S3 authentication successful\n",
            "2025-07-22 18:25:37,085 - INFO - Target bucket: photo-metadata-ai\n",
            "2025-07-22 18:25:37,085 - INFO - \n",
            "2. Ensuring bucket exists...\n",
            "2025-07-22 18:25:37,085 - INFO - Ensuring bucket 'photo-metadata-ai' exists...\n",
            "2025-07-22 18:25:37,271 - INFO - ✓ Bucket 'photo-metadata-ai' exists and is accessible\n",
            "2025-07-22 18:25:37,272 - INFO - \n",
            "🎉 Bucket is ready!\n"
          ]
        }
      ]
    },
    {
      "cell_type": "markdown",
      "source": [
        "## Step 6\n",
        "\n",
        "Categorizing the photos\n"
      ],
      "metadata": {
        "id": "lMRhyNPHYsrY"
      }
    },
    {
      "cell_type": "code",
      "source": [
        "!photo-categorizer"
      ],
      "metadata": {
        "colab": {
          "base_uri": "https://localhost:8080/"
        },
        "id": "8rY0yaxVYx-t",
        "outputId": "a70a1300-4922-4124-d1b5-834a81f6977a"
      },
      "execution_count": 18,
      "outputs": [
        {
          "output_type": "stream",
          "name": "stdout",
          "text": [
            "2025-07-22 18:26:36,267 - INFO - AWS Rekognition Photo Categorizer\n",
            "2025-07-22 18:26:36,267 - INFO - =============================================\n",
            "2025-07-22 18:26:36,267 - INFO - Target S3 Bucket: photo-metadata-ai\n",
            "2025-07-22 18:26:36,267 - INFO - =============================================\n",
            "2025-07-22 18:26:36,267 - INFO - ✓ Found seed.csv\n",
            "2025-07-22 18:26:36,267 - INFO - \n",
            "1. Authenticating with AWS...\n",
            "2025-07-22 18:26:36,268 - ERROR - Error: AWS credentials not found in environment variables!\n",
            "2025-07-22 18:26:36,268 - ERROR - Please set the following environment variables:\n",
            "2025-07-22 18:26:36,268 - ERROR - - AWS_ACCESS_KEY_ID\n",
            "2025-07-22 18:26:36,268 - ERROR - - AWS_SECRET_ACCESS_KEY\n",
            "2025-07-22 18:26:36,268 - ERROR - - AWS_DEFAULT_REGION (optional, defaults to us-east-1)\n"
          ]
        }
      ]
    }
  ]
}