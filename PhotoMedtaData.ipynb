{
  "nbformat": 4,
  "nbformat_minor": 0,
  "metadata": {
    "colab": {
      "provenance": [],
      "authorship_tag": "ABX9TyNoZ3/dF6G+VyvZgtMNwGWv",
      "include_colab_link": true
    },
    "kernelspec": {
      "name": "python3",
      "display_name": "Python 3"
    },
    "language_info": {
      "name": "python"
    }
  },
  "cells": [
    {
      "cell_type": "markdown",
      "metadata": {
        "id": "view-in-github",
        "colab_type": "text"
      },
      "source": [
        "<a href=\"https://colab.research.google.com/github/elephant-xyz/photo-meta-data-notebook/blob/main/PhotoMedtaData.ipynb\" target=\"_parent\"><img src=\"https://colab.research.google.com/assets/colab-badge.svg\" alt=\"Open In Colab\"/></a>"
      ]
    },
    {
      "cell_type": "markdown",
      "source": [],
      "metadata": {
        "id": "ILCxMc0LIsi-"
      }
    },
    {
      "cell_type": "markdown",
      "source": [
        "## 📥 Step 1: Upload the `.env` File\n",
        "\n",
        "This notebook requires a `.env` file that contains your API keys and credentials.  \n",
        "It will be used to securely load the following environment variables:\n",
        "\n",
        "| Variable Name           | Purpose                     |\n",
        "|-------------------------|-----------------------------|\n",
        "| `OPENAI_API_KEY`        | Access to OpenAI API        |\n",
        "| `AWS_ACCESS_KEY_ID`     | AWS access key              |\n",
        "| `AWS_SECRET_ACCESS_KEY` | AWS secret access key       |\n",
        "| `S3_BUCKET_NAME`        | AWS secret access key       |\n",
        "| `IMAGES_DIR`            | Images                      |\n",
        "\n",
        "\n",
        "\n",
        "- Click the **folder icon** 📂 in the left sidebar to open the file browser.\n",
        "- Then click the **\"Upload\"** button and choose your `.env` file.\n",
        "\n",
        "example of .env file\n",
        "\n",
        "OPENAI_API_KEY=sk-XXXXXXXXXXXXXXXXXXXXXXXXXXXX\n",
        "AWS_ACCESS_KEY_ID=XXXXXX\n",
        "AWS_SECRET_ACCESS_KEY=XXXXXX\n",
        "S3_BUCKET_NAME=your-s3-bucket-name-here\n",
        "IMAGES_DIR=images\n"
      ],
      "metadata": {
        "id": "R8Lh8z_QIuBx"
      }
    },
    {
      "cell_type": "markdown",
      "source": [
        "## Step 2: Upload `seed.csv`\n",
        "\n",
        "Upload the `seed.csv` file to the `/content/` directory. This file contains image-level seed data such as metadata, image references, or tagging prompts."
      ],
      "metadata": {
        "id": "4A8fm24ILQ8s"
      }
    },
    {
      "cell_type": "markdown",
      "source": [
        "## Step 3: Upload `upload_results.json`\n",
        "\n",
        "Upload the `upload_results.json` file to the `/content/` directory.\n",
        "\n",
        "> 📌 **Important**: You must generate this file by running **Step 2** of the following Colab notebook:  \n",
        "> 👉 [Upload Images Notebook – Step 2](https://colab.research.google.com/drive/14tSNSP8Pe-mY4VwX9JhXgfyOvzmN3kC0?usp=sharing#scrollTo=OFKp4E49651Z)\n",
        "\n",
        "After running Step 2 in that notebook, download the `upload_results.json` file and upload it to this notebook's `/content/` directory.\n",
        "\n"
      ],
      "metadata": {
        "id": "6Q36E40RNVE3"
      }
    },
    {
      "cell_type": "markdown",
      "source": [
        "test"
      ],
      "metadata": {
        "id": "F000A7O3PtrJ"
      }
    },
    {
      "cell_type": "code",
      "source": [
        "# 1. Install the package\n",
        "!pip install --force-reinstall --no-cache-dir git+https://github.com/elephant-xyz/photo-meta-data-ai.git > /content/install_log.txt 2>&1\n",
        "\n",
        "\n",
        "# 3. Set up folders\n",
        "!folder-setup\n",
        "\n",
        "# 4. Verify folders were created\n",
        "!ls -la /content/images/"
      ],
      "metadata": {
        "colab": {
          "base_uri": "https://localhost:8080/"
        },
        "id": "yiY6rgFYPvU6",
        "outputId": "25d3aa46-0ca7-4142-9a70-b8c3d8e36387"
      },
      "execution_count": 27,
      "outputs": [
        {
          "output_type": "stream",
          "name": "stdout",
          "text": [
            "✓ Loaded environment from .env\n",
            "✓ Loaded seed file: seed.csv\n",
            "  - Rows: 2\n",
            "  - Columns: ['parcel_id', 'Address', 'method', 'headers', 'url', 'multiValueQueryString', 'body', 'json', 'source_identifier', 'County']\n",
            "✓ Created root folder: /content/images\n",
            "Found 2 unique parcel IDs\n",
            "✓ Created folder: 30434108090030050\n",
            "✓ Created folder: 52434205310037080\n",
            "total 24\n",
            "drwxr-xr-x 4 root root  4096 Jul 22 18:14 .\n",
            "drwxr-xr-x 1 root root  4096 Jul 22 18:18 ..\n",
            "drwxr-xr-x 2 root root 12288 Jul 22 18:24 30434108090030050\n",
            "drwxr-xr-x 2 root root  4096 Jul 22 18:23 52434205310037080\n"
          ]
        }
      ]
    },
    {
      "cell_type": "markdown",
      "source": [
        "## Step 4: Upload images with Parcel ID Subfolders\n",
        "\n",
        "Place all image files related to that parcel inside its corresponding folder under IMAGE_FOLDER_NAME=images\n",
        "\n",
        "\n",
        "\n",
        "\n"
      ],
      "metadata": {
        "id": "ojt2s4z6NxC1"
      }
    },
    {
      "cell_type": "markdown",
      "source": [
        "## Step 5: Setup Environmet to process images\n",
        "\n",
        "Place all image files related to that parcel inside its corresponding folder under IMAGE_FOLDER_NAME=images\n"
      ],
      "metadata": {
        "id": "xJo3i5enWo0J"
      }
    },
    {
      "cell_type": "code",
      "source": [
        "!bucket-manager"
      ],
      "metadata": {
        "id": "G2eZfzTpOGV0"
      },
      "execution_count": 28,
      "outputs": []
    },
    {
      "cell_type": "markdown",
      "source": [
        "## Step 6\n",
        "\n",
        "Categorizing the photos\n"
      ],
      "metadata": {
        "id": "lMRhyNPHYsrY"
      }
    },
    {
      "cell_type": "code",
      "source": [
        "!photo-categorizer"
      ],
      "metadata": {
        "colab": {
          "base_uri": "https://localhost:8080/"
        },
        "id": "8rY0yaxVYx-t",
        "outputId": "6e68941c-2710-432c-d14c-8d19ae8e7f2c"
      },
      "execution_count": 29,
      "outputs": [
        {
          "output_type": "stream",
          "name": "stdout",
          "text": [
            "\n",
            "================================================================================\n",
            "📊 COMPREHENSIVE CATEGORIZATION SUMMARY\n",
            "================================================================================\n",
            "\n",
            "🏠 TOTAL PROPERTIES PROCESSED: 2\n",
            "🖼️  TOTAL IMAGES: 203\n",
            "✅ TOTAL CATEGORIZED: 203\n",
            "📈 SUCCESS RATE: 100.0%\n",
            "\n",
            "📁 OVERALL CATEGORY BREAKDOWN:\n",
            "   exterior: 68 images\n",
            "   kitchen: 42 images\n",
            "   living_room: 40 images\n",
            "   bedroom: 20 images\n",
            "   other: 14 images\n",
            "   closet: 6 images\n",
            "   garage: 4 images\n",
            "   pool: 3 images\n",
            "   laundry: 2 images\n",
            "   bathroom: 2 images\n",
            "   dining_room: 2 images\n",
            "\n",
            "🏠 PROPERTY-BY-PROPERTY BREAKDOWN:\n",
            "--------------------------------------------------------------------------------\n",
            "\n",
            "📍 Property: 30434108090030050\n",
            "   Address: 1605 S US HIGHWAY 1 3E,PALM BEACH GARDENS\n",
            "   Total Images: 153\n",
            "   Categorized: 153\n",
            "   Success Rate: 100.0%\n",
            "   Categories:\n",
            "     • exterior: 60 images\n",
            "     • living_room: 30 images\n",
            "     • kitchen: 24 images\n",
            "     • other: 14 images\n",
            "     • bedroom: 12 images\n",
            "     • closet: 4 images\n",
            "     • garage: 4 images\n",
            "     • pool: 3 images\n",
            "     • laundry: 2 images\n",
            "\n",
            "📍 Property: 52434205310037080\n",
            "   Address: 2558 GARDENS PKWY,JUPITER\n",
            "   Total Images: 50\n",
            "   Categorized: 50\n",
            "   Success Rate: 100.0%\n",
            "   Categories:\n",
            "     • kitchen: 18 images\n",
            "     • living_room: 10 images\n",
            "     • exterior: 8 images\n",
            "     • bedroom: 8 images\n",
            "     • bathroom: 2 images\n",
            "     • closet: 2 images\n",
            "     • dining_room: 2 images\n",
            "\n",
            "🏷️  TOP DETECTED LABELS:\n",
            "   • Indoors: 100 times\n",
            "   • Interior Design: 100 times\n",
            "   • Building: 64 times\n",
            "   • Housing: 64 times\n",
            "   • Furniture: 58 times\n",
            "   • Outdoors: 57 times\n",
            "   • Home Decor: 46 times\n",
            "   • Chair: 44 times\n",
            "   • Urban: 38 times\n",
            "   • Lamp: 38 times\n",
            "\n",
            "================================================================================\n"
          ]
        }
      ]
    },
    {
      "cell_type": "markdown",
      "source": [
        "!ai-analyzer\n",
        "# New Section"
      ],
      "metadata": {
        "id": "_WjFtyxwcn2M"
      }
    },
    {
      "cell_type": "markdown",
      "source": [
        "AI ANALYSIS\n"
      ],
      "metadata": {
        "id": "5Jpf0QTQckTj"
      }
    },
    {
      "cell_type": "code",
      "source": [
        "!pip install --force-reinstall --no-cache-dir git+https://github.com/elephant-xyz/photo-meta-data-ai.git > /content/install_log.txt 2>&1\n",
        "\n",
        "!ai-analyzer --local-folders\n"
      ],
      "metadata": {
        "colab": {
          "base_uri": "https://localhost:8080/"
        },
        "id": "67Sqqv2xcurU",
        "outputId": "babadc76-3100-4ed7-98e5-5705cfe2dbc2"
      },
      "execution_count": null,
      "outputs": [
        {
          "output_type": "stream",
          "name": "stdout",
          "text": [
            "✓ AWS S3 authentication successful\n",
            "    [→] Processing batch 1 (5 images)\n",
            "[DEBUG] Starting OpenAI API call for 5 images (attempt 1/3)\n",
            "[DEBUG] Processing 5 images for API call\n",
            "    [→] Processing batch 2 (5 images)\n",
            "[DEBUG] Processing image 1/5: images/30434108090030050/living_room/011-2558GardensPkwy-PalmBeachGardens-FULL.jpg\n",
            "[DEBUG] Starting OpenAI API call for 5 images (attempt 1/3)\n",
            "    [→] Processing batch 3 (4 images)\n",
            "[DEBUG] Processing 5 images for API call\n",
            "[DEBUG] Starting OpenAI API call for 4 images (attempt 1/3)\n",
            "[DEBUG] Processing image 1/5: images/30434108090030050/living_room/027-2558GardensPkwy-PalmBeachGardens-FULL.jpg\n",
            "[DEBUG] Processing 4 images for API call\n",
            "[DEBUG] Processing image 1/4: images/30434108090030050/living_room/017-2558GardensPkwy-PalmBeachGardens-FULL.jpg\n",
            "[DEBUG] Successfully encoded image 1\n",
            "[DEBUG] Processing image 2/5: images/30434108090030050/living_room/015-2558GardensPkwy-PalmBeachGardens-FULL.jpg\n",
            "[DEBUG] Successfully encoded image 1\n",
            "[DEBUG] Successfully encoded image 1\n",
            "[DEBUG] Processing image 2/5: images/30434108090030050/living_room/013-2558GardensPkwy-PalmBeachGardens-FULL.jpg\n",
            "[DEBUG] Processing image 2/4: images/30434108090030050/living_room/018-2558GardensPkwy-PalmBeachGardens-FULL.jpg\n",
            "[DEBUG] Successfully encoded image 2\n",
            "[DEBUG] Processing image 3/5: images/30434108090030050/living_room/069-2558GardensPkwy-PalmBeachGardens-FULL.jpg\n",
            "[DEBUG] Successfully encoded image 2\n",
            "[DEBUG] Processing image 3/5: images/30434108090030050/living_room/047-2558GardensPkwy-PalmBeachGardens-FULL.jpg\n",
            "[DEBUG] Successfully encoded image 2\n",
            "[DEBUG] Processing image 3/4: images/30434108090030050/living_room/016-2558GardensPkwy-PalmBeachGardens-FULL.jpg\n",
            "[DEBUG] Successfully encoded image 3\n",
            "[DEBUG] Processing image 4/4: images/30434108090030050/living_room/012-2558GardensPkwy-PalmBeachGardens-FULL.jpg\n",
            "[DEBUG] Successfully encoded image 3\n",
            "[DEBUG] Successfully encoded image 3\n",
            "[DEBUG] Processing image 4/5: images/30434108090030050/living_room/028-2558GardensPkwy-PalmBeachGardens-FULL.jpg\n",
            "[DEBUG] Processing image 4/5: images/30434108090030050/living_room/010-2558GardensPkwy-PalmBeachGardens-FULL.jpg\n",
            "[DEBUG] Successfully encoded image 4\n",
            "[DEBUG] Sending request to OpenAI API...\n",
            "[DEBUG] Successfully encoded image 4\n",
            "[DEBUG] Processing image 5/5: images/30434108090030050/living_room/049-2558GardensPkwy-PalmBeachGardens-FULL.jpg\n",
            "[DEBUG] Successfully encoded image 4\n",
            "[DEBUG] Processing image 5/5: images/30434108090030050/living_room/025-2558GardensPkwy-PalmBeachGardens-FULL.jpg\n",
            "[DEBUG] Successfully encoded image 5\n",
            "[DEBUG] Sending request to OpenAI API...\n",
            "[DEBUG] Successfully encoded image 5\n",
            "[DEBUG] Sending request to OpenAI API...\n",
            "[DEBUG] Received response from OpenAI API\n",
            "[TOKENS] Prompt: 16101, Completion: 1378\n",
            "[COST] $0.101175 | Images in batch: 4\n",
            "[DEBUG] Parsed JSON result: True\n",
            "[DEBUG] Received response from OpenAI API\n",
            "[TOKENS] Prompt: 17206, Completion: 1302\n",
            "[COST] $0.105560 | Images in batch: 5\n",
            "[DEBUG] Parsed JSON result: True\n",
            "[ERROR] OpenAI API call failed: Request timed out.\n",
            "[DEBUG] API error type: APITimeoutError\n",
            "[ERROR] API failed for batch: 027-2558GardensPkwy-PalmBeachGardens-FULL.jpg, 015-2558GardensPkwy-PalmBeachGardens-FULL.jpg, 069-2558GardensPkwy-PalmBeachGardens-FULL.jpg, 028-2558GardensPkwy-PalmBeachGardens-FULL.jpg, 025-2558GardensPkwy-PalmBeachGardens-FULL.jpg\n",
            "Reason: Request timed out.\n",
            "[DEBUG] Exception type: APITimeoutError\n",
            "[DEBUG] Retrying in 2 seconds... (attempt 1/3)\n",
            "[DEBUG] Starting OpenAI API call for 5 images (attempt 2/3)\n",
            "[DEBUG] Processing 5 images for API call\n",
            "[DEBUG] Processing image 1/5: images/30434108090030050/living_room/027-2558GardensPkwy-PalmBeachGardens-FULL.jpg\n",
            "[DEBUG] Successfully encoded image 1\n",
            "[DEBUG] Processing image 2/5: images/30434108090030050/living_room/015-2558GardensPkwy-PalmBeachGardens-FULL.jpg\n",
            "[DEBUG] Successfully encoded image 2\n",
            "[DEBUG] Processing image 3/5: images/30434108090030050/living_room/069-2558GardensPkwy-PalmBeachGardens-FULL.jpg\n",
            "[DEBUG] Successfully encoded image 3\n",
            "[DEBUG] Processing image 4/5: images/30434108090030050/living_room/028-2558GardensPkwy-PalmBeachGardens-FULL.jpg\n",
            "[DEBUG] Successfully encoded image 4\n",
            "[DEBUG] Processing image 5/5: images/30434108090030050/living_room/025-2558GardensPkwy-PalmBeachGardens-FULL.jpg\n",
            "[DEBUG] Successfully encoded image 5\n",
            "[DEBUG] Sending request to OpenAI API...\n",
            "[ERROR] OpenAI API call failed: Request timed out.\n",
            "[DEBUG] API error type: APITimeoutError\n",
            "[ERROR] API failed for batch: 027-2558GardensPkwy-PalmBeachGardens-FULL.jpg, 015-2558GardensPkwy-PalmBeachGardens-FULL.jpg, 069-2558GardensPkwy-PalmBeachGardens-FULL.jpg, 028-2558GardensPkwy-PalmBeachGardens-FULL.jpg, 025-2558GardensPkwy-PalmBeachGardens-FULL.jpg\n",
            "Reason: Request timed out.\n",
            "[DEBUG] Exception type: APITimeoutError\n",
            "[DEBUG] Retrying in 4 seconds... (attempt 2/3)\n",
            "[DEBUG] Starting OpenAI API call for 5 images (attempt 3/3)\n",
            "[DEBUG] Processing 5 images for API call\n",
            "[DEBUG] Processing image 1/5: images/30434108090030050/living_room/027-2558GardensPkwy-PalmBeachGardens-FULL.jpg\n",
            "[DEBUG] Successfully encoded image 1\n",
            "[DEBUG] Processing image 2/5: images/30434108090030050/living_room/015-2558GardensPkwy-PalmBeachGardens-FULL.jpg\n",
            "[DEBUG] Successfully encoded image 2\n",
            "[DEBUG] Processing image 3/5: images/30434108090030050/living_room/069-2558GardensPkwy-PalmBeachGardens-FULL.jpg\n",
            "[DEBUG] Successfully encoded image 3\n",
            "[DEBUG] Processing image 4/5: images/30434108090030050/living_room/028-2558GardensPkwy-PalmBeachGardens-FULL.jpg\n",
            "[DEBUG] Successfully encoded image 4\n",
            "[DEBUG] Processing image 5/5: images/30434108090030050/living_room/025-2558GardensPkwy-PalmBeachGardens-FULL.jpg\n",
            "[DEBUG] Successfully encoded image 5\n",
            "[DEBUG] Sending request to OpenAI API...\n"
          ]
        }
      ]
    },
    {
      "cell_type": "code",
      "source": [],
      "metadata": {
        "id": "2_vNs7DTew4K"
      },
      "execution_count": null,
      "outputs": []
    }
  ]
}