{
  "nbformat": 4,
  "nbformat_minor": 0,
  "metadata": {
    "colab": {
      "provenance": [],
      "include_colab_link": true
    },
    "kernelspec": {
      "name": "python3",
      "display_name": "Python 3"
    },
    "language_info": {
      "name": "python"
    }
  },
  "cells": [
    {
      "cell_type": "markdown",
      "metadata": {
        "id": "view-in-github",
        "colab_type": "text"
      },
      "source": [
        "<a href=\"https://colab.research.google.com/github/elephant-xyz/notebook/blob/main/Mining_Seed.ipynb\" target=\"_parent\"><img src=\"https://colab.research.google.com/assets/colab-badge.svg\" alt=\"Open In Colab\"/></a>"
      ]
    },
    {
      "cell_type": "markdown",
      "source": [
        "#Seed Mining process"
      ],
      "metadata": {
        "id": "Nb6RMel1hsOf"
      }
    },
    {
      "cell_type": "code",
      "source": [
        "# @title Step 1: Upload .env"
      ],
      "metadata": {
        "cellView": "form",
        "id": "M33uVv5wtJtI"
      },
      "execution_count": null,
      "outputs": []
    },
    {
      "cell_type": "code",
      "source": [
        "# @title Step 2: Prepare\n",
        "# @title  {\"vertical-output\":true}\n",
        "\n",
        "import csv\n",
        "import json\n",
        "import os\n",
        "from urllib.parse import urlparse, parse_qs\n",
        "\n",
        "parcel_id = \"30434108090030050\" # @param {\"type\":\"string\"}\n",
        "address = \"1605 S US highway 1 3E, Jupiter, FL 33477\" # @param {\"type\":\"string\"}\n",
        "request_method = \"GET\" # @param {\"type\":\"string\"}\n",
        "url = \"https://pbcpao.gov/Property/Details?parcelId=30434108090030050\" # @param {\"type\":\"string\"}\n",
        "County = \"palm beach\" # @param {\"type\":\"string\"}\n",
        "headers = \"\" # @param {\"type\":\"string\"}\n",
        "json_body = \"\" # @param {\"type\":\"string\"}\n",
        "\n",
        "fieldnames = [\n",
        "    \"parcel_id\",\n",
        "    \"address\",\n",
        "    \"method\",\n",
        "    \"url\",\n",
        "    \"multiValueQueryString\",\n",
        "    \"county\",\n",
        "    \"json\",\n",
        "    \"headers\",\n",
        "    \"source_identifier\",\n",
        "]\n",
        "\n",
        "\n",
        "def extract_base_url_and_params(url):\n",
        "    parsed = urlparse(url)\n",
        "    base_url = f\"{parsed.scheme}://{parsed.netloc}{parsed.path}\"\n",
        "\n",
        "    # Always store params as lists\n",
        "    params = {}\n",
        "    if parsed.query:\n",
        "        for k, v in parse_qs(parsed.query, keep_blank_values=True).items():\n",
        "            params[k] = v  # always a list\n",
        "\n",
        "    # Include fragment in base_url; also parse ?query that might be inside the fragment\n",
        "    if parsed.fragment:\n",
        "        frag_path, _, frag_query = parsed.fragment.partition('?')\n",
        "        # Keep the path-like part of the fragment in the base URL\n",
        "        base_url = f\"{base_url}#{frag_path}\" if frag_path else f\"{base_url}#\"\n",
        "\n",
        "        if frag_query:\n",
        "            for k, v in parse_qs(frag_query, keep_blank_values=True).items():\n",
        "                if k in params:\n",
        "                    # Merge with existing values\n",
        "                    params[k].extend(v)\n",
        "                else:\n",
        "                    params[k] = v  # always a list\n",
        "\n",
        "    return base_url, params\n",
        "\n",
        "\n",
        "def process_input_data():\n",
        "  base_url, params = extract_base_url_and_params(url)\n",
        "\n",
        "  row = {\n",
        "      \"parcel_id\": parcel_id,\n",
        "      \"address\": address,\n",
        "      \"method\": request_method,\n",
        "      \"url\": base_url,\n",
        "      # Important: multiValueQueryString must be JSON string with array values\n",
        "      \"multiValueQueryString\": json.dumps(params, ensure_ascii=False) if params else \"\",\n",
        "      \"county\": County,\n",
        "      \"json\": json_body,\n",
        "      \"headers\": headers,\n",
        "      \"source_identifier\": parcel_id,\n",
        "  }\n",
        "\n",
        "\n",
        "\n",
        "  with open(\"seed.csv\", \"w\", newline=\"\", encoding=\"utf-8\") as f:\n",
        "      writer = csv.DictWriter(f, fieldnames=fieldnames)\n",
        "      writer.writeheader()\n",
        "      writer.writerow(row)\n",
        "\n",
        "\n",
        "process_input_data()\n",
        "print(f\"✅ Prepare done for parcel ID {parcel_id}\")\n"
      ],
      "metadata": {
        "cellView": "form",
        "id": "poWZ3I6pcFuN",
        "outputId": "ad26a61d-1154-47f7-8218-6f9e9d4de973",
        "colab": {
          "base_uri": "https://localhost:8080/"
        }
      },
      "execution_count": 73,
      "outputs": [
        {
          "output_type": "stream",
          "name": "stdout",
          "text": [
            "✅ Prepare done for parcel ID 30434108090030050\n"
          ]
        }
      ]
    },
    {
      "cell_type": "code",
      "source": [
        "# @title Step 2: Transform\n",
        "! pip3 install python-dotenv -q\n",
        "\n",
        "from dotenv import load_dotenv\n",
        "load_dotenv()\n",
        "\n",
        "import subprocess\n",
        "import sys\n",
        "import csv\n",
        "import os\n",
        "\n",
        "\n",
        "def has_submit_errors(path=\"submit_errors.csv\"):\n",
        "    if not os.path.exists(path):\n",
        "      return False\n",
        "    with open(path, newline='', encoding='utf-8') as csvfile:\n",
        "        reader = csv.DictReader(csvfile)\n",
        "        return next(reader, None) is not None\n",
        "\n",
        "\n",
        "def run_transform():\n",
        "    try:\n",
        "        subprocess.run(\n",
        "            [\n",
        "              \"npx\", \"-y\", \"@elephant-xyz/cli@latest\", \"transform\",\n",
        "              \"--group\", \"seed\",\n",
        "              \"--input-csv\", \"seed.csv\",\n",
        "              \"--output-zip\", \"transformed_seed.zip\",\n",
        "            ],\n",
        "            stdout=subprocess.DEVNULL,\n",
        "            stderr=subprocess.PIPE,\n",
        "            check=True,\n",
        "            text=True,\n",
        "        )\n",
        "        if has_submit_errors():\n",
        "            print(\"❌ Transform failed, please check submit_errors.csv for details\", file=sys.stderr)\n",
        "            return\n",
        "\n",
        "        print(\"✅ Transform done\\n\")\n",
        "\n",
        "    except subprocess.CalledProcessError as e:\n",
        "        print(f\"Command failed (exit code {e.returncode}):\", file=sys.stderr)\n",
        "        print(e.stderr.strip(), file=sys.stderr)\n",
        "        sys.exit(e.returncode)\n",
        "\n",
        "\n",
        "if __name__ == \"__main__\":\n",
        "    run_transform()\n",
        "\n"
      ],
      "metadata": {
        "id": "tJgsRHXQnaWY",
        "outputId": "c3a82532-c418-482d-9104-306b3e612f31",
        "colab": {
          "base_uri": "https://localhost:8080/"
        },
        "cellView": "form"
      },
      "execution_count": 74,
      "outputs": [
        {
          "output_type": "stream",
          "name": "stdout",
          "text": [
            "✅ Transform done\n",
            "\n"
          ]
        }
      ]
    },
    {
      "cell_type": "code",
      "source": [
        "# @title Step 3: Validate\n",
        "!pip3 install python-dotenv -q\n",
        "\n",
        "from dotenv import load_dotenv\n",
        "load_dotenv()\n",
        "\n",
        "import subprocess\n",
        "import sys\n",
        "import csv\n",
        "\n",
        "\n",
        "def has_submit_errors(path=\"submit_errors.csv\"):\n",
        "    with open(path, newline='', encoding='utf-8') as csvfile:\n",
        "        reader = csv.DictReader(csvfile)\n",
        "        return next(reader, None) is not None\n",
        "\n",
        "\n",
        "def run_validate():\n",
        "    try:\n",
        "        subprocess.run(\n",
        "            [\"npx\", \"-y\", \"@elephant-xyz/cli@latest\", \"validate\", \"transformed_seed.zip\"],\n",
        "            stdout=subprocess.DEVNULL,\n",
        "            stderr=subprocess.PIPE,\n",
        "            check=True,\n",
        "            text=True,\n",
        "        )\n",
        "        if has_submit_errors():\n",
        "            print(\"❌ Validate failed, please check submit_errors.csv for details\", file=sys.stderr)\n",
        "            return\n",
        "\n",
        "        # seed_group_cid, html_link = get_seed_cid_and_html_link()\n",
        "        print(\"✅ Validate done\\n\")\n",
        "        # print(f\"Seed group CID: {seed_group_cid}\\n\")\n",
        "        # print(f\"HTML link: {html_link}\")\n",
        "\n",
        "    except subprocess.CalledProcessError as e:\n",
        "        # обробка помилок виконання команди\n",
        "        print(f\"Command failed (exit code {e.returncode}):\", file=sys.stderr)\n",
        "        print(e.stderr.strip(), file=sys.stderr)\n",
        "        sys.exit(e.returncode)\n",
        "\n",
        "\n",
        "if __name__ == \"__main__\":\n",
        "    run_validate()\n"
      ],
      "metadata": {
        "id": "ltOsEcx1vTP3",
        "cellView": "form",
        "outputId": "baf165e7-58ad-4969-ddaf-127233d2cc79",
        "colab": {
          "base_uri": "https://localhost:8080/"
        }
      },
      "execution_count": 76,
      "outputs": [
        {
          "output_type": "stream",
          "name": "stdout",
          "text": [
            "✅ Validate done\n",
            "\n"
          ]
        }
      ]
    },
    {
      "cell_type": "code",
      "source": [
        "# @title Step 4: Hash\n",
        "!pip3 install python-dotenv -q\n",
        "\n",
        "from dotenv import load_dotenv\n",
        "load_dotenv()\n",
        "\n",
        "import subprocess\n",
        "import sys\n",
        "import csv\n",
        "\n",
        "\n",
        "def has_submit_errors(path=\"submit_errors.csv\"):\n",
        "    with open(path, newline='', encoding='utf-8') as csvfile:\n",
        "        reader = csv.DictReader(csvfile)\n",
        "        return next(reader, None) is not None\n",
        "\n",
        "\n",
        "def get_seed_cid(path=\"seed-results.csv\"):\n",
        "    with open(path, newline='', encoding='utf-8') as csvfile:\n",
        "        reader = csv.DictReader(csvfile)\n",
        "        first_row = next(reader, None)\n",
        "        if first_row is None:\n",
        "            raise ValueError(\"CSV file is empty\")\n",
        "        return first_row[\"propertyCid\"]\n",
        "\n",
        "\n",
        "def run_hash():\n",
        "    try:\n",
        "        subprocess.run(\n",
        "            [\n",
        "                \"npx\", \"-y\", \"@elephant-xyz/cli@latest\",\n",
        "                \"hash\", \"transformed_seed.zip\",\n",
        "                \"--output-zip\", \"hashed-data.zip\",\n",
        "                \"--output-csv\", \"seed-results.csv\",\n",
        "            ],\n",
        "            stdout=subprocess.DEVNULL,\n",
        "            stderr=subprocess.PIPE,\n",
        "            check=True,\n",
        "            text=True,\n",
        "        )\n",
        "        if has_submit_errors():\n",
        "            print(\"❌ Validate failed, please check submit_errors.csv for details\", file=sys.stderr)\n",
        "            return\n",
        "\n",
        "        seed_group_cid = get_seed_cid()\n",
        "        print(\"✅ Hash done\\n\")\n",
        "        print(f\"Seed group CID: {seed_group_cid}\\n\")\n",
        "\n",
        "    except subprocess.CalledProcessError as e:\n",
        "        print(f\"Command failed (exit code {e.returncode}):\", file=sys.stderr)\n",
        "        print(e.stderr.strip(), file=sys.stderr)\n",
        "        sys.exit(e.returncode)\n",
        "\n",
        "\n",
        "if __name__ == \"__main__\":\n",
        "    run_hash()\n",
        "\n"
      ],
      "metadata": {
        "cellView": "form",
        "id": "1xk2hlPQQg90",
        "outputId": "ef51e509-1c0c-4f79-925e-54c3912d342b",
        "colab": {
          "base_uri": "https://localhost:8080/"
        }
      },
      "execution_count": 78,
      "outputs": [
        {
          "output_type": "stream",
          "name": "stdout",
          "text": [
            "✅ Hash done\n",
            "\n",
            "Seed group CID: bafkreihiv4uckbipzcefd6mxmf3mf2hrqd7raugb33drbehdcdg5dgdmo4\n",
            "\n"
          ]
        }
      ]
    },
    {
      "cell_type": "code",
      "source": [
        "# @title Step 5: Upload\n",
        "! pip3 install python-dotenv requests -q\n",
        "\n",
        "from dotenv import load_dotenv\n",
        "load_dotenv()\n",
        "\n",
        "import subprocess\n",
        "import sys\n",
        "import csv\n",
        "\n",
        "import requests\n",
        "\n",
        "\n",
        "def get_seed_info(path=\"seed-results.csv\"):\n",
        "    with open(path, newline='', encoding='utf-8') as csvfile:\n",
        "        reader = csv.DictReader(csvfile)\n",
        "        first_row = next(reader, None)\n",
        "        if first_row is None:\n",
        "            raise ValueError(\"CSV file is empty\")\n",
        "        return first_row\n",
        "\n",
        "\n",
        "def has_submit_errors(path=\"submit_errors.csv\"):\n",
        "    with open(path, newline='', encoding='utf-8') as csvfile:\n",
        "        reader = csv.DictReader(csvfile)\n",
        "        return next(reader, None) is not None\n",
        "\n",
        "\n",
        "def count_uploaded_files(output_dir=\"output\"):\n",
        "    \"\"\"\n",
        "    Count all files recursively in the output directory and its subdirectories.\n",
        "    \"\"\"\n",
        "    if not os.path.exists(output_dir):\n",
        "        return 0\n",
        "\n",
        "    file_count = 0\n",
        "    for root, dirs, files in os.walk(output_dir):\n",
        "        file_count += len(files)\n",
        "    return file_count\n",
        "\n",
        "\n",
        "def collect_data_ipfs_links(data_cid):\n",
        "  seed_data_link = f\"https://ipfs.io/ipfs/{data_cid}\"\n",
        "\n",
        "  seed_data = requests.get(seed_data_link).json()\n",
        "\n",
        "  property_seed_cid = seed_data[\"relationships\"][\"property_seed\"][\"/\"]\n",
        "  property_seed_link = f\"https://ipfs.io/ipfs/{property_seed_cid}\"\n",
        "\n",
        "  property_seed_data = requests.get(property_seed_link).json()\n",
        "\n",
        "  property_cid, address_cid = property_seed_data[\"from\"][\"/\"], property_seed_data[\"to\"][\"/\"]\n",
        "\n",
        "  property_link = f\"https://ipfs.io/ipfs/{property_cid}\"\n",
        "  address_link = f\"https://ipfs.io/ipfs/{address_cid}\"\n",
        "\n",
        "  return seed_data_link, property_seed_link, property_link, address_link\n",
        "\n",
        "\n",
        "def run_validate_and_upload():\n",
        "    try:\n",
        "        subprocess.run(\n",
        "            [\"npx\", \"-y\", \"@elephant-xyz/cli@latest\", \"upload\", \"hashed-data.zip\", \"--output-csv\", \"seed-results.csv\"],\n",
        "            stdout=subprocess.DEVNULL,\n",
        "            stderr=subprocess.PIPE,\n",
        "            check=True,\n",
        "            text=True,\n",
        "        )\n",
        "        if has_submit_errors():\n",
        "            print(\"❌ Validate failed, please check submit_errors.csv for details\", file=sys.stderr)\n",
        "            return\n",
        "\n",
        "        seed_info = get_seed_info()\n",
        "        seed_group_cid, data_cid, html_link = seed_info[\"dataGroupCid\"], seed_info[\"dataCid\"], seed_info[\"htmlLink\"]\n",
        "\n",
        "        files_uploaded = count_uploaded_files()\n",
        "\n",
        "        data_ipfs_links = collect_data_ipfs_links(data_cid)\n",
        "        seed_group_link, property_seed_link, property_link, address_link = data_ipfs_links\n",
        "\n",
        "        print(\"✅ Upload done\\n\")\n",
        "        print(f\"{files_uploaded} files uploaded\\n\")\n",
        "\n",
        "        print(f\"Seed group CID: {seed_group_cid}\\n\")\n",
        "        print(f\"HTML link: {html_link}\\n\")\n",
        "\n",
        "        print(f\"Seed group IPFS link: {seed_group_link}\")\n",
        "        print(f\"relationship IPFS link: {property_seed_link}\")\n",
        "        print(f\"property_seed IPFS link: {property_link}\")\n",
        "        print(f\"unnormalized_address IPFS link: {address_link}\")\n",
        "\n",
        "\n",
        "        print(\"✅ Upload done\\n\")\n",
        "\n",
        "    except subprocess.CalledProcessError as e:\n",
        "        print(f\"Command failed (exit code {e.returncode}):\", file=sys.stderr)\n",
        "        print(e.stderr.strip(), file=sys.stderr)\n",
        "        sys.exit(e.returncode)\n",
        "\n",
        "\n",
        "if __name__ == \"__main__\":\n",
        "    run_validate_and_upload()\n"
      ],
      "metadata": {
        "id": "hkMq9hFt0RTN",
        "outputId": "61b794da-8f7f-403d-ceb8-931b513ce64b",
        "colab": {
          "base_uri": "https://localhost:8080/"
        },
        "cellView": "form"
      },
      "execution_count": 79,
      "outputs": [
        {
          "output_type": "stream",
          "name": "stdout",
          "text": [
            "✅ Upload done\n",
            "\n",
            "4 files uploaded\n",
            "\n",
            "Seed group CID: bafkreigunndqeelkiucy5mbwnjfpwqryie3xddchp2r6ja7qxofp74mifm\n",
            "\n",
            "HTML link: https://ipfs.io/ipfs/bafybeigscsggt6bq3kww2bpwfyyokkdyikbdwbadyrdewnmuedricaw4ri\n",
            "\n",
            "Seed group IPFS link: https://ipfs.io/ipfs/bafkreihiv4uckbipzcefd6mxmf3mf2hrqd7raugb33drbehdcdg5dgdmo4\n",
            "relationship IPFS link: https://ipfs.io/ipfs/bafkreigacxivvzfdbwg7lexvu67tgkl76gcfzcql2vlscmbyqm4t43fcpe\n",
            "property_seed IPFS link: https://ipfs.io/ipfs/bafkreiawsrtadbrmno7guioh75ivlgmiscbvocsoz4voc5zl2n62c3va4m\n",
            "unnormalized_address IPFS link: https://ipfs.io/ipfs/bafkreig45uumuublszfnm2w267jbxsurrhuivd2mnmilact4fyutpal4de\n",
            "✅ Upload done\n",
            "\n"
          ]
        }
      ]
    },
    {
      "cell_type": "code",
      "source": [
        "# @title Step 6: Submit\n",
        "\n",
        "! pip3 install python-dotenv -q\n",
        "\n",
        "from dotenv import load_dotenv\n",
        "load_dotenv()\n",
        "\n",
        "import subprocess\n",
        "import sys\n",
        "import csv\n",
        "\n",
        "\n",
        "def get_transaction_hash(path=\"transaction-status.csv\"):\n",
        "    with open(path, newline='', encoding='utf-8') as csvfile:\n",
        "        reader = csv.DictReader(csvfile)\n",
        "        first_row = next(reader, None)\n",
        "        if first_row is None:\n",
        "            raise ValueError(\"CSV file is empty\")\n",
        "        return first_row[\"transactionHash\"]\n",
        "\n",
        "\n",
        "def has_submit_errors(path=\"submit_errors.csv\"):\n",
        "    with open(path, newline='', encoding='utf-8') as csvfile:\n",
        "        reader = csv.DictReader(csvfile)\n",
        "        return next(reader, None) is not None\n",
        "\n",
        "\n",
        "def run_submit_to_contract():\n",
        "    try:\n",
        "        subprocess.run(\n",
        "            [\n",
        "                \"npx\", \"-y\", \"@elephant-xyz/cli@latest\", \"submit-to-contract\", \"seed-results.csv\",\n",
        "                \"--from-address\", \"0xefAd08946612A15d5De8D4Db7fc03556b6424075\",\n",
        "                \"--api-key\", \"f7e18cf6-5d07-4e4a-ae23-f27b812614e6\",\n",
        "                \"--domain\", \"oracles-69c46050.staircaseapi.com\",\n",
        "                \"--oracle-key-id\", \"7ad26e0b-67c9-4c2f-95a2-2792c7db5ac7\",\n",
        "            ],\n",
        "            stdout=subprocess.DEVNULL,\n",
        "            stderr=subprocess.PIPE,\n",
        "            check=True,\n",
        "            text=True,\n",
        "        )\n",
        "        if has_submit_errors():\n",
        "            print(\"❌ Submit failed, please check submit_errors.csv for details\", file=sys.stderr)\n",
        "            return\n",
        "\n",
        "        transaction_hash = get_transaction_hash()\n",
        "        transaction_link = f\"https://polygonscan.com/tx/{transaction_hash}\"\n",
        "\n",
        "        print(\"✅ Submit done\\n\")\n",
        "        print(f\"Transaction link: {transaction_link}\")\n",
        "\n",
        "    except subprocess.CalledProcessError as e:\n",
        "        print(f\"Command failed (exit code {e.returncode}):\", file=sys.stderr)\n",
        "        print(e.stderr.strip(), file=sys.stderr)\n",
        "        sys.exit(e.returncode)\n",
        "\n",
        "\n",
        "if __name__ == \"__main__\":\n",
        "    run_submit_to_contract()\n"
      ],
      "metadata": {
        "id": "5xqZFjtbB7mc",
        "cellView": "form",
        "outputId": "7eb27340-4030-4e22-83b6-ca82d525325e",
        "colab": {
          "base_uri": "https://localhost:8080/"
        }
      },
      "execution_count": null,
      "outputs": [
        {
          "output_type": "stream",
          "name": "stdout",
          "text": [
            "✅ Submit done\n",
            "\n",
            "Transaction link: https://polygonscan.com/tx/0x07b662cf78ce10fda3409efcf0b1cec2ec5473709fc4fc4cc5fc3e8228941532\n"
          ]
        }
      ]
    },
    {
      "cell_type": "code",
      "source": [
        "# @title Step 6: Construct seed_output.zip and Download it\n",
        "!mkdir -p transformed_seed\n",
        "!unzip -q transformed_seed.zip -d transformed_seed\n",
        "\n",
        "!mkdir -p seed_output\n",
        "!cp ./transformed_seed/*/property_seed.json ./transformed_seed/*/unnormalized_address.json ./seed-results.csv ./seed.csv seed_output/\n",
        "!zip -q -r seed_output.zip seed_output\n",
        "\n",
        "\n",
        "import os; from google.colab import files; (files.download('seed_output.zip'), print(\"✅ File was downloaded successfully\"))[1] if os.path.exists('seed_output.zip') else print(\"❌ File not found\")\n"
      ],
      "metadata": {
        "id": "jitWJsX2L9tr",
        "outputId": "a68ee053-8231-42d9-98d2-963f860b1839",
        "colab": {
          "base_uri": "https://localhost:8080/",
          "height": 34
        },
        "cellView": "form"
      },
      "execution_count": null,
      "outputs": [
        {
          "output_type": "display_data",
          "data": {
            "text/plain": [
              "<IPython.core.display.Javascript object>"
            ],
            "application/javascript": [
              "\n",
              "    async function download(id, filename, size) {\n",
              "      if (!google.colab.kernel.accessAllowed) {\n",
              "        return;\n",
              "      }\n",
              "      const div = document.createElement('div');\n",
              "      const label = document.createElement('label');\n",
              "      label.textContent = `Downloading \"${filename}\": `;\n",
              "      div.appendChild(label);\n",
              "      const progress = document.createElement('progress');\n",
              "      progress.max = size;\n",
              "      div.appendChild(progress);\n",
              "      document.body.appendChild(div);\n",
              "\n",
              "      const buffers = [];\n",
              "      let downloaded = 0;\n",
              "\n",
              "      const channel = await google.colab.kernel.comms.open(id);\n",
              "      // Send a message to notify the kernel that we're ready.\n",
              "      channel.send({})\n",
              "\n",
              "      for await (const message of channel.messages) {\n",
              "        // Send a message to notify the kernel that we're ready.\n",
              "        channel.send({})\n",
              "        if (message.buffers) {\n",
              "          for (const buffer of message.buffers) {\n",
              "            buffers.push(buffer);\n",
              "            downloaded += buffer.byteLength;\n",
              "            progress.value = downloaded;\n",
              "          }\n",
              "        }\n",
              "      }\n",
              "      const blob = new Blob(buffers, {type: 'application/binary'});\n",
              "      const a = document.createElement('a');\n",
              "      a.href = window.URL.createObjectURL(blob);\n",
              "      a.download = filename;\n",
              "      div.appendChild(a);\n",
              "      a.click();\n",
              "      div.remove();\n",
              "    }\n",
              "  "
            ]
          },
          "metadata": {}
        },
        {
          "output_type": "display_data",
          "data": {
            "text/plain": [
              "<IPython.core.display.Javascript object>"
            ],
            "application/javascript": [
              "download(\"download_449ffbe3-4451-4bc2-9f5a-b79361115c2f\", \"seed_output.zip\", 1753)"
            ]
          },
          "metadata": {}
        },
        {
          "output_type": "stream",
          "name": "stdout",
          "text": [
            "✅ File was downloaded successfully\n"
          ]
        }
      ]
    }
  ]
}